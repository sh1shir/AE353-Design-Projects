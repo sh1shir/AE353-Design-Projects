{
 "cells": [
  {
   "cell_type": "markdown",
   "id": "f6bd5103-056e-424a-ad6a-7d560b63baad",
   "metadata": {},
   "source": [
    "# AE353 DP3 - Star Tracker Observer and Controller\n",
    "\n",
    "Authors: Shishir Bhatta, Aerospace Engineering Undergraduate Student at University of Illinois Urbana-Champaign\n",
    "Matt Pactol, Aerospace Engineering Undergraduate Student at University of Illinois Urbana-Champaign"
   ]
  },
  {
   "cell_type": "markdown",
   "id": "499ca395-560b-4af1-9543-d78e6ea173f8",
   "metadata": {},
   "source": [
    "The purpose of this report is to create a controller for a spacecraft that has a star tracker that tracks a group of stars by keeping them in view of a camera. The star tracker is a sensor that has a camera that measures the position of each star. The position of the stars with respect to where the stars should be located in the view of the camera helps us determine the angular position and velocities of the spacecraft. There are various disturbances such as debris, that cause the spacecraft to change trajectory, and the controller should readjust the tracker to keep the stars in the view of the camera. The spacecraft moves in 3 angular directions: roll, pitch, yaw. It moves by actuating 4 reaction wheels that act as momentum exchange devices to adjust the direction the spacecraft is rotating in. In order to come up with a valid controller and observer, we used LQR and determined valid gain matrices to create a system that passed our requirements. "
   ]
  },
  {
   "cell_type": "markdown",
   "id": "fc9282c0-c0c1-435d-bae2-0d3ccb534242",
   "metadata": {},
   "source": [
    "Celestial Navigation is an age-old system to determine the positioning of something. By using a pre-determined positionining of celestial bodies, by comparing the positions of the bodies at the moment to where they \"should\" be. This method is used on our spacecraft to determine it's angular position and velocity of the spacecraft. Given a pre-determined pattern of the stars and their positions, the star tracker determines the difference between the current positioning of the star and the pre-determined positions, we can find the positions and velocities of the spacecraft. This is a common method used for small satellites. The project we have been assigned uses a similar star tracker, and we are tasked with creatign a controller and observer model for this system.  "
   ]
  },
  {
   "cell_type": "markdown",
   "id": "a62c9753-fd8c-4801-a94c-7a47ac5b8b1f",
   "metadata": {},
   "source": [
    "## System Linearization and State Space Form"
   ]
  },
  {
   "cell_type": "code",
   "execution_count": 152,
   "id": "c237afb3-9261-45f5-8ed8-3f8fb44b976c",
   "metadata": {},
   "outputs": [],
   "source": [
    "# Importing all the necessary libraries\n",
    "import sympy as sym\n",
    "import numpy as np\n",
    "from scipy import signal\n",
    "from scipy import linalg\n",
    "import control\n",
    "sym.init_printing()"
   ]
  },
  {
   "cell_type": "code",
   "execution_count": 153,
   "id": "f9b855f1-554a-4644-a71c-3c88b1d8c4a3",
   "metadata": {},
   "outputs": [],
   "source": [
    "def change_of_coords(v_inA, roll, pitch, yaw):\n",
    "    # Get the rotation matrices from the roll, pitch, and yaw values\n",
    "    cx = np.cos(roll)\n",
    "    sx = np.sin(roll)\n",
    "    cy = np.cos(pitch)\n",
    "    sy = np.sin(pitch)\n",
    "    cz = np.cos(yaw)\n",
    "    sz = np.sin(yaw)\n",
    "    Rx = np.array([[1., 0., 0.],\n",
    "                   [0., cx, -sx],\n",
    "                   [0., sx, cx]])\n",
    "    Ry = np.array([[cy, 0., sy],\n",
    "                   [0., 1., 0.],\n",
    "                   [-sy, 0., cy]])\n",
    "    Rz = np.array([[cz, -sz, 0.],\n",
    "                   [sz, cz, 0.],\n",
    "                   [0., 0., 1.]])\n",
    "\n",
    "    # Combine the individual rotations into a single transform\n",
    "    R_ofA_inB = Rz@Ry@Rx\n",
    "\n",
    "    # Apply the transform the the original vector in frame A\n",
    "    v_inB = R_ofA_inB @ v_inA\n",
    "\n",
    "    # Return the same vector in frame B\n",
    "    return v_inB"
   ]
  },
  {
   "cell_type": "code",
   "execution_count": 154,
   "id": "18a9cfc0-1785-4ec9-921c-61412269b88a",
   "metadata": {},
   "outputs": [],
   "source": [
    "# Mass and moment of inertia of the bus\n",
    "mb = 6.\n",
    "Ixxb = 10.\n",
    "Iyyb = 10.\n",
    "Izzb = 16.\n",
    "\n",
    "# Radius of the bus\n",
    "rb = 2.2\n",
    "\n",
    "# Mass and moment of inertia of each wheel\n",
    "mw = 1.\n",
    "Ixxw = 0.075\n",
    "Iyyw = 0.075\n",
    "Izzw = 0.125"
   ]
  },
  {
   "cell_type": "code",
   "execution_count": 155,
   "id": "1cd74e51-2442-4486-9b0d-9ddcb435c608",
   "metadata": {},
   "outputs": [],
   "source": [
    "# Define roll (phi), pitch (theta), and yaw (psi) angles\n",
    "phi, theta, psi = sym.symbols('phi, theta, psi')\n",
    "\n",
    "# Define angular velocities\n",
    "wx_inB, wy_inB, wz_inB = sym.symbols('omega_x, omega_y, omega_z')\n",
    "\n",
    "# Define angular velocity vector written in body coordinates\n",
    "w_inB = sym.Matrix([[wx_inB],\n",
    "                    [wy_inB],\n",
    "                    [wz_inB]])\n",
    "\n",
    "# Define roll, pitch, and yaw rotation matrices that describe the bus's orientation in the \n",
    "# world frame\n",
    "Rx = sym.Matrix([[1,            0,             0],\n",
    "                 [0, sym.cos(phi), -sym.sin(phi)],\n",
    "                 [0, sym.sin(phi),  sym.cos(phi)]])\n",
    "Ry = sym.Matrix([[ sym.cos(theta), 0, sym.sin(theta)],\n",
    "                 [              0, 1,              0],\n",
    "                 [-sym.sin(theta), 0, sym.cos(theta)]])\n",
    "Rz = sym.Matrix([[sym.cos(psi), -sym.sin(psi), 0],\n",
    "                 [sym.sin(psi),  sym.cos(psi), 0],\n",
    "                 [           0,             0, 1]])"
   ]
  },
  {
   "cell_type": "code",
   "execution_count": 156,
   "id": "615ec4b1-0874-4e70-835d-a4480e237d9a",
   "metadata": {},
   "outputs": [
    {
     "name": "stdout",
     "output_type": "stream",
     "text": [
      "Torques applied to spacecraft in spacecraft-fixed coordinates:\n"
     ]
    },
    {
     "data": {
      "text/latex": [
       "$\\displaystyle \\left[\\begin{matrix}- 0.433 \\tau_{2} + 0.866 \\tau_{3} - 0.433 \\tau_{4}\\\\- 0.75 \\tau_{2} + 1.7 \\cdot 10^{-8} \\tau_{3} + 0.75 \\tau_{4}\\\\- 1.0 \\tau_{1} + 0.5 \\tau_{2} + 0.5 \\tau_{3} + 0.5 \\tau_{4}\\end{matrix}\\right]$"
      ],
      "text/plain": [
       "⎡-0.433⋅τ₂ + 0.866⋅τ₃ - 0.433⋅τ₄⎤\n",
       "⎢                               ⎥\n",
       "⎢-0.75⋅τ₂ + 1.7e-8⋅τ₃ + 0.75⋅τ₄ ⎥\n",
       "⎢                               ⎥\n",
       "⎣-τ₁ + 0.5⋅τ₂ + 0.5⋅τ₃ + 0.5⋅τ₄ ⎦"
      ]
     },
     "execution_count": 156,
     "metadata": {},
     "output_type": "execute_result"
    }
   ],
   "source": [
    "# Define torques\n",
    "tau_1, tau_2, tau_3, tau_4 = sym.symbols('tau_1, tau_2, tau_3, tau_4')\n",
    "\n",
    "# Multiply torque scalars by their directions (in each wheel's frame)\n",
    "# to get the torque applied to each wheel as a vector\n",
    "t1_inT1 = tau_1 * sym.Matrix([[0.],\n",
    "                              [0.],\n",
    "                              [1.]])\n",
    "t2_inT2 = tau_2 * sym.Matrix([[0.],\n",
    "                              [0.],\n",
    "                              [1.]])\n",
    "t3_inT3 = tau_3 * sym.Matrix([[0.],\n",
    "                              [0.],\n",
    "                              [1.]])\n",
    "t4_inT4 = tau_4 * sym.Matrix([[0.],\n",
    "                              [0.],\n",
    "                              [1.]])\n",
    "\n",
    "# Change the torque on the wheel vectors from their own body coordinates to bus coordinates\n",
    "t1_inB = change_of_coords(t1_inT1, 0.,       0., 1.570796)\n",
    "t2_inB = change_of_coords(t2_inT2, 2.094395, 0., 2.617994)\n",
    "t3_inB = change_of_coords(t3_inT3, 2.094395, 0., 4.712389)\n",
    "t4_inB = change_of_coords(t4_inT4, 2.094395, 0., 0.523599)\n",
    "\n",
    "# Sum the torque vectors to get the total torque on the spacecraft by the wheels \n",
    "# in bus coordinates.\n",
    "# We use minus because the torque on the bus is in the opposite direction as the torque\n",
    "# applied to the wheels (Newton's third law)\n",
    "tau_inB = -t1_inB - t2_inB - t3_inB - t4_inB\n",
    "tau_inB = sym.simplify(tau_inB)\n",
    "print(\"Torques applied to spacecraft in spacecraft-fixed coordinates:\")\n",
    "sym.N(tau_inB, 3)"
   ]
  },
  {
   "cell_type": "code",
   "execution_count": 157,
   "id": "bc32c4ce-c2bb-4a5e-a9b7-76e0533622be",
   "metadata": {},
   "outputs": [],
   "source": [
    "# Define roll (phi), pitch (theta), and yaw (psi) angles\n",
    "phi, theta, psi = sym.symbols('phi, theta, psi')\n",
    "\n",
    "# Define angular velocities\n",
    "wx_inB, wy_inB, wz_inB = sym.symbols('omega_x, omega_y, omega_z')\n",
    "\n",
    "# Define angular velocity vector written in body coordinates\n",
    "w_inB = sym.Matrix([[wx_inB],\n",
    "                    [wy_inB],\n",
    "                    [wz_inB]])\n",
    "\n",
    "# Define roll, pitch, and yaw rotation matrices that describe the bus's orientation in the \n",
    "# world frame\n",
    "Rx = sym.Matrix([[1,            0,             0],\n",
    "                 [0, sym.cos(phi), -sym.sin(phi)],\n",
    "                 [0, sym.sin(phi),  sym.cos(phi)]])\n",
    "Ry = sym.Matrix([[ sym.cos(theta), 0, sym.sin(theta)],\n",
    "                 [              0, 1,              0],\n",
    "                 [-sym.sin(theta), 0, sym.cos(theta)]])\n",
    "Rz = sym.Matrix([[sym.cos(psi), -sym.sin(psi), 0],\n",
    "                 [sym.sin(psi),  sym.cos(psi), 0],\n",
    "                 [           0,             0, 1]])"
   ]
  },
  {
   "cell_type": "code",
   "execution_count": 158,
   "id": "36b9c87d-3229-4b6c-8923-fa3b8561957c",
   "metadata": {},
   "outputs": [
    {
     "name": "stdout",
     "output_type": "stream",
     "text": [
      "Moment of inertia of spacecraft written in principal axes:\n"
     ]
    },
    {
     "data": {
      "text/latex": [
       "$\\displaystyle \\left[\\begin{matrix}23.9 & 0 & 0\\\\0 & 23.9 & 0\\\\0 & 0 & 26.9\\end{matrix}\\right]$"
      ],
      "text/plain": [
       "⎡23.9   0     0  ⎤\n",
       "⎢                ⎥\n",
       "⎢ 0    23.9   0  ⎥\n",
       "⎢                ⎥\n",
       "⎣ 0     0    26.9⎦"
      ]
     },
     "execution_count": 158,
     "metadata": {},
     "output_type": "execute_result"
    }
   ],
   "source": [
    "# First we get the position of the center of mass of each wheel in bus coordinates\n",
    "p1_inB = np.round(np.array(rb*(t1_inB/tau_1)).astype(np.float64).flatten(),6)\n",
    "p2_inB = np.round(np.array(rb*(t2_inB/tau_2)).astype(np.float64).flatten(),6)\n",
    "p3_inB = np.round(np.array(rb*(t3_inB/tau_3)).astype(np.float64).flatten(),6)\n",
    "p4_inB = np.round(np.array(rb*(t4_inB/tau_4)).astype(np.float64).flatten(),6)\n",
    "ps_inB = [p1_inB, p2_inB, p3_inB, p4_inB]\n",
    "\n",
    "# Get the total moment of inertia\n",
    "Ixx = Ixxb\n",
    "Iyy = Iyyb\n",
    "Izz = Izzb\n",
    "for p_inB in ps_inB:\n",
    "    # Get the distance from the x axis and the resultant point inertia\n",
    "    dx = np.linalg.norm(p_inB[1:])\n",
    "    ixx = mw * dx**2\n",
    "    Ixx = Ixx + ixx\n",
    "    \n",
    "    # Get the distance from the y axis and the resultant point inertia\n",
    "    dy = np.linalg.norm(p_inB[0:3:2])\n",
    "    iyy = mw * dy**2\n",
    "    Iyy = Iyy + iyy\n",
    "    \n",
    "    # Get the distance from the z axis and the resultant point inertia\n",
    "    dz = np.linalg.norm(p_inB[0:2])\n",
    "    izz = mw * dz**2\n",
    "    Izz = Izz + izz\n",
    "\n",
    "# Assemble the moment of inertia matrix\n",
    "I_inB = sym.Matrix([[Ixx, 0.,  0.],\n",
    "                    [0.,  Iyy, 0.],\n",
    "                    [0.,  0.,  Izz]])\n",
    "print(\"Moment of inertia of spacecraft written in principal axes:\")\n",
    "sym.N(I_inB, 3)"
   ]
  },
  {
   "cell_type": "code",
   "execution_count": 159,
   "id": "425ef72e-adbc-4d4e-a4da-5256984d20e7",
   "metadata": {},
   "outputs": [
    {
     "name": "stdout",
     "output_type": "stream",
     "text": [
      "Time derivative of the angular velocities in the spacecraft-fixed frame:\n"
     ]
    },
    {
     "data": {
      "text/latex": [
       "$\\displaystyle \\left[\\begin{matrix}- 0.124 \\omega_{y} \\omega_{z} - 0.0181 \\tau_{2} + 0.0362 \\tau_{3} - 0.0181 \\tau_{4}\\\\0.124 \\omega_{x} \\omega_{z} - 0.0314 \\tau_{2} + 7.1 \\cdot 10^{-10} \\tau_{3} + 0.0314 \\tau_{4}\\\\- 2.37 \\cdot 10^{-8} \\omega_{x} \\omega_{y} - 0.0372 \\tau_{1} + 0.0186 \\tau_{2} + 0.0186 \\tau_{3} + 0.0186 \\tau_{4}\\end{matrix}\\right]$"
      ],
      "text/plain": [
       "⎡      -0.124⋅ω_y⋅ω_z - 0.0181⋅τ₂ + 0.0362⋅τ₃ - 0.0181⋅τ₄       ⎤\n",
       "⎢                                                               ⎥\n",
       "⎢       0.124⋅ωₓ⋅ω_z - 0.0314⋅τ₂ + 7.1e-10⋅τ₃ + 0.0314⋅τ₄       ⎥\n",
       "⎢                                                               ⎥\n",
       "⎣-2.37e-8⋅ωₓ⋅ω_y - 0.0372⋅τ₁ + 0.0186⋅τ₂ + 0.0186⋅τ₃ + 0.0186⋅τ₄⎦"
      ]
     },
     "execution_count": 159,
     "metadata": {},
     "output_type": "execute_result"
    }
   ],
   "source": [
    "# Apply Euler's equation to get the time derivative of the angular velocities of the\n",
    "# spacecraft in the spacecraft frame\n",
    "w_inB_dot = I_inB.inv() @ (tau_inB - w_inB.cross(I_inB@w_inB))\n",
    "w_inB_dot = sym.simplify(w_inB_dot)\n",
    "print(\"Time derivative of the angular velocities in the spacecraft-fixed frame:\")\n",
    "sym.N(w_inB_dot, 3)"
   ]
  },
  {
   "cell_type": "code",
   "execution_count": 160,
   "id": "19eb0687-ac7e-4cd4-8f55-29fd8a7503f5",
   "metadata": {},
   "outputs": [
    {
     "name": "stdout",
     "output_type": "stream",
     "text": [
      "Roll, pitch, and yaw rate as a function of orientation and body-fixed angular rates:\n"
     ]
    },
    {
     "data": {
      "text/latex": [
       "$\\displaystyle \\left[\\begin{matrix}\\omega_{x} + \\omega_{y} \\sin{\\left(\\phi \\right)} \\tan{\\left(\\theta \\right)} + \\omega_{z} \\cos{\\left(\\phi \\right)} \\tan{\\left(\\theta \\right)}\\\\\\omega_{y} \\cos{\\left(\\phi \\right)} - \\omega_{z} \\sin{\\left(\\phi \\right)}\\\\\\frac{\\omega_{y} \\sin{\\left(\\phi \\right)} + \\omega_{z} \\cos{\\left(\\phi \\right)}}{\\cos{\\left(\\theta \\right)}}\\end{matrix}\\right]$"
      ],
      "text/plain": [
       "⎡ωₓ + ω_y⋅sin(φ)⋅tan(θ) + ω_z⋅cos(φ)⋅tan(θ)⎤\n",
       "⎢                                          ⎥\n",
       "⎢         ω_y⋅cos(φ) - ω_z⋅sin(φ)          ⎥\n",
       "⎢                                          ⎥\n",
       "⎢         ω_y⋅sin(φ) + ω_z⋅cos(φ)          ⎥\n",
       "⎢         ───────────────────────          ⎥\n",
       "⎣                  cos(θ)                  ⎦"
      ]
     },
     "execution_count": 160,
     "metadata": {},
     "output_type": "execute_result"
    }
   ],
   "source": [
    "# Define the transformation that takes roll, pitch, and yaw rates to body-fixed angular rates\n",
    "ex = sym.Matrix([[1], [0], [0]])\n",
    "ey = sym.Matrix([[0], [1], [0]])\n",
    "ez = sym.Matrix([[0], [0], [1]])\n",
    "M = sym.Matrix.hstack(ex, Rx.T@ey, (Ry@Rx).T@ez)\n",
    "\n",
    "# Invert the transformation to get a matrix that takes body-fixed angular rates to \n",
    "# roll, pitch, and yaw rates\n",
    "M_inv = sym.simplify(M.inv())\n",
    "\n",
    "# Convert the body-fixed angular rates to roll, pitch, and yaw rates\n",
    "rpy_dot = sym.simplify(M_inv@w_inB)\n",
    "print(\"Roll, pitch, and yaw rate as a function of orientation and body-fixed angular rates:\")\n",
    "sym.N(rpy_dot,3)"
   ]
  },
  {
   "cell_type": "code",
   "execution_count": 161,
   "id": "4378feb3-1a71-48af-98c3-4178720764eb",
   "metadata": {},
   "outputs": [],
   "source": [
    "# Assemble the system of equations\n",
    "f = sym.simplify(sym.Matrix.vstack(rpy_dot, w_inB_dot))"
   ]
  },
  {
   "cell_type": "code",
   "execution_count": 162,
   "id": "155c6d17-49ff-4e43-8759-8119fd786a19",
   "metadata": {},
   "outputs": [
    {
     "data": {
      "text/latex": [
       "$\\displaystyle \\left[\\begin{matrix}\\omega_{x} + \\omega_{y} \\sin{\\left(\\phi \\right)} \\tan{\\left(\\theta \\right)} + \\omega_{z} \\cos{\\left(\\phi \\right)} \\tan{\\left(\\theta \\right)}\\\\\\omega_{y} \\cos{\\left(\\phi \\right)} - \\omega_{z} \\sin{\\left(\\phi \\right)}\\\\\\frac{\\omega_{y} \\sin{\\left(\\phi \\right)} + \\omega_{z} \\cos{\\left(\\phi \\right)}}{\\cos{\\left(\\theta \\right)}}\\\\- 0.124 \\omega_{y} \\omega_{z} - 0.0181 \\tau_{2} + 0.0362 \\tau_{3} - 0.0181 \\tau_{4}\\\\0.124 \\omega_{x} \\omega_{z} - 0.0314 \\tau_{2} + 7.1 \\cdot 10^{-10} \\tau_{3} + 0.0314 \\tau_{4}\\\\- 2.37 \\cdot 10^{-8} \\omega_{x} \\omega_{y} - 0.0372 \\tau_{1} + 0.0186 \\tau_{2} + 0.0186 \\tau_{3} + 0.0186 \\tau_{4}\\end{matrix}\\right]$"
      ],
      "text/plain": [
       "⎡          ωₓ + ω_y⋅sin(φ)⋅tan(θ) + ω_z⋅cos(φ)⋅tan(θ)           ⎤\n",
       "⎢                                                               ⎥\n",
       "⎢                    ω_y⋅cos(φ) - ω_z⋅sin(φ)                    ⎥\n",
       "⎢                                                               ⎥\n",
       "⎢                    ω_y⋅sin(φ) + ω_z⋅cos(φ)                    ⎥\n",
       "⎢                    ───────────────────────                    ⎥\n",
       "⎢                             cos(θ)                            ⎥\n",
       "⎢                                                               ⎥\n",
       "⎢      -0.124⋅ω_y⋅ω_z - 0.0181⋅τ₂ + 0.0362⋅τ₃ - 0.0181⋅τ₄       ⎥\n",
       "⎢                                                               ⎥\n",
       "⎢       0.124⋅ωₓ⋅ω_z - 0.0314⋅τ₂ + 7.1e-10⋅τ₃ + 0.0314⋅τ₄       ⎥\n",
       "⎢                                                               ⎥\n",
       "⎣-2.37e-8⋅ωₓ⋅ω_y - 0.0372⋅τ₁ + 0.0186⋅τ₂ + 0.0186⋅τ₃ + 0.0186⋅τ₄⎦"
      ]
     },
     "execution_count": 162,
     "metadata": {},
     "output_type": "execute_result"
    }
   ],
   "source": [
    "sym.N(f,3)"
   ]
  },
  {
   "cell_type": "markdown",
   "id": "4c5d1086-3c4b-46f0-b4b1-cf2f4562dab4",
   "metadata": {},
   "source": [
    "# State-Space Model\n",
    "## Controller Dynamics\n",
    "The dynamics are represented in a column vector, in which each each equation represents the dynamics of each state we are tracking. In our system, we are tracking, $\\phi$ (roll), $\\theta$ (pitch), $\\psi$ (yaw), and the angular velocities of each angular direction $\\omega_x$, $\\omega_y$, $\\omega_z$. The goal of this is to represent the dynamics of the system as a standard state space model.\n",
    "This model is typically demonstrated as:"
   ]
  },
  {
   "cell_type": "markdown",
   "id": "9fe3d38e-3ec8-4877-93ae-ef6026c59b88",
   "metadata": {},
   "source": [
    "<center>$ \\dot x = Ax + Bu $</center>"
   ]
  },
  {
   "cell_type": "markdown",
   "id": "97380616-09e2-4a4e-81d1-44d5d3426ec2",
   "metadata": {},
   "source": [
    "This model makes it a lot easier to tune the controller and observer systems. Although each equation is a first-order differential equation, we must linearize it since they are not linear ODEs. This can be done by taking the Jacobian of the matrices with respect to certain variables. \r\n",
    "\r\n",
    "The A coefficient matrix describes how the system's dynamics change from time step t, to t+1, without any other inputs. This can be derived by taking the Jacobian of the f matrix with respect to the states, which are $\\phi, \\theta, \\psi, \\omega_x, \\omega_y$ and $\\omega_z$. \r\n",
    "The B coefficient matrix describes how control inputs change the dynamics of a system from time step t, to t+1. This can be derived by taking the Jacobian of the f matrix with respect to the control inputs, which in our case is $\\tau1, \\tau2, \\tau3, \\tau4$. \r\n",
    "\r\n",
    "In addition to the Jacobians, we must also find the equilibrium points of the systems. The equilibrium points are values in which if our system were to reach these positions, they would remain in steady state and not deviate with no external disturbances. The method we used to find the equilibrium points was to find points in which all our states became 0s. For this reason, we selected our equilibrium points to be:\r\n"
   ]
  },
  {
   "cell_type": "markdown",
   "id": "01c6218b-f68d-48c6-801f-dc0b3b4e682f",
   "metadata": {},
   "source": [
    "<center> \\begin{bmatrix}\n",
    "\\phi \\\\\n",
    "\\theta \\\\\n",
    "\\psi \\\\\n",
    "w_{x} \\\\\n",
    "w_{y} \\\\\n",
    "w_{z} \\\\\n",
    "\\end{bmatrix} = \\begin{bmatrix} 0 \\\\ 0 \\\\ 0 \\\\ 0 \\\\ 0 \\\\ 0 \\\\ \\end{bmatrix} </center>\n",
    "<center>\\begin{bmatrix}\n",
    "\\tau1 \\\\\n",
    "\\tau2 \\\\\n",
    "\\tau3 \\\\\n",
    "\\tau4 \\\\\n",
    "\\end{bmatrix} = \\begin{bmatrix} 0 \\\\ 0 \\\\ 0 \\\\ 0 \\\\ \\end{bmatrix}</center>\n"
   ]
  },
  {
   "cell_type": "markdown",
   "id": "1841f0e7-c287-4dce-b3de-71ef18ebfb79",
   "metadata": {},
   "source": [
    "If achieved by the system, this means our system is in steady-state\n",
    "\n",
    "These values are not plugged into the Jacobians to find our A and B coefficient matrices. THe A matrix should be a square matrix with dimensions 6x6, since 6 is the number of states we have. The B matrix should be a 6x4, since we have 6 states and 4 control inputs. \n",
    "\n",
    "We need to verify that our system is controllable, which can be achieved by creating a controllability matrix. If the rank of the matrix matches the number of states we have, then we have a controllable matrix. This can be created with the following method:"
   ]
  },
  {
   "cell_type": "markdown",
   "id": "a0f73508-424d-4231-a48a-69829caf0238",
   "metadata": {},
   "source": [
    "<center>$\n",
    "W = \\begin{bmatrix}\n",
    "B & AB & A^2B & \\cdots & A^nB\n",
    "\\end{bmatrix}\n",
    "$</center>"
   ]
  },
  {
   "cell_type": "markdown",
   "id": "d394b343-51ef-46e6-99d3-fec06dca6459",
   "metadata": {},
   "source": [
    "Once we see that we have a controllable matrix, we can move on. "
   ]
  },
  {
   "cell_type": "code",
   "execution_count": 163,
   "id": "4ad31825-c96d-47fd-b242-955e3c49095c",
   "metadata": {},
   "outputs": [
    {
     "data": {
      "text/plain": [
       "True"
      ]
     },
     "execution_count": 163,
     "metadata": {},
     "output_type": "execute_result"
    }
   ],
   "source": [
    "# f = phi, theta, psi, wx, wy, wz (these are the states tracked in our spacecraft)\n",
    "# angular velocities must be 0, tau values must also be 0, phi and psi can be whatever we want, cos(theta) can't be 0 because this results in \n",
    "# indeterminate system. \n",
    "phie, thetae, psie, wxe, wye, wze, tau1e, tau2e, tau3e, tau4e = 0,0,0,0,0,0,0,0,0,0\n",
    "# We take the jacobian of the dynamics with respect to the states (phi, theta, psi, and their respective angular velocities) to find our A\n",
    "# coefficient matrix\n",
    "A = sym.lambdify((phi, theta, psi, wx_inB, wy_inB, wz_inB, tau_1, tau_2, tau_3, tau_4), f.jacobian([phi, theta, psi, wx_inB, wy_inB, wz_inB]))\n",
    "# We now substitute the equilibrium values of our system to find the matrix\n",
    "A_num = A(phie, thetae, psie, wxe, wye, wze, tau1e, tau2e, tau3e, tau4e)\n",
    "# We find the B matrix by computing the jacobian of the system with respect to the control inputs (all 4 torques)\n",
    "B = sym.lambdify((phi, theta, psi, wx_inB, wy_inB, wz_inB, tau_1, tau_2, tau_3, tau_4), f.jacobian([tau_1, tau_2, tau_3, tau_4]))\n",
    "# We now substitute the equilibrium values of our system to find the matrix\n",
    "B_num = B(phie, thetae, psie, wxe, wye, wze, tau1e, tau2e, tau3e, tau4e)\n",
    "# As we can see, our A matrix is a 6x6 matrix and our B matrix is a 6x4 matrix, matching what we expected. \n",
    "# We can find the controllability of the matrix using the Control python library, which creates the controllability matrix for us. \n",
    "W = control.ctrb(A_num, B_num)\n",
    "# The rank of the controllability matrix is 6, which matches the number of states we have. Thus we have a controllable system. \n",
    "\n",
    "np.linalg.matrix_rank(W) == A_num.shape[0]"
   ]
  },
  {
   "cell_type": "code",
   "execution_count": 164,
   "id": "bbe8539d-6339-4814-be2b-edc39d84529d",
   "metadata": {},
   "outputs": [
    {
     "name": "stdout",
     "output_type": "stream",
     "text": [
      "A: \n"
     ]
    },
    {
     "data": {
      "text/latex": [
       "$\\displaystyle \\left[\\begin{matrix}0 & 0 & 0 & 1.0 & 0 & 0\\\\0 & 0 & 0 & 0 & 1.0 & 0\\\\0 & 0 & 0 & 0 & 0 & 1.0\\\\0 & 0 & 0 & 0 & 0 & 0\\\\0 & 0 & 0 & 0 & 0 & 0\\\\0 & 0 & 0 & 0 & 0 & 0\\end{matrix}\\right]$"
      ],
      "text/plain": [
       "⎡0  0  0  1.0   0    0 ⎤\n",
       "⎢                      ⎥\n",
       "⎢0  0  0   0   1.0   0 ⎥\n",
       "⎢                      ⎥\n",
       "⎢0  0  0   0    0   1.0⎥\n",
       "⎢                      ⎥\n",
       "⎢0  0  0   0    0    0 ⎥\n",
       "⎢                      ⎥\n",
       "⎢0  0  0   0    0    0 ⎥\n",
       "⎢                      ⎥\n",
       "⎣0  0  0   0    0    0 ⎦"
      ]
     },
     "execution_count": 164,
     "metadata": {},
     "output_type": "execute_result"
    }
   ],
   "source": [
    "# This is our A coefficient matrix\n",
    "print('A: ')\n",
    "sym.Matrix(A_num)"
   ]
  },
  {
   "cell_type": "code",
   "execution_count": 165,
   "id": "7fc40f8f-a1e4-4401-88bb-ca1d62c6b99e",
   "metadata": {},
   "outputs": [
    {
     "name": "stdout",
     "output_type": "stream",
     "text": [
      "B: \n"
     ]
    },
    {
     "data": {
      "text/latex": [
       "$\\displaystyle \\left[\\begin{matrix}0 & 0 & 0 & 0\\\\0 & 0 & 0 & 0\\\\0 & 0 & 0 & 0\\\\0 & -0.0181063197149959 & 0.0362126470826273 & -0.0181063305787912\\\\0 & -0.0313610736839173 & 7.10322282429955 \\cdot 10^{-10} & 0.0313610674117016\\\\-0.0371885450450875 & 0.0185942692248454 & 0.0185942692248454 & 0.0185942692248454\\end{matrix}\\right]$"
      ],
      "text/plain": [
       "⎡         0                    0                    0                     0   \n",
       "⎢                                                                             \n",
       "⎢         0                    0                    0                     0   \n",
       "⎢                                                                             \n",
       "⎢         0                    0                    0                     0   \n",
       "⎢                                                                             \n",
       "⎢         0           -0.0181063197149959   0.0362126470826273   -0.0181063305\n",
       "⎢                                                                             \n",
       "⎢         0           -0.0313610736839173  7.10322282429955e-10  0.03136106741\n",
       "⎢                                                                             \n",
       "⎣-0.0371885450450875  0.0185942692248454    0.0185942692248454   0.01859426922\n",
       "\n",
       "      ⎤\n",
       "      ⎥\n",
       "      ⎥\n",
       "      ⎥\n",
       "      ⎥\n",
       "      ⎥\n",
       "787912⎥\n",
       "      ⎥\n",
       "17016 ⎥\n",
       "      ⎥\n",
       "48454 ⎦"
      ]
     },
     "execution_count": 165,
     "metadata": {},
     "output_type": "execute_result"
    }
   ],
   "source": [
    "# This is our B coefficient matrix\n",
    "print('B: ')\n",
    "sym.Matrix(B_num)"
   ]
  },
  {
   "cell_type": "markdown",
   "id": "26896375-d961-4733-adf5-fd4d379fe537",
   "metadata": {},
   "source": [
    "## Observer Dynamics\n",
    "The exact true state of the spacecraft $x$ is unknown, however, the measured output of the spacecraft’s sensors, $y$, is known. The output from the sensors is such that $y$ can be obtained by multiplying a particular matrix with only scalar values, $C$, by the true state $x$."
   ]
  },
  {
   "cell_type": "markdown",
   "id": "9f4c1fba-56d1-4f6d-8fcd-0fa608eaefbe",
   "metadata": {},
   "source": [
    "<center>$y = Cx$</center>"
   ]
  },
  {
   "cell_type": "markdown",
   "id": "4b70d8c9-9853-4a94-b9a8-49711ccbd6e7",
   "metadata": {},
   "source": [
    "Theoretically, simply inverting $C$ and solving for $x$ would provide the true state, but $C$ may not be rectangular, and therefore may not be invertible. The output is continuously changing as time changes, so the real state also changes to make the equation above true at every time $t$.\n",
    "The spacecraft uses a star camera to track each star in the \"I\" constallation. The equations the star camera sensor uses to track the 2D $y,z$ coordinates of each star from the star camera's perspective are as follows:"
   ]
  },
  {
   "cell_type": "markdown",
   "id": "754d73ff-872a-42eb-bc38-f177aa0cec13",
   "metadata": {},
   "source": [
    "These equations can be used to solve for the sensor output. The equation in the first row of $g$ can be used to solve for the star tracker's $y$ coordinate output and the equation in the second row of $g$ can be used to solve for the star tracker's $z$ coordinate output.\n"
   ]
  },
  {
   "cell_type": "markdown",
   "id": "3585224d-d538-4b2b-9a78-fc5b528b960e",
   "metadata": {},
   "source": [
    "<center>$y = g(\\alpha_i, \\delta_i, \\phi, \\theta, \\psi)$</center>"
   ]
  },
  {
   "cell_type": "markdown",
   "id": "a874c97b-1ae6-4a1f-bac2-7ac69f3f95e6",
   "metadata": {},
   "source": [
    "The $A$ and $B$ matricies were both solved around specific equilibrium positions. The equilibrium positions that the $A$ and $B$ matrices were both solved around must be the same as the equilibrium positions used to solve for $C$. This is so that the equilibrium states, match the output at equilibrium and $y = Cx$ holds true in terms of the observer model.\n",
    "\n",
    "Ultimately, the goal is to make the spacecraft's star tracker always point toward's the center of all the stars, such that all the stars are in frame of the star tracker camera. Therefore, all of the 8 star's with different inclination ($\\alpha_i$) and declination ($\\delta_i$) must be accounted for. The inclination and declination of all the stars are shown below:\n"
   ]
  },
  {
   "cell_type": "code",
   "execution_count": 166,
   "id": "83f70240-2bf3-4bd6-9c23-4b555e64b212",
   "metadata": {},
   "outputs": [
    {
     "data": {
      "text/plain": [
       "{'alpha': array([-0.06,  0.  ,  0.06,  0.  ,  0.  , -0.06,  0.  ,  0.06]),\n",
       " 'delta': array([-0.09, -0.09, -0.09, -0.03,  0.03,  0.09,  0.09,  0.09])}"
      ]
     },
     "execution_count": 166,
     "metadata": {},
     "output_type": "execute_result"
    }
   ],
   "source": [
    "# Create a variable for the right ascension and declination of the ith star\n",
    "alpha_i, delta_i = sym.symbols('alpha_i, delta_i')\n",
    "# First we import the spacecraft project's function get_star_coords\n",
    "# As expected, this function returns a dictionary whose keys, \n",
    "# \"alpha\" and \"delta\", are the equitorial celestial coordinates\n",
    "# of each star in the constellation\n",
    "from ae353_spacecraft import get_star_coords\n",
    "star_coords = get_star_coords()\n",
    "star_coords"
   ]
  },
  {
   "cell_type": "markdown",
   "id": "30649ba3-d549-455c-af8c-814eb8f44f82",
   "metadata": {},
   "source": [
    "The matrix $C$ is found by taking the jacobian of $g$ (the observer's equations for the output) with respect to all the system's states.\n",
    "8 $C$ matrices are found corresponding to the different $\\alpha$ and $\\delta$ of each individual star, and then all of the $C$ matrices are concatenated together to form a $(16,6)$ matrix."
   ]
  },
  {
   "cell_type": "code",
   "execution_count": 167,
   "id": "643beb39-a13b-4fbb-891b-010dcc08c1e1",
   "metadata": {},
   "outputs": [
    {
     "name": "stdout",
     "output_type": "stream",
     "text": [
      "Depth-normalized cartesian coordinates of the ith star in world coordinates:\n"
     ]
    },
    {
     "data": {
      "text/latex": [
       "$\\displaystyle \\left[\\begin{matrix}\\cos{\\left(\\alpha_{i} \\right)} \\cos{\\left(\\delta_{i} \\right)}\\\\\\sin{\\left(\\alpha_{i} \\right)} \\cos{\\left(\\delta_{i} \\right)}\\\\\\sin{\\left(\\delta_{i} \\right)}\\end{matrix}\\right]$"
      ],
      "text/plain": [
       "⎡cos(αᵢ)⋅cos(δᵢ)⎤\n",
       "⎢               ⎥\n",
       "⎢sin(αᵢ)⋅cos(δᵢ)⎥\n",
       "⎢               ⎥\n",
       "⎣    sin(δᵢ)    ⎦"
      ]
     },
     "execution_count": 167,
     "metadata": {},
     "output_type": "execute_result"
    }
   ],
   "source": [
    "# Calculate the DEPTH NORMALIZED cartesian coordinates of the ith star\n",
    "# in the fixed world coorinates using the equitorial celestial coordinates\n",
    "p_ofi_inW = sym.Matrix([[sym.cos(alpha_i)*sym.cos(delta_i)],\n",
    "                        [sym.sin(alpha_i)*sym.cos(delta_i)],\n",
    "                        [sym.sin(delta_i)]])\n",
    "print(\"Depth-normalized cartesian coordinates of the ith star in world coordinates:\")\n",
    "p_ofi_inW"
   ]
  },
  {
   "cell_type": "code",
   "execution_count": 168,
   "id": "8c0b0f3b-b717-4c17-8356-5082569ac9a9",
   "metadata": {},
   "outputs": [
    {
     "name": "stdout",
     "output_type": "stream",
     "text": [
      "Orientation of spacecraft in world:\n"
     ]
    },
    {
     "data": {
      "text/latex": [
       "$\\displaystyle \\left[\\begin{matrix}\\cos{\\left(\\psi \\right)} \\cos{\\left(\\theta \\right)} & \\sin{\\left(\\phi \\right)} \\sin{\\left(\\theta \\right)} \\cos{\\left(\\psi \\right)} - \\sin{\\left(\\psi \\right)} \\cos{\\left(\\phi \\right)} & \\sin{\\left(\\phi \\right)} \\sin{\\left(\\psi \\right)} + \\sin{\\left(\\theta \\right)} \\cos{\\left(\\phi \\right)} \\cos{\\left(\\psi \\right)}\\\\\\sin{\\left(\\psi \\right)} \\cos{\\left(\\theta \\right)} & \\sin{\\left(\\phi \\right)} \\sin{\\left(\\psi \\right)} \\sin{\\left(\\theta \\right)} + \\cos{\\left(\\phi \\right)} \\cos{\\left(\\psi \\right)} & - \\sin{\\left(\\phi \\right)} \\cos{\\left(\\psi \\right)} + \\sin{\\left(\\psi \\right)} \\sin{\\left(\\theta \\right)} \\cos{\\left(\\phi \\right)}\\\\- \\sin{\\left(\\theta \\right)} & \\sin{\\left(\\phi \\right)} \\cos{\\left(\\theta \\right)} & \\cos{\\left(\\phi \\right)} \\cos{\\left(\\theta \\right)}\\end{matrix}\\right]$"
      ],
      "text/plain": [
       "⎡cos(ψ)⋅cos(θ)  sin(φ)⋅sin(θ)⋅cos(ψ) - sin(ψ)⋅cos(φ)  sin(φ)⋅sin(ψ) + sin(θ)⋅c\n",
       "⎢                                                                             \n",
       "⎢sin(ψ)⋅cos(θ)  sin(φ)⋅sin(ψ)⋅sin(θ) + cos(φ)⋅cos(ψ)  -sin(φ)⋅cos(ψ) + sin(ψ)⋅\n",
       "⎢                                                                             \n",
       "⎣   -sin(θ)                sin(φ)⋅cos(θ)                          cos(φ)⋅cos(θ\n",
       "\n",
       "os(φ)⋅cos(ψ) ⎤\n",
       "             ⎥\n",
       "sin(θ)⋅cos(φ)⎥\n",
       "             ⎥\n",
       ")            ⎦"
      ]
     },
     "execution_count": 168,
     "metadata": {},
     "output_type": "execute_result"
    }
   ],
   "source": [
    "# Calculate the orientation of the spacecraft using it's roll, pitch, and yaw angles\n",
    "R_ofS_inW = sym.simplify(Rz @ Ry @ Rx)\n",
    "print(\"Orientation of spacecraft in world:\")\n",
    "R_ofS_inW"
   ]
  },
  {
   "cell_type": "code",
   "execution_count": 169,
   "id": "f5451eb6-4a2f-48df-b7d3-19d43f23bdd7",
   "metadata": {},
   "outputs": [
    {
     "name": "stdout",
     "output_type": "stream",
     "text": [
      "Depth-normalized cartesian coordinates of the ith star in spacecraft-fixed coordinates:\n"
     ]
    },
    {
     "data": {
      "text/latex": [
       "$\\displaystyle \\left[\\begin{matrix}- \\sin{\\left(\\delta_{i} \\right)} \\sin{\\left(\\theta \\right)} + \\cos{\\left(\\delta_{i} \\right)} \\cos{\\left(\\theta \\right)} \\cos{\\left(\\alpha_{i} - \\psi \\right)}\\\\\\sin{\\left(\\delta_{i} \\right)} \\sin{\\left(\\phi \\right)} \\cos{\\left(\\theta \\right)} + \\sin{\\left(\\phi \\right)} \\sin{\\left(\\theta \\right)} \\cos{\\left(\\delta_{i} \\right)} \\cos{\\left(\\alpha_{i} - \\psi \\right)} + \\sin{\\left(\\alpha_{i} - \\psi \\right)} \\cos{\\left(\\delta_{i} \\right)} \\cos{\\left(\\phi \\right)}\\\\\\sin{\\left(\\delta_{i} \\right)} \\cos{\\left(\\phi \\right)} \\cos{\\left(\\theta \\right)} - \\sin{\\left(\\phi \\right)} \\sin{\\left(\\alpha_{i} - \\psi \\right)} \\cos{\\left(\\delta_{i} \\right)} + \\sin{\\left(\\theta \\right)} \\cos{\\left(\\delta_{i} \\right)} \\cos{\\left(\\phi \\right)} \\cos{\\left(\\alpha_{i} - \\psi \\right)}\\end{matrix}\\right]$"
      ],
      "text/plain": [
       "⎡                     -sin(δᵢ)⋅sin(θ) + cos(δᵢ)⋅cos(θ)⋅cos(αᵢ - ψ)            \n",
       "⎢                                                                             \n",
       "⎢sin(δᵢ)⋅sin(φ)⋅cos(θ) + sin(φ)⋅sin(θ)⋅cos(δᵢ)⋅cos(αᵢ - ψ) + sin(αᵢ - ψ)⋅cos(δ\n",
       "⎢                                                                             \n",
       "⎣sin(δᵢ)⋅cos(φ)⋅cos(θ) - sin(φ)⋅sin(αᵢ - ψ)⋅cos(δᵢ) + sin(θ)⋅cos(δᵢ)⋅cos(φ)⋅co\n",
       "\n",
       "         ⎤\n",
       "         ⎥\n",
       "ᵢ)⋅cos(φ)⎥\n",
       "         ⎥\n",
       "s(αᵢ - ψ)⎦"
      ]
     },
     "execution_count": 169,
     "metadata": {},
     "output_type": "execute_result"
    }
   ],
   "source": [
    "# Invert the orientation of the spacecraft to get a transform that takes vectors\n",
    "# in world coordinates to vectors in spacecraft-fixed coordinates.\n",
    "# As it turns out, the inverse of a valid rotation matrix, R, is its transpose\n",
    "R_ofW_inS = R_ofS_inW.T\n",
    "\n",
    "# Get the position of the ith star in spacecraft-fixed coordinates\n",
    "p_ofi_inS = sym.simplify(R_ofW_inS @ p_ofi_inW)\n",
    "print(\"Depth-normalized cartesian coordinates of the ith star in spacecraft-fixed coordinates:\")\n",
    "p_ofi_inS"
   ]
  },
  {
   "cell_type": "code",
   "execution_count": 170,
   "id": "c8c2e95e-1fe5-4001-a410-d3e3e7835ba3",
   "metadata": {},
   "outputs": [
    {
     "data": {
      "text/latex": [
       "$\\displaystyle \\left[\\begin{matrix}\\frac{2.625 \\left(\\sin{\\left(\\delta_{i} \\right)} \\sin{\\left(\\phi \\right)} \\cos{\\left(\\theta \\right)} + \\sin{\\left(\\phi \\right)} \\sin{\\left(\\theta \\right)} \\cos{\\left(\\delta_{i} \\right)} \\cos{\\left(\\alpha_{i} - \\psi \\right)} + \\sin{\\left(\\alpha_{i} - \\psi \\right)} \\cos{\\left(\\delta_{i} \\right)} \\cos{\\left(\\phi \\right)}\\right)}{- \\sin{\\left(\\delta_{i} \\right)} \\sin{\\left(\\theta \\right)} + \\cos{\\left(\\delta_{i} \\right)} \\cos{\\left(\\theta \\right)} \\cos{\\left(\\alpha_{i} - \\psi \\right)}}\\\\\\frac{2.625 \\left(\\sin{\\left(\\delta_{i} \\right)} \\cos{\\left(\\phi \\right)} \\cos{\\left(\\theta \\right)} - \\sin{\\left(\\phi \\right)} \\sin{\\left(\\alpha_{i} - \\psi \\right)} \\cos{\\left(\\delta_{i} \\right)} + \\sin{\\left(\\theta \\right)} \\cos{\\left(\\delta_{i} \\right)} \\cos{\\left(\\phi \\right)} \\cos{\\left(\\alpha_{i} - \\psi \\right)}\\right)}{- \\sin{\\left(\\delta_{i} \\right)} \\sin{\\left(\\theta \\right)} + \\cos{\\left(\\delta_{i} \\right)} \\cos{\\left(\\theta \\right)} \\cos{\\left(\\alpha_{i} - \\psi \\right)}}\\end{matrix}\\right]$"
      ],
      "text/plain": [
       "⎡2.625⋅(sin(δᵢ)⋅sin(φ)⋅cos(θ) + sin(φ)⋅sin(θ)⋅cos(δᵢ)⋅cos(αᵢ - ψ) + sin(αᵢ - ψ\n",
       "⎢─────────────────────────────────────────────────────────────────────────────\n",
       "⎢                         -sin(δᵢ)⋅sin(θ) + cos(δᵢ)⋅cos(θ)⋅cos(αᵢ - ψ)        \n",
       "⎢                                                                             \n",
       "⎢2.625⋅(sin(δᵢ)⋅cos(φ)⋅cos(θ) - sin(φ)⋅sin(αᵢ - ψ)⋅cos(δᵢ) + sin(θ)⋅cos(δᵢ)⋅co\n",
       "⎢─────────────────────────────────────────────────────────────────────────────\n",
       "⎣                         -sin(δᵢ)⋅sin(θ) + cos(δᵢ)⋅cos(θ)⋅cos(αᵢ - ψ)        \n",
       "\n",
       ")⋅cos(δᵢ)⋅cos(φ))⎤\n",
       "─────────────────⎥\n",
       "                 ⎥\n",
       "                 ⎥\n",
       "s(φ)⋅cos(αᵢ - ψ))⎥\n",
       "─────────────────⎥\n",
       "                 ⎦"
      ]
     },
     "execution_count": 170,
     "metadata": {},
     "output_type": "execute_result"
    }
   ],
   "source": [
    "# Define the radius of the star scope\n",
    "rc = 0.8/2.1\n",
    "\n",
    "# Calculate the star scope coordinates, q,  of the ith star\n",
    "# This step is why we can use depth normalized coordinates\n",
    "# We divide the y,z coords by the x coord. This causes any\n",
    "# constants, such as depth, to drop out.\n",
    "g = sym.simplify( (1/rc) * sym.Matrix([[p_ofi_inS[1] / p_ofi_inS[0]],\n",
    "                                       [p_ofi_inS[2] / p_ofi_inS[0]]]) )\n",
    "\n",
    "g"
   ]
  },
  {
   "cell_type": "code",
   "execution_count": 171,
   "id": "af7c1cfd-ae90-418c-8549-5a4df7ca4412",
   "metadata": {},
   "outputs": [
    {
     "name": "stdout",
     "output_type": "stream",
     "text": [
      "C: \n"
     ]
    },
    {
     "data": {
      "text/latex": [
       "$\\displaystyle \\left[\\begin{matrix}-0.237316990961119 & 0.0142561309219474 & -2.63447272635414 & 0 & 0 & 0\\\\0.157689272557155 & 2.64645499207575 & -0.0142561309219474 & 0 & 0 & 0\\\\-0.236889948513187 & 0 & -2.625 & 0 & 0 & 0\\\\0 & 2.64637784674536 & 0 & 0 & 0 & 0\\\\-0.237316990961119 & -0.0142561309219474 & -2.63447272635414 & 0 & 0 & 0\\\\-0.157689272557155 & 2.64645499207575 & 0.0142561309219474 & 0 & 0 & 0\\\\-0.0787736335080994 & 0 & -2.625 & 0 & 0 & 0\\\\0 & 2.62736391822326 & 0 & 0 & 0 & 0\\\\0.0787736335080994 & 0 & -2.625 & 0 & 0 & 0\\\\0 & 2.62736391822326 & 0 & 0 & 0 & 0\\\\0.237316990961119 & -0.0142561309219474 & -2.63447272635414 & 0 & 0 & 0\\\\0.157689272557155 & 2.64645499207575 & 0.0142561309219474 & 0 & 0 & 0\\\\0.236889948513187 & 0 & -2.625 & 0 & 0 & 0\\\\0 & 2.64637784674536 & 0 & 0 & 0 & 0\\\\0.237316990961119 & 0.0142561309219474 & -2.63447272635414 & 0 & 0 & 0\\\\-0.157689272557155 & 2.64645499207575 & -0.0142561309219474 & 0 & 0 & 0\\end{matrix}\\right]$"
      ],
      "text/plain": [
       "⎡-0.237316990961119   0.0142561309219474    -2.63447272635414   0  0  0⎤\n",
       "⎢                                                                      ⎥\n",
       "⎢ 0.157689272557155    2.64645499207575    -0.0142561309219474  0  0  0⎥\n",
       "⎢                                                                      ⎥\n",
       "⎢-0.236889948513187            0                 -2.625         0  0  0⎥\n",
       "⎢                                                                      ⎥\n",
       "⎢         0            2.64637784674536             0           0  0  0⎥\n",
       "⎢                                                                      ⎥\n",
       "⎢-0.237316990961119   -0.0142561309219474   -2.63447272635414   0  0  0⎥\n",
       "⎢                                                                      ⎥\n",
       "⎢-0.157689272557155    2.64645499207575    0.0142561309219474   0  0  0⎥\n",
       "⎢                                                                      ⎥\n",
       "⎢-0.0787736335080994           0                 -2.625         0  0  0⎥\n",
       "⎢                                                                      ⎥\n",
       "⎢         0            2.62736391822326             0           0  0  0⎥\n",
       "⎢                                                                      ⎥\n",
       "⎢0.0787736335080994            0                 -2.625         0  0  0⎥\n",
       "⎢                                                                      ⎥\n",
       "⎢         0            2.62736391822326             0           0  0  0⎥\n",
       "⎢                                                                      ⎥\n",
       "⎢ 0.237316990961119   -0.0142561309219474   -2.63447272635414   0  0  0⎥\n",
       "⎢                                                                      ⎥\n",
       "⎢ 0.157689272557155    2.64645499207575    0.0142561309219474   0  0  0⎥\n",
       "⎢                                                                      ⎥\n",
       "⎢ 0.236889948513187            0                 -2.625         0  0  0⎥\n",
       "⎢                                                                      ⎥\n",
       "⎢         0            2.64637784674536             0           0  0  0⎥\n",
       "⎢                                                                      ⎥\n",
       "⎢ 0.237316990961119   0.0142561309219474    -2.63447272635414   0  0  0⎥\n",
       "⎢                                                                      ⎥\n",
       "⎣-0.157689272557155    2.64645499207575    -0.0142561309219474  0  0  0⎦"
      ]
     },
     "execution_count": 171,
     "metadata": {},
     "output_type": "execute_result"
    }
   ],
   "source": [
    "#Finding C\n",
    "phi, theta, psi = sym.symbols('phi, theta, psi')\n",
    "star_coords = np.array([[-0.06,  0.  ,  0.06,  0.  ,  0.  , -0.06,  0.  ,  0.06], [-0.09, -0.09, -0.09, -0.03,  0.03,  0.09,  0.09,  0.09]])\n",
    "phie, thetae, psie = 0,0,0\n",
    "o1 = sym.lambdify((phi, theta, psi, alpha_i, delta_i),g)\n",
    "for i in range(0, len(star_coords[0])):\n",
    "    alpha = star_coords[0][i]\n",
    "    delta = star_coords[1][i]\n",
    "    if (i == 0):\n",
    "        C_num = sym.lambdify((phi, theta, psi, alpha_i, delta_i), g.jacobian([phi, theta, psi, wx_inB, wy_inB, wz_inB]))\n",
    "        C = C_num(phie, thetae, psie, alpha, delta)\n",
    "    else:\n",
    "        C = np.concatenate([C, C_num(phie, thetae, psie, alpha, delta)])\n",
    "print('C: ')\n",
    "sym.Matrix(C)"
   ]
  },
  {
   "cell_type": "markdown",
   "id": "afe5c0e4-169f-4164-8789-ae648f7ac4d3",
   "metadata": {},
   "source": [
    "## Gain Selection and Controller/Observer Design\n",
    "\n",
    "### Linear Quadratic Regulator\n",
    "\n",
    "Now that we have determined the coefficient matrices for our system, we must come up with the gain matrices for our controller and observer. We can start by creating an LQR function which can help us find gain matrices we want. LQR makes use of the Ricatti equation, and finds the solution to this equation to give us a valid gain matrix. We create a cost function that takes into account both the control and state inputs that we want to optimze:"
   ]
  },
  {
   "cell_type": "markdown",
   "id": "e3bd2bf6-df1c-42a5-8739-0bbc17977f53",
   "metadata": {},
   "source": [
    "<center>$J = \\int_{0}^{\\infty} (x^{T}Qx + u^{T}) \\, dx$</center>"
   ]
  },
  {
   "cell_type": "markdown",
   "id": "e4764be8-b677-437e-b34b-d3c660ef65ea",
   "metadata": {},
   "source": [
    "\n",
    "where Q and R are 2 different matrices that we must design. The Q matrix determines the weightage of each state and how much it should affect the controller, where as the R matrix determines how the control inputs should be weighted with respect to the controller gain matrix.\n",
    "In order to optimze this equation, we must convert this equation into the Ricatti equation, so we can find a K matrix. "
   ]
  },
  {
   "cell_type": "markdown",
   "id": "c0f47115-5171-4c44-a707-b97baeece6bf",
   "metadata": {},
   "source": [
    "<center> $A^T P + P A - PBR^{-1} B^T$</center>"
   ]
  },
  {
   "cell_type": "markdown",
   "id": "e49e57e5-39b5-424b-8642-76b177318f78",
   "metadata": {},
   "source": [
    "where P is some positive matrix called the state-to-go matrix. \n",
    "where K is the gain matrix. Once we solve this equation we can come up with a valid controller for our system by using the following equation: "
   ]
  },
  {
   "cell_type": "markdown",
   "id": "535aa2f7-fcfd-45f0-9aef-433f499114ab",
   "metadata": {},
   "source": [
    "<center>$K = (R^{-1}) \\cdot B^T \\cdot P$</center>"
   ]
  },
  {
   "cell_type": "code",
   "execution_count": 172,
   "id": "bf8ad5ac-e1f3-405d-81d1-d2679b9b4548",
   "metadata": {},
   "outputs": [],
   "source": [
    "def lqr(A, B, Q, R):\n",
    "    #the scipy function \"linalg.solve_continuous_are\" creates our Ricatti equation. P is the solution to the equation\n",
    "    P = linalg.solve_continuous_are(A, B, Q, R)\n",
    "    # We now use the equation we described earlier to find the gain matrix. \n",
    "    K = linalg.inv(R) @ B.T @ P\n",
    "    return K"
   ]
  },
  {
   "cell_type": "markdown",
   "id": "0ce2a2fe-05eb-4417-ba63-1215c37c199a",
   "metadata": {},
   "source": [
    "### Controller Gain Identification\n",
    "Now that we have defined a general function to use LQR, we are going to find the matrices $Q$ and $R$ for the controller. Each value along the diagonal of the $Q$ and $R$ matrix affects the weightage of certain states in the controller. What we define as weightage, is that the higher the weight, the more the controller is affected by changes on that value. It depends on the ordering of the states in our matrices, so in this case, the 1st diagonal value affects the weightage of the $\\phi$, 2nd value is $\\theta$ and etc. The same applies for the $R$ matrix, in which the 1st diagonal value influences the reaction to the torque on the first reactionary wheel. We determiend after trial and error, the most important states to react to were the angular positions, $\\phi$, $\\theta$ and $\\psi$. For this reason, we increased the weightage of those corresponding values. \n",
    "\n",
    "The $K$ matrix is a gain matrix that should produce a asymptotically stable system. Our controller will follow a simple linear feedback controller, so it will follow the equation: \n",
    "\n",
    "<center>$u = -K  x$</center>\n",
    "\n",
    "\n",
    "where $u$ is the $(4,1)$ matrix of control inputs, $K$ is our gain matrix and $x$ is our states. The $K$ matrix should come out to be a $(4, 6)$ matrix, since we have 4 control inputs and 6 states. \n",
    "\n",
    "Using LQR, our system should be asymptotically stable by definition, but we need to verify this by checking for the eigenvalues of the system. If we subsitiute the formula above into our state space model equation, we get: \n",
    "\n",
    "<center>$\\dot{{x}} = A{x} - BK  x$</center>\n",
    "<center>$\\dot{{x}} = (A - BK)  x$</center>\n",
    "\n",
    "\n",
    "This solutions to this system should be asymptotically stable, so that means we need to find the eigenvalues of $(A - BK)$. If we get all negative eigenvalues, this means our controller is stable. "
   ]
  },
  {
   "cell_type": "code",
   "execution_count": 173,
   "id": "bbcf21df-a9a2-4228-ab5d-d3b656c91735",
   "metadata": {},
   "outputs": [],
   "source": [
    "# Controller gain selection\n",
    "Qcon = np.array([[1, 0, 0, 0, 0, 0],\n",
    "                  [0, 1000, 0, 0, 0, 0],\n",
    "                  [0, 0, 1000, 0, 0, 0],\n",
    "                  [0, 0, 0, 1, 0, 0],\n",
    "                  [0, 0, 0, 0, 1, 0],\n",
    "                  [0, 0, 0, 0, 0, 1]])\n",
    "Rcon = np.array([[1, 0, 0, 0],\n",
    "                  [0, 1, 0, 0],\n",
    "                  [0, 0, 1, 0],\n",
    "                  [0, 0, 0, 1]])\n",
    "K = lqr(A_num, B_num, Qcon, Rcon)"
   ]
  },
  {
   "cell_type": "code",
   "execution_count": 174,
   "id": "3db18b93-e0f0-4b3e-981b-8639fa95cfd5",
   "metadata": {},
   "outputs": [
    {
     "data": {
      "text/plain": [
       "array([ True,  True,  True,  True,  True,  True])"
      ]
     },
     "execution_count": 174,
     "metadata": {},
     "output_type": "execute_result"
    }
   ],
   "source": [
    "# We are now checking for the stability of the system\n",
    "F = (A_num - B_num @ K)\n",
    "s = linalg.eigvals(F)\n",
    "(s.real<0)"
   ]
  },
  {
   "cell_type": "markdown",
   "id": "e406a95b-06e8-4273-a1c3-926671675add",
   "metadata": {},
   "source": [
    "Since all our eigenvalues are negative, we have an asymptotically stable system. "
   ]
  },
  {
   "attachments": {},
   "cell_type": "markdown",
   "id": "6445e1cb-0ba5-4fab-aa98-c16ee84b79ca",
   "metadata": {},
   "source": [
    "### Observer Model\n",
    "The state-space model finds the time derivative of the real state required to maintain equilibrium, using the real state and the input:\n",
    "\n",
    "<center>$\\dot{x} = Ax + Bu$</center>\n",
    "\n",
    "The state-space model estimates the system's actual dynamics in order to find the time rate of change of the system's states, $\\dot{x}$. The model is not perfect, it estimates the time rate of change in state well when the states are already close to equilibrium. Since the spacecraft starts at equilibrium, and given relatively simple system dynamics for the spacecraft, using the state-space model likely estimates $\\dot{x}$ fairly well.\n",
    "\n",
    "In the observer model, the real state $x$ of the observer is unknown, but the estimated state $\\hat{x}$ at the current time, $t$ is known. Since the state-space model given $x$ is likely to estimate $\\dot{x}$ fairly well, a direct copy of the state-space model is created for use in the observer model, replacing the real state $x$ with the estimated state $\\hat{x}$.\n",
    "\n",
    "<center>$\\dot{\\hat{x}} = A\\hat{x} + Bu$</center>\n",
    "\n",
    "As previously stated, the output $y$ can be obtained by multiplying the matrix $C$ by the real state $x$. The value of what the observer model predicts the sensor output to be, $\\hat{y}$ can be calculated by multiplying $C$ by the estimated state $\\hat{x}$.\n",
    "\n",
    "<center>$\\hat{y} = C\\hat{x}$</center>"
   ]
  },
  {
   "attachments": {},
   "cell_type": "markdown",
   "id": "b725aec1-a59c-4008-a341-1e28ae431588",
   "metadata": {},
   "source": [
    "Since $\\hat{x}$ is not the real state, but rather an estimation of the real state, an extra term must be added to the observer model in order to make up for any error the estimated state may have. This new term corrects for the error in $\\hat{x}$ by comparing the actual sensor output $y$ to the estimated sensor output obtained by multiplying $C$ by $\\hat{x}$, $\\hat{y}$.\n",
    "\n",
    "<center>$\\dot{\\hat{x}} = A\\hat{x} + Bu - L(\\hat{y} - y)$</center>\n",
    "\n",
    "$\\hat{y} - y$ provides the error in the estimated state $\\hat{x}$ by comparing the estimated sensor output to the actual sensor output. $L$ is a matrix of only scalar values that decides how much this error should be weighed into the overall calculation of $\\dot{\\hat{x}}$. $L$ is considered the observers gain matrix, and similar to the controller's gain matrix $K$ and can similarly be found through several methods.\n",
    "\n",
    "Ideally, $\\hat{x}$ becomes very close to $x$ and the extra term $L(\\hat{y} - y)$ is minimized. To allow this to happen an optimal $L$ matrix should be chosen, one that accurately and quickly corrects the part of the model that corresponds to the state-space copy ($A\\hat{x} + Bu$)."
   ]
  },
  {
   "cell_type": "markdown",
   "id": "74041187-134b-4504-b3ae-58df123f6799",
   "metadata": {},
   "source": [
    "Before choosing a method for finding an $L$ matrix, it is first necessary to check whether the system is observable by making sure the observability matrix has the same rank as the number of states in the estimate state vector (and real state vector)."
   ]
  },
  {
   "cell_type": "markdown",
   "id": "47f41bb6-ec93-4838-90c7-dfbc89c9c727",
   "metadata": {},
   "source": [
    "The idea of observability is to capture wheather or not it is possible to use the output $y$ to estimate the state $x$. Observability asks, given the outputs of the sensors $y$, are they going to be enough to deduce the value of the states?\n",
    "\n",
    "The observability matrix $W_o$ is defined as follows:"
   ]
  },
  {
   "cell_type": "markdown",
   "id": "2102729e-7b02-4c54-8a37-a3c6b5390b78",
   "metadata": {},
   "source": [
    "$$\n",
    "\\begin{align}\n",
    "    W_o &= \\begin{bmatrix}\n",
    "           C \\\\\n",
    "           CA \\\\\n",
    "           CA^{2} \\\\\n",
    "           \\vdots \\\\\n",
    "           CA^{n-1}\n",
    "         \\end{bmatrix}\n",
    "\\end{align}\n",
    "$$"
   ]
  },
  {
   "cell_type": "markdown",
   "id": "cc2de1eb-e350-4358-9929-cfc2896c3c07",
   "metadata": {},
   "source": [
    "where $n$ is the number of states the system has."
   ]
  },
  {
   "cell_type": "markdown",
   "id": "3a656fc2-d736-4d40-9aa1-929dabf88a8e",
   "metadata": {},
   "source": [
    "The system has six states $(\\phi, \\theta, \\psi, \\omega_x, \\omega_y, \\omega_z)$ so in order for the observer to be observable, the observability matrix must have a rank of six. This is also called the matrix having \"full rank\". The following code solves for the observability matrix by continuously adding rows to the observability matrix until $n$ is equal to the number of states."
   ]
  },
  {
   "cell_type": "markdown",
   "id": "812d557e-b913-4070-93b0-db1b99ded9f1",
   "metadata": {},
   "source": [
    "And now whether the system is observable can be checked:"
   ]
  },
  {
   "cell_type": "markdown",
   "id": "93705af7-18fa-4c69-877d-d2e92b200682",
   "metadata": {},
   "source": [
    "The system is observable, and therefore the output from the sensors $y$ is enough in order to deduce the values of the states. Knowing that the sensor output can find the states, the $L$ matrix will now be designed. To understand how $L$ is found, further derivation must be performed.\n",
    "\n",
    "The goal is to choose an $L$ such that the difference between the real state $x$ and the estimated state $\\hat{x}$ is minimize (exactly or close to $0$). The difference between the estimated state and the real state will be stored in a new variable $\\tilde{x}$:"
   ]
  },
  {
   "cell_type": "markdown",
   "id": "55779ff5-2546-4dc0-be9b-688e2ff5fe87",
   "metadata": {},
   "source": [
    "<center>$\\tilde{x} = \\hat{x} - x $</center>"
   ]
  },
  {
   "cell_type": "markdown",
   "id": "061882a0-b767-4727-b254-a1156a7527cc",
   "metadata": {},
   "source": [
    "$\\tilde{x}$ is the exact error in the estimate state compared to the real state. To find the change in error with respect to time, all that is required is for a time derviative of the above equation to be taken:"
   ]
  },
  {
   "cell_type": "markdown",
   "id": "212ce0ba-a5e7-4ce4-aadb-8ac78fba07cc",
   "metadata": {},
   "source": [
    "<center>$\\dot{\\tilde{x}} = \\dot{\\hat{x}} - \\dot{x}$</center>"
   ]
  },
  {
   "cell_type": "markdown",
   "id": "e44132d5-c802-4344-8085-13ea066dfc2d",
   "metadata": {},
   "source": [
    "Plugging in the observer model for $\\dot{\\hat{x}}$ and the state-space model (the \"real\" model) for $\\dot{x}$, the $\\dot{\\tilde{x}}$ equation becomes:"
   ]
  },
  {
   "attachments": {},
   "cell_type": "markdown",
   "id": "d6d20eed-31e6-45a0-af5a-52fa9baf0a7d",
   "metadata": {},
   "source": [
    "<center>$\\dot{\\tilde{x}} = A\\hat{x} + Bu - L(\\hat{y} - y) - (Ax + Bu)$</center>\n",
    "\n",
    "<center>$\\dot{\\tilde{x}} = A\\hat{x} + Bu - L(\\hat{y} - y) - Ax - Bu$</center>\n",
    "\n",
    "<center>$\\dot{\\tilde{x}} = A\\hat{x} - Ax - L(\\hat{y} - y)$</center>\n",
    "\n",
    "<center>$\\dot{\\tilde{x}} = A(\\hat{x} - x) - L(\\hat{y} - y)$</center>\n",
    "\n",
    "$y$ is then swapped for $Cx$ and $\\hat{y}$ is swapped for $C\\hat{x}$.\n",
    "\n",
    "<center>$\\dot{\\tilde{x}} = A(\\hat{x} - x) - L(C\\hat{x} - Cx)$</center\n",
    "\n",
    "<center>$\\dot{\\tilde{x}} = A(\\hat{x} - x) - LC(\\hat{x} - x)$</center>\n",
    "\n",
    "<center>$\\dot{\\tilde{x}} = (A - LC)(\\hat{x} - x)$</center>\n",
    "\n",
    "$\\tilde{x} = \\hat{x} - x$, so $\\hat{x} - x$ can be subbed out, yielding the final equation:\n",
    "\n",
    "<center>$\\dot{\\tilde{x}} = (A - LC)\\tilde{x}$</center>\n",
    "\n",
    "$\\dot{\\tilde{x}}$ describes how the exact error between the real state and the estimated state changes. $A$, $L$, and $C$ are all matrices containing all scalar values. Subtraction and multiplication of matrices with only scalar values, may only yield other matrices containing only scalar values. So $(A-LC)$ is also a matrix with only scalar values.\n",
    "\n",
    "When the state feedback controller's gain matrix $K$ was designed, it was constructed such that the matrix term in the equation $\\dot{x} = (A-BK)x$ had negative eigenvalues. The significance of $(A-BK)$ having negative eigenvalues, was that it made the system \"closed\" looped, i.e. it made it so that provided any real state $x$ near equilibrium, $\\dot{x}$ would contain the value of the time rate of change in state required to make the system states tend towards equilibrium.\n",
    "\n",
    "This idea parallels how $L$ is designed. It will be designed such that the matrix term in the equation $\\dot{\\tilde{x}} = (A - LC)\\tilde{x}$ has negative eigenvalues. The significance of $(A-LC)$ haing negative eigenvalues, is that it will make it so that provided any error $\\tilde{x}$, $\\dot{\\tilde{x}}$ will contain the value of the time rate of change in error required to make the observer model error tend towards $0$.\n",
    "\n",
    "There are several methods that can be used to find $L$, however the method used to choose $L$ in this project is LQR, (Linear Quadratic Regulator), because it allows the designer to choose weight's on the observer outputs such that output noise is minimized (diagonals in the $Q$ matrix) and to choose weight's on the observer outputs such that outside disturbances have minimal effects on the state estimation (diagonals in the $R$ matrix). The place poles method does not allow for the amount disturbance and noise is minimized to be specifically choosen, which is why this method was not choosen to find $L$ for this project.\n",
    "\n",
    "First a $Qo$ matrix was guessed. Since the sensor provides sixteen noisy outputs, the $Q_o$ matrix has dimensions of $(16,16)$ with each diagonal corresponding to one output from the sensor. The diagonal values are choosen such that each output value will contain minimal sensor noise. The sensor outputs sixteen coordinates, eight $y$ coordinates and eight $z$ coordinates, corresponding to the eight stars that the star tracker is tracking."
   ]
  },
  {
   "cell_type": "code",
   "execution_count": 175,
   "id": "3d91481c-3214-474c-ac5c-9585100e29fe",
   "metadata": {},
   "outputs": [],
   "source": [
    "# Our current Q matrix for the observer\n",
    "Qo = np.diag((1, 1, 1, 1, 1, 1, 1, 1, 1, 1, 1, 1, 1, 1, 1, 1))"
   ]
  },
  {
   "cell_type": "markdown",
   "id": "cb5a2a0d-a39a-4db2-9406-c491a8796243",
   "metadata": {},
   "source": [
    "A $Ro$ matrix was then guessed. Since there are six states that could be effected by disturbances, the $R_o$ matrix has dimensions of $(6,6)$ with each diagonal corresponding to one estimated state. The diagonal values are choosen such that each output value weighs outside disturbances, like red meteors, into their calculation."
   ]
  },
  {
   "cell_type": "code",
   "execution_count": 176,
   "id": "1a852b3e-4b89-46a1-995b-4ac833eee1db",
   "metadata": {},
   "outputs": [],
   "source": [
    "Ro = np.diag((1, 1, 1, 1, 1, 1)) * 5"
   ]
  },
  {
   "cell_type": "markdown",
   "id": "5b38e148-e16a-4af8-9658-9d2827936bb8",
   "metadata": {},
   "source": [
    "The $L$ matrix is then solved for by similar means as $K$ was."
   ]
  },
  {
   "cell_type": "code",
   "execution_count": 177,
   "id": "4e0d37cc-e8c9-45e8-8260-f52e0b74a6f1",
   "metadata": {},
   "outputs": [],
   "source": [
    "L = lqr(A_num.T, C.T, linalg.inv(Ro), linalg.inv(Qo))\n",
    "L = L.T"
   ]
  },
  {
   "cell_type": "markdown",
   "id": "43a46467-e48d-4e62-a6df-313f94d6a6d6",
   "metadata": {},
   "source": [
    "To confirm the L matrix found minimizes $\\tilde{x}$, the eigenvalues are checked of $A - LC$. In order for it to be minimized, all eigenvalues must be less than 0."
   ]
  },
  {
   "cell_type": "code",
   "execution_count": 178,
   "id": "521835c7-8164-4375-8705-6b3817377166",
   "metadata": {},
   "outputs": [
    {
     "data": {
      "text/plain": [
       "[(-0.41517078662919155+0.3569709387476724j),\n",
       " (-0.41517078662919155-0.3569709387476724j),\n",
       " (-3.1548897815005743+0j),\n",
       " (-1.054367247746923+0j),\n",
       " (-3.171001639771396+0j),\n",
       " (-1.0537709224773435+0j)]"
      ]
     },
     "metadata": {},
     "output_type": "display_data"
    }
   ],
   "source": [
    "display(np.linalg.eigvals(A_num - L @ C).tolist())"
   ]
  },
  {
   "cell_type": "markdown",
   "id": "ac2fdbdf-ea7c-4665-bd44-34d0d43bf8e7",
   "metadata": {},
   "source": [
    "All eigenvalues are negative so, $\\tilde{x}$ is minimized.\n",
    "\n",
    "To complete the observer model, linear feedback is implemented so that the model contains no user inputs at all and the system can control itself all on it's own using it's sensors. The user does not need to choose inputs to give the system, the system figures out what input it should have based on it's current estimated state $\\hat{x}$.\n",
    "\n",
    "<center>$\\dot{\\hat{x}} = A\\hat{x} - BK\\hat{x} - L(\\hat{y} - y)$</center>"
   ]
  },
  {
   "cell_type": "markdown",
   "id": "12559879-8e56-422f-a0c9-ca3438ef227e",
   "metadata": {},
   "source": [
    "## Experimental Methods\n",
    "\n",
    "### Controller and Observer Implementation\n",
    "The objective of the observer is to make the spacecraft’s star tracker always points such that it shows all of the eight stars in the I constellation. In order to do so the input is constantly changed based on the estimated state. The controller both estimates the state that the spacecraft is at and from that state estimate decides how much input (torque) should be added to the spacecraft’s reaction wheels in order to make the spacecraft rotate to an equilibrium point such that all the I constellation stars are in view.\n",
    "In order to make this happen the controller has three functions. The first function “__init__” takes in self (the current class instance) as a parameter, and sets certain constant matrices for that specific instance. It also defines the initial $\\hat{x}$, where all the states equal $0$. The matrices that are defined are $A, B, C, K, L, u_e$, and $\\hat{x}$. These matrices can then be used in the run function later. A dictionary for all the previous estimated states is also created. This is so later the root mean square error may be calculated. “__init__” is called once when an instance of the Controller class is created.\n",
    "The “reset” function takes in self (the current class instance) as a parameter, and resets the simulation back to its original equilibrium state where all of the system’s states are $0$. This function serves the sole purpose of resetting the simulation so that it can be tested again.\n",
    "The “run” function takes in self (the current class instance) and a dictionary of data, called “**kwargs” as parameters. The dictionary contains two keys “q_stars” whose value is an two dimensional array of 2D coordinates of each star in the star tracker’s field of view (this is the output of the star tracker sensor) and $dt$ which contains the value of the time step, in seconds. The run function is called every time step ($dt$) in order to update the estimated state. The run function first stores the output $y$ which is directly equal to the value at kwargs key q_stars, except reshape to be a $(16,1)$ column vector. The reason that q_stars must be reshaped is that the estimated output $C\\hat{x}$ will be a $(16,1)$ column vector containing all the estimated outputs based on the estimated states. Since the observer model compares $C\\hat{x}$ to $y$ through matrix subtraction, the vectors must have the same size. After the run function stores the output vector, the input $u$ is calculated. In the linear feedback system, the input “u” is found by multiplying the negative of the controller’s gain matrix “K” by the estimated state $\\hat{x}$ (it cannot be multiplied by the real state because the real state is unknown).\n",
    "The $u$ found contains four separate torque values corresponding to the torques of each reaction wheel. The issue is that currently the torque found does not account for the fact that the equilibrium torques may be non-zero. Although in this case they are all $0$, equilibrium is still added to every input in case in the future a different equilibrium torque was used. Then the equilibrium torque will be accounted for in the input calculation. The input found is the input torque necessary for the star tracker to shift its states towards equilibrium.\n",
    "Finally, the estimated state $\\hat{x}$ is updated. The $\\dot{\\hat{x}}$ calculated by the observer model is added to the current state estimate to find what the $\\hat{x}$ should be at the next time step. This $\\hat{x}$ carries into the next call of the run function so that it can be utilized to find the new input $u$ for that time step. The $\\hat{x}$’s states are then appended to a list of all of the previous $\\hat{x}$s and the input is returned and then put into the torques of the individual reaction wheels."
   ]
  },
  {
   "cell_type": "markdown",
   "id": "89465b4c-eb04-43fe-b17c-938ad6bb7458",
   "metadata": {},
   "source": [
    "\n",
    "### Requirements\n",
    "\n",
    "In order to verify the success of our controller, we must define requirements and verification methods to see if our controller can meet these expectations. Our requirements had to assess the ability of our controller to maintain a fixed angle and view of the stars, despite the debris hitting the spacecraft. Our simulation stops running for a trial once the stars are either out of view of the camera or if the magnitude of any of the wheels exceeds 50 rad/s, which is the limit of the speed of the wheel. The time the simulation stops due to one of these reasons will be what we define as the time of failure. If the simulation reaches the end of a 30 second trial without failing, the time of failure will be 30 seconds. \n",
    "1. The controller shall average a time for failure of at least 10 seconds when we complete 100 trials that run for max 30 seconds.\n",
    "2. The root mean square error (RMSE) between the estimated state estimate and predicted state estimate shall not exceed 0.5 over the 100 30 second simulations 90% of the time.\n",
    "\n",
    "### Verifications\n",
    "In order to ensure the requirements are passed, we need methods of verification. To verify the success of the controller, we will run 100 simulations that have a max runtime of 30 seconds and plot various attributes of these simulations. To verify the average of the time of failure, we will plot the failure times into a histogram and then using the mean formula to find the average: \n",
    "\n",
    "To verify the second requirement, we can calculate the RMSE of each trial and plot the RMSE of each trial in a histogram as well. This way we can easily see if our simulation ever exceeds an RMSE of 0.7. If it never exceeds that value, our requirement is satisfied. "
   ]
  },
  {
   "cell_type": "markdown",
   "id": "6c97f82c-20cd-4c2c-9530-f4a68e259edc",
   "metadata": {},
   "source": [
    "## Running the Simulation\n",
    "\n",
    "To use the controller one must first run the cell below which creates the three necessary functions."
   ]
  },
  {
   "cell_type": "code",
   "execution_count": 179,
   "id": "06cc22bb-fde2-479e-82b7-173e9611699c",
   "metadata": {},
   "outputs": [],
   "source": [
    "# Create the Controller class\n",
    "class Controller():\n",
    "    def __init__(self):\n",
    "        #setting up the coefficient matrices\n",
    "        self.A = A_num\n",
    "        self.B = B_num\n",
    "        self.C = C\n",
    "        self.K = K\n",
    "        self.L = L\n",
    "\n",
    "        self.u_e = np.array([tau1e, tau2e, tau3e, tau4e])\n",
    "        self.q_e = np.zeros(16)\n",
    "        pass\n",
    "    \n",
    "    def reset(self):\n",
    "        # the initial state estimate of the system\n",
    "        self.curr_xhat = np.array([0.,0.,0.,0.,0.,0.])\n",
    "        self.xhat_history = {\"roll\" : [],\n",
    "                     \"pitch\" : [],\n",
    "                     \"yaw\" : [],\n",
    "                     \"wx\" : [],\n",
    "                     \"wy\" : [],\n",
    "                     \"wz\" : []}\n",
    "        self.xhat = np.array([0.,0.,0.,0.,0.,0.])\n",
    "        pass\n",
    "    \n",
    "    def run(self, **kwargs):\n",
    "        y = kwargs[\"q_stars\"].reshape(16,)\n",
    "        u = -self.K @ self.xhat\n",
    "        t1 = u[0] + self.u_e[0]\n",
    "        t2 = u[1] + self.u_e[1]\n",
    "        t3 = u[2] + self.u_e[2]\n",
    "        t4 = u[3] + self.u_e[3]\n",
    "        inputs = [t1, t2, t3, t4]\n",
    "        self.xhat += kwargs[\"dt\"] * (self.A @ self.xhat + self.B @ u - self.L @ ((self.C @ self.xhat) - y))\n",
    "\n",
    "        self.xhat_history[\"roll\"].append(self.xhat[0])\n",
    "        self.xhat_history[\"pitch\"].append(self.xhat[1])\n",
    "        self.xhat_history[\"yaw\"].append(self.xhat[2])\n",
    "        self.xhat_history[\"wx\"].append(self.xhat[3])\n",
    "        self.xhat_history[\"wy\"].append(self.xhat[4])\n",
    "        self.xhat_history[\"wz\"].append(self.xhat[5])\n",
    "        return inputs"
   ]
  },
  {
   "cell_type": "markdown",
   "id": "856c3f0c-ea6b-434b-8f5c-0743ea23d823",
   "metadata": {},
   "source": [
    "Then the cell below creates an instance of the Controller class"
   ]
  },
  {
   "cell_type": "code",
   "execution_count": 180,
   "id": "91f99c2f-26ef-4515-875c-d5be5505ff4b",
   "metadata": {},
   "outputs": [],
   "source": [
    "controller = Controller()"
   ]
  },
  {
   "cell_type": "code",
   "execution_count": 181,
   "id": "de3c72ca-251f-49a3-9bf7-8416ce1d5fb2",
   "metadata": {},
   "outputs": [],
   "source": [
    "import ae353_spacecraft"
   ]
  },
  {
   "cell_type": "markdown",
   "id": "404d5c6a-d8e6-40e2-bed3-2a5a1ce64d1d",
   "metadata": {},
   "source": [
    "Then the simulation is created. In the simulation, a user can choose whether they want to see the simulation in motion or they want the simulation to run all on its own by changing the boolean parameter “visualization” to True or False."
   ]
  },
  {
   "cell_type": "code",
   "execution_count": 182,
   "id": "80c2d1df-5247-44cf-9de7-35c4d85780d5",
   "metadata": {},
   "outputs": [],
   "source": [
    "sim = ae353_spacecraft.Spacecraft_Sim(use_keyboard=False,\n",
    "                                      visualization=False,\n",
    "                                      animation=False,\n",
    "                                      n_stars=20)"
   ]
  },
  {
   "cell_type": "markdown",
   "id": "4d9710b3-e018-4921-839c-ff40946ef1f8",
   "metadata": {},
   "source": [
    "The simulation is then run taking in the instance of the controller previously created. A user can change the initial angular positions and velocities. They can also change the amount of sensor noise, whether debris (red meteors) should hit the spacecraft or not, and the amount of time the simulation runs.\n",
    "\n",
    "In our current implementation, we run the code 100 times by placing the simulation in a 'for' loop that iterates 100 times and appends the data to an array. \n",
    "\n",
    "We have 4 arrays: fail_time, which records the time of failure for each 30 second trial, RMSE_psi, RMSE_theta, and RMSE_psi which record the mean RMSE of a trial. These will all be used to verify our requirements and our controller's success."
   ]
  },
  {
   "cell_type": "code",
   "execution_count": 183,
   "id": "3f1f0da9-9933-4585-afff-772645023d1b",
   "metadata": {},
   "outputs": [
    {
     "name": "stdout",
     "output_type": "stream",
     "text": [
      "No debris left\n",
      "Wheel 2 speed < -50 rad/s\n",
      "Wheel 2 speed < -50 rad/s\n",
      "Star(s) out of view\n",
      "Star(s) out of view\n",
      "Star(s) out of view\n",
      "Star(s) out of view\n",
      "Star(s) out of view\n",
      "Wheel 3 speed > 50 rad/s\n",
      "Star(s) out of view\n",
      "Wheel 3 speed < -50 rad/s\n",
      "Wheel 3 speed > 50 rad/s\n",
      "Star(s) out of view\n",
      "Star(s) out of view\n",
      "Star(s) out of view\n",
      "Star(s) out of view\n",
      "Star(s) out of view\n",
      "Wheel 1 speed < -50 rad/s\n",
      "Star(s) out of view\n",
      "Star(s) out of view\n",
      "Star(s) out of view\n",
      "Star(s) out of view\n",
      "Star(s) out of view\n",
      "Star(s) out of view\n",
      "Star(s) out of view\n",
      "Star(s) out of view\n",
      "Wheel 3 speed > 50 rad/s\n",
      "Star(s) out of view\n",
      "Wheel 1 speed > 50 rad/s\n",
      "Star(s) out of view\n",
      "Star(s) out of view\n",
      "Wheel 4 speed > 50 rad/s\n",
      "Star(s) out of view\n",
      "Star(s) out of view\n",
      "Wheel 3 speed < -50 rad/s\n",
      "Star(s) out of view\n",
      "Wheel 3 speed < -50 rad/s\n",
      "Star(s) out of view\n",
      "No debris left\n",
      "Star(s) out of view\n",
      "Wheel 1 speed > 50 rad/s\n",
      "Star(s) out of view\n",
      "Star(s) out of view\n",
      "Star(s) out of view\n",
      "Wheel 2 speed > 50 rad/s\n",
      "No debris left\n",
      "Wheel 4 speed < -50 rad/s\n",
      "Wheel 3 speed > 50 rad/s\n",
      "Star(s) out of view\n",
      "Star(s) out of view\n",
      "Wheel 3 speed > 50 rad/s\n",
      "Wheel 2 speed < -50 rad/s\n",
      "Star(s) out of view\n",
      "Star(s) out of view\n",
      "Star(s) out of view\n",
      "Star(s) out of view\n",
      "Star(s) out of view\n",
      "Star(s) out of view\n",
      "Wheel 2 speed > 50 rad/s\n",
      "Star(s) out of view\n",
      "Star(s) out of view\n",
      "Wheel 2 speed > 50 rad/s\n",
      "Wheel 3 speed < -50 rad/s\n",
      "Wheel 4 speed > 50 rad/s\n",
      "Star(s) out of view\n",
      "Star(s) out of view\n",
      "Wheel 3 speed > 50 rad/s\n",
      "Star(s) out of view\n",
      "Star(s) out of view\n",
      "Wheel 3 speed > 50 rad/s\n",
      "Star(s) out of view\n",
      "Wheel 3 speed > 50 rad/s\n",
      "No debris left\n",
      "Star(s) out of view\n",
      "Wheel 3 speed < -50 rad/s\n",
      "Wheel 2 speed > 50 rad/s\n",
      "Star(s) out of view\n",
      "Star(s) out of view\n",
      "Star(s) out of view\n",
      "Star(s) out of view\n",
      "Star(s) out of view\n",
      "Star(s) out of view\n",
      "Star(s) out of view\n",
      "Wheel 4 speed > 50 rad/s\n",
      "Star(s) out of view\n",
      "Wheel 3 speed > 50 rad/s\n",
      "No debris left\n",
      "No debris left\n",
      "Wheel 3 speed > 50 rad/s\n",
      "Star(s) out of view\n",
      "Star(s) out of view\n",
      "Star(s) out of view\n",
      "Star(s) out of view\n",
      "Star(s) out of view\n",
      "Star(s) out of view\n"
     ]
    }
   ],
   "source": [
    "fail_time = np.array([])\n",
    "RMSE_psi_array = []\n",
    "RMSE_theta_array = []\n",
    "RMSE_phi_array = []\n",
    "for i in range(0, 100):\n",
    "    data_i = sim.run(controller,\n",
    "               initial_orientation=[0., 0., 0.],\n",
    "               initial_ang_vel=[0., 0., 0.],\n",
    "               sensor_noise=0.1,\n",
    "               debris=True,\n",
    "               max_time=30.0)\n",
    "    \n",
    "    fail_time = np.hstack((fail_time, (data_i['time'])[-1]))\n",
    "    RMSE_psi = np.sqrt(np.mean(np.square(np.array(data_i['yaw']) - np.array(controller.xhat_history['yaw']))))\n",
    "    RMSE_psi_array.append(RMSE_psi)\n",
    "    RMSE_theta = np.sqrt(np.mean(np.square(np.array(data_i['pitch']) - np.array(controller.xhat_history[\"pitch\"]))))\n",
    "    RMSE_theta_array.append(RMSE_theta)  \n",
    "    RMSE_phi = np.sqrt(np.mean(np.square(np.array(data_i['roll']) - np.array(controller.xhat_history[\"roll\"]))))\n",
    "    RMSE_phi_array.append(RMSE_phi)\n",
    "    controller.reset()"
   ]
  },
  {
   "cell_type": "markdown",
   "id": "0fadfcf6-c9d5-4d87-9ff7-8665522883e3",
   "metadata": {},
   "source": [
    "## Results and Analysis"
   ]
  },
  {
   "cell_type": "markdown",
   "id": "1b55685f-50e6-4247-902f-2bdd75358d69",
   "metadata": {},
   "source": [
    "Before processing the data, it is necessary to understand why the $Q$ and $R$ matrices were selected in the way they were. We found, through trial and error, that the most successful $Q_{con}$ matrices weighed heavily on the $\\phi$ and $\\psi$ values. The $\\theta$ values were not as important, as the roll did not change the way the tracker was facing the stars. It only mattered if debris hit the spacecraft, which is why we didn't reduce the weight associated with that too much. $R_{con}$ remained an identity matrix because it didn't impact the controller's success positively. \n",
    "\n",
    "$Q_{obsv}$ was untouched by us, because the weightage of the position of each star should remain equal. There shouldn't be any emphasis on any of them. However, we increased $R_{obsv}$ value as it made our controller more reactive to the external distrubances. A higher weight meant it reacted more extremely, but if it was too high, the wheel speed would exceed it's limit. "
   ]
  },
  {
   "cell_type": "code",
   "execution_count": 184,
   "id": "5b23ea45-dabd-46f3-b3aa-148dd30d4f64",
   "metadata": {},
   "outputs": [],
   "source": [
    "# Import the pyplot module from the matplotlib package\n",
    "import matplotlib.pyplot as plt\n",
    "\n",
    "# Import numpy\n",
    "import numpy as np"
   ]
  },
  {
   "cell_type": "code",
   "execution_count": 191,
   "id": "69618094-1331-4e63-8525-30837c13bcab",
   "metadata": {},
   "outputs": [
    {
     "data": {
      "image/png": "[encoded data removed]",
      "text/plain": [
       "<Figure size 640x480 with 1 Axes>"
      ]
     },
     "metadata": {},
     "output_type": "display_data"
    }
   ],
   "source": [
    "plt.hist(fail_time, bins=30, color='blue', alpha=0.7)\n",
    "plt.title('Histogram of Failure Times')\n",
    "plt.xlabel('Failure Times (s)')\n",
    "plt.ylabel('Frequency')\n",
    "plt.grid(True)\n",
    "plt.show()"
   ]
  },
  {
   "cell_type": "code",
   "execution_count": 192,
   "id": "f5e71cfe-9428-42f0-89a7-6b3f6d14d490",
   "metadata": {},
   "outputs": [
    {
     "data": {
      "image/png": "[encoded data removed]",
      "text/latex": [
       "$\\displaystyle 15.9873000000003$"
      ],
      "text/plain": [
       "15.987300000000332"
      ]
     },
     "execution_count": 192,
     "metadata": {},
     "output_type": "execute_result"
    }
   ],
   "source": [
    "# This code calculates the average time of failure over the 100 simulations\n",
    "avg = 0;\n",
    "for i in range (0, 100):\n",
    "    avg += fail_time[i]\n",
    "avg / 100"
   ]
  },
  {
   "cell_type": "markdown",
   "id": "3188c112-4d81-4b00-93f0-f1ff3a870599",
   "metadata": {},
   "source": [
    "The histogram gives us a clear understanding of what the distribution of the failure times look like. The average failure time still sits above the requirement since it is 15.99. This means that our controller succeeded since the average time till failure exceeded the 10 second mark. The average failure time could've been higher, but since we limited it to 30 second trials, the average was limited as well. Since we limited the trials to 30 seconds, we can't tell tell if this is normally distributed, but with longer time trials, we could make more assumptions. "
   ]
  },
  {
   "cell_type": "code",
   "execution_count": 193,
   "id": "a7c40581-f632-44de-9de3-4386f108b8b2",
   "metadata": {},
   "outputs": [
    {
     "data": {
      "text/plain": [
       "Text(0.5, 1.0, 'RMSE of Yaw Histogram')"
      ]
     },
     "execution_count": 193,
     "metadata": {},
     "output_type": "execute_result"
    },
    {
     "data": {
      "image/png": "[encoded data removed]",
      "text/plain": [
       "<Figure size 640x480 with 1 Axes>"
      ]
     },
     "metadata": {},
     "output_type": "display_data"
    }
   ],
   "source": [
    "# plt.figure(figsize=(9, 5))\n",
    "plt.hist(RMSE_psi_array,50)\n",
    "plt.xlabel(\"RMSE of Yaw\")\n",
    "plt.ylabel(\"Number of Simulations\")\n",
    "plt.title(\"RMSE of Yaw Histogram\")"
   ]
  },
  {
   "cell_type": "code",
   "execution_count": 194,
   "id": "47dabb70-d023-4b33-a409-8ee76ea1a7b7",
   "metadata": {},
   "outputs": [
    {
     "data": {
      "text/plain": [
       "Text(0.5, 1.0, 'RMSE of Pitch Histogram')"
      ]
     },
     "execution_count": 194,
     "metadata": {},
     "output_type": "execute_result"
    },
    {
     "data": {
      "image/png": "[encoded data removed]",
      "text/plain": [
       "<Figure size 640x480 with 1 Axes>"
      ]
     },
     "metadata": {},
     "output_type": "display_data"
    }
   ],
   "source": [
    "plt.hist(RMSE_theta_array,50)\n",
    "plt.xlabel(\"RMSE of Pitch\")\n",
    "plt.ylabel(\"Number of Simulations\")\n",
    "plt.title(\"RMSE of Pitch Histogram\")"
   ]
  },
  {
   "cell_type": "code",
   "execution_count": 195,
   "id": "d8e14819-5c96-4a55-8e54-899fe7ac823b",
   "metadata": {},
   "outputs": [
    {
     "data": {
      "text/plain": [
       "Text(0.5, 1.0, 'RMSE of Roll Histogram')"
      ]
     },
     "execution_count": 195,
     "metadata": {},
     "output_type": "execute_result"
    },
    {
     "data": {
      "image/png": "[encoded data removed]",
      "text/plain": [
       "<Figure size 640x480 with 1 Axes>"
      ]
     },
     "metadata": {},
     "output_type": "display_data"
    }
   ],
   "source": [
    "plt.hist(RMSE_phi_array,50)\n",
    "plt.xlabel(\"RMSE of Roll\")\n",
    "plt.ylabel(\"Number of Simulations\")\n",
    "plt.title(\"RMSE of Roll Histogram\")"
   ]
  },
  {
   "cell_type": "markdown",
   "id": "c3fcc420-147a-457c-bc1d-c8f3b6a05db6",
   "metadata": {},
   "source": [
    "From the RMSE graphs, we can see that only 3 trials exceeded the RMSE's exceeded the limit of 0.7. Although after being hit by debris there were usually massive changes to the system, the estimated state and the actual state remained relatively close. This means our system was successful, as it fulfilled our second requirement as well. The RMSE of pitch and yaw remained relatively low, not going over 0.15, however, the roll seemed to be more inaccurate, but it still stayed below our limit for 97% of the trials. "
   ]
  },
  {
   "cell_type": "markdown",
   "id": "5f46dc2b-4c3b-4ff2-88bb-e461917fc2b0",
   "metadata": {},
   "source": [
    "Overall, from the histograms dealing the failure times and the data aon the RMSE's of all the angular positions, we can see that our controller fulfilled its requirement of surpassing an average time till failure of 10 seconds by reaching an average of ___ and it stayed below its limit of ____ for all angular positions. "
   ]
  },
  {
   "cell_type": "markdown",
   "id": "8f3c0a80-486e-4105-8943-d6865e98480f",
   "metadata": {},
   "source": [
    "## Conclusion\n",
    "We were contracted to create a controller and observer for a spacecraft that has a star tracker onboard. We used state estimates and sensor measurements of the positions of pre-cataloged stars to determine the position and speed of the spacecraft. Through these estimates and measurements, we were able to apply torques to 4 different wheels which worked as momentum exchange devices to alter the rotational position of the spacecraft. Debris hitting the spacecraft at random times simulated possible disturbances in space and our controller was expected to keep the stars in view of the camera. By creating requirements around the time till failure of the simulation, the RMSE between the estimated state estimate and the actual state, and the wheel velocities, we could verify the success of the controller. For further analysis, we could adjust the initial conditions of the spacecraft so it isn't directly facing the stars, to see if it could correct itself and handle the debris. We could also implement a PID controller for better controller performance.\r\n",
    "\n",
    " "
   ]
  },
  {
   "cell_type": "markdown",
   "id": "cf444926-96ff-4a01-bf4e-25286b2dd804",
   "metadata": {},
   "source": [
    "## Acknowledgements\n",
    "\n",
    "We would like to thank Arna Bhardwaj for her help on creating our working controller and answering concerns on the report. We would also like to thank the rest of the AE353 teaching staff for helping to set up the dynamics for the spacecraft. Finally, we would like to thank Dr. Chang for giving us an extension on the report due to unforeseen circumstances on our end."
   ]
  },
  {
   "cell_type": "markdown",
   "id": "7339547a-0837-4d3d-84e0-f57d902f65a6",
   "metadata": {},
   "source": [
    "## Team Reflection\n",
    "The project overall went well, we met on five separate occasions and asked Professor Chang questions when necessary.  What went well was communication, code was easily sent back and forth through Slack, and the report was split in half with each person delegated to specific pieces of the report. What might have helped our team be more productive is software that allowed both of us to write in the same jupyter notebook at the same time."
   ]
  },
  {
   "cell_type": "markdown",
   "id": "e42ee85c-6858-4e99-ab76-2844a8a793cd",
   "metadata": {},
   "source": [
    "## References:\n",
    "[1] Cheng, W., DP 3 Spacecraft with star tracker. Canvas, 2024\r\n",
    "21] Cruz, J. B., and Petar V. K. Feedback Systems. New York: McGraw-Hill, 1971. pp. 265-28\n",
    "0"
   ]
  },
  {
   "cell_type": "code",
   "execution_count": null,
   "id": "ea53f642-fff7-406f-a637-2ad9bd3a47bf",
   "metadata": {},
   "outputs": [],
   "source": []
  }
 ],
 "metadata": {
  "kernelspec": {
   "display_name": "Python 3 (ipykernel)",
   "language": "python",
   "name": "python3"
  },
  "language_info": {
   "codemirror_mode": {
    "name": "ipython",
    "version": 3
   },
   "file_extension": ".py",
   "mimetype": "text/x-python",
   "name": "python",
   "nbconvert_exporter": "python",
   "pygments_lexer": "ipython3",
   "version": "3.11.7"
  }
 },
 "nbformat": 4,
 "nbformat_minor": 5
}
