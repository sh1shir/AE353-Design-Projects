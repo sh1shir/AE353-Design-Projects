{
 "cells": [
  {
   "cell_type": "markdown",
   "id": "bfbe3b46-48c9-4c33-8edf-b475e22b1438",
   "metadata": {},
   "source": [
    "# AE353 DP4: Drone Race"
   ]
  },
  {
   "cell_type": "markdown",
   "id": "78a30e88-b28f-484e-b4cf-cfefa9e8affb",
   "metadata": {},
   "source": [
    "## System Linearization and State Space Form\n",
    "\n",
    "In order to have a working controller and observer, the dynamics for the sensors and the controller must be derived. "
   ]
  },
  {
   "cell_type": "code",
   "execution_count": 1,
   "id": "bd0774ab-48d9-4a28-ae54-401ff5fbadaf",
   "metadata": {},
   "outputs": [],
   "source": [
    "import sympy as sym\n",
    "import numpy as np\n",
    "from scipy import linalg\n",
    "sym.init_printing()"
   ]
  },
  {
   "cell_type": "code",
   "execution_count": 2,
   "id": "2057d856-bfa0-4877-ad32-15dfd48c3cc2",
   "metadata": {},
   "outputs": [],
   "source": [
    "# Get the gravity in m/s^2\n",
    "from ae353_quadrotor import get_gravity\n",
    "planet = \"Earth\"\n",
    "grav = get_gravity(planet, verbose=True)"
   ]
  },
  {
   "cell_type": "code",
   "execution_count": 3,
   "id": "5ec4e21b-1232-4806-8719-16837668e190",
   "metadata": {},
   "outputs": [],
   "source": [
    "# Mass and moment of inertia of the bus\n",
    "mass = 0.5    # The mass of the quadrotor in kg\n",
    "Ixx = 0.0023  # The moment of inertia of the quadrotor in \n",
    "Iyy = 0.0023  # The mass of the quadrotor in kg\n",
    "Izz = 0.0040  # The mass of the quadrotor in kg\n",
    "lxy = 0.25    # The x or y distance from the quadrotor frame to the mocap markers in meters\n",
    "lz = 0.046875 # The z distance from the quadrotor frame to the mocap markers in meters"
   ]
  },
  {
   "cell_type": "code",
   "execution_count": 4,
   "id": "bd4a3731-090b-4f0d-9e4f-3a1f994c6f16",
   "metadata": {},
   "outputs": [
    {
     "name": "stdout",
     "output_type": "stream",
     "text": [
      "px, py, pz rate as a function of orientation and body-fixed velocities:\n",
      "Body-fixed velocity rates as a function of orientation, body-fixed velocities, and applied forces:\n",
      "Roll, pitch, and yaw rate as a function of orientation and body-fixed angular rates:\n",
      "Time derivative of the angular velocities in the body-fixed frame:\n"
     ]
    }
   ],
   "source": [
    "# Define position\n",
    "px_inW, py_inW, pz_inW = sym.symbols('p_x, p_y, p_z')\n",
    "p_inW = sym.Matrix([[px_inW],\n",
    "                    [py_inW],\n",
    "                    [pz_inW]])\n",
    "\n",
    "# Define velocity\n",
    "vx_inB, vy_inB, vz_inB = sym.symbols('v_x, v_y, v_z')\n",
    "v_inB = sym.Matrix([[vx_inB],\n",
    "                    [vy_inB],\n",
    "                    [vz_inB]])\n",
    "\n",
    "# Define roll (phi), pitch (theta), and yaw (psi) angles\n",
    "phi, theta, psi = sym.symbols('phi, theta, psi')\n",
    "\n",
    "# Define angular velocities\n",
    "wx_inB, wy_inB, wz_inB = sym.symbols('omega_x, omega_y, omega_z')\n",
    "w_inB = sym.Matrix([[wx_inB],\n",
    "                    [wy_inB],\n",
    "                    [wz_inB]])\n",
    "\n",
    "# Define roll, pitch, and yaw rotation matrices that describe the bus's orientation in the \n",
    "# world frame\n",
    "Rx = sym.Matrix([[1,            0,             0],\n",
    "                 [0, sym.cos(phi), -sym.sin(phi)],\n",
    "                 [0, sym.sin(phi),  sym.cos(phi)]])\n",
    "Ry = sym.Matrix([[ sym.cos(theta), 0, sym.sin(theta)],\n",
    "                 [              0, 1,              0],\n",
    "                 [-sym.sin(theta), 0, sym.cos(theta)]])\n",
    "Rz = sym.Matrix([[sym.cos(psi), -sym.sin(psi), 0],\n",
    "                 [sym.sin(psi),  sym.cos(psi), 0],\n",
    "                 [           0,             0, 1]])\n",
    "R_ofB_inW = Rz @ Ry @ Rx\n",
    "R_ofW_inB = R_ofB_inW.T\n",
    "\n",
    "# Define inputs\n",
    "taux_inB, tauy_inB, tauz_inB, fz_inB = sym.symbols('tau_x, tau_y, tau_z, f_z')\n",
    "\n",
    "# Get the net torque vector\n",
    "tau_inB = sym.Matrix([[taux_inB],\n",
    "                      [tauy_inB],\n",
    "                      [tauz_inB]])\n",
    "tau_inB = sym.simplify(tau_inB)\n",
    "\n",
    "# Get the gravity force and convert to body coordiantes\n",
    "grav_inW = sym.Matrix([[0.],\n",
    "                       [0.],\n",
    "                       [-mass * grav]])\n",
    "grav_inB = R_ofW_inB @ grav_inW\n",
    "\n",
    "# Get the net force vector\n",
    "f_inB = grav_inB + sym.Matrix([[0.],\n",
    "                               [0.],\n",
    "                               [fz_inB]])\n",
    "f_inB = sym.simplify(f_inB)\n",
    "\n",
    "# Assemble the moment of inertia matrix\n",
    "I_inB = sym.Matrix([[Ixx, 0.,  0.],\n",
    "                    [0.,  Iyy, 0.],\n",
    "                    [0.,  0.,  Izz]])\n",
    "\n",
    "v_inW = R_ofB_inW @ v_inB\n",
    "xyz_dot = sym.simplify(v_inW)\n",
    "print(\"px, py, pz rate as a function of orientation and body-fixed velocities:\")\n",
    "sym.N(xyz_dot,3)\n",
    "\n",
    "v_inB_dot = (1 / mass) * (f_inB - w_inB.cross(mass * v_inB))\n",
    "v_inB_dot = sym.simplify(v_inB_dot)\n",
    "print(\"Body-fixed velocity rates as a function of orientation, body-fixed velocities, and applied forces:\")\n",
    "sym.N(v_inB_dot,3)\n",
    "\n",
    "# Define the transformation that takes roll, pitch, and yaw rates to body-fixed angular rates\n",
    "ex = sym.Matrix([[1], [0], [0]])\n",
    "ey = sym.Matrix([[0], [1], [0]])\n",
    "ez = sym.Matrix([[0], [0], [1]])\n",
    "M = sym.Matrix.hstack(ex, Rx.T@ey, (Ry@Rx).T@ez)\n",
    "\n",
    "# Invert the transformation to get a matrix that takes body-fixed angular rates to \n",
    "# roll, pitch, and yaw rates\n",
    "M_inv = sym.simplify(M.inv())\n",
    "\n",
    "# Convert the body-fixed angular rates to roll, pitch, and yaw rates\n",
    "rpy_dot = sym.simplify(M_inv@w_inB)\n",
    "print(\"Roll, pitch, and yaw rate as a function of orientation and body-fixed angular rates:\")\n",
    "sym.N(rpy_dot,3)\n",
    "\n",
    "# Apply Euler's equation to get the time derivative of the angular velocities of the\n",
    "# quadrotor in the quadrotor frame\n",
    "w_inB_dot = I_inB.inv() @ (tau_inB - w_inB.cross(I_inB@w_inB))\n",
    "w_inB_dot = sym.simplify(w_inB_dot)\n",
    "print(\"Time derivative of the angular velocities in the body-fixed frame:\")\n",
    "sym.N(w_inB_dot, 3)\n",
    "\n",
    "f = sym.Matrix.vstack(xyz_dot,\n",
    "                      v_inB_dot,\n",
    "                      rpy_dot,\n",
    "                      w_inB_dot)"
   ]
  },
  {
   "cell_type": "markdown",
   "id": "691bd67d-1648-489a-8beb-2a50e3b8bcb9",
   "metadata": {},
   "source": [
    "The equations of motion have this form:\n",
    "\n",
    "$$\\begin{bmatrix} \\dot{p_x} \\\\ \\dot{p_y} \\\\ \\dot{p_z} \\\\ \\dot{v_x} \\\\ \\dot{v_y} \\\\ \\dot{v_z} \\\\ \\dot{\\phi} \\\\ \\dot{\\theta} \\\\ \\dot{\\psi} \\\\ \\dot{\\omega_x} \\\\ \\dot{\\omega_y} \\\\ \\dot{\\omega_z} \\end{bmatrix}=f\\left(p_x, p_y, p_z, v_x, v_y, v_z, \\phi, \\theta, \\psi, \\omega_x, \\omega_y, \\omega_z, \\tau_x, \\tau_y, \\tau_z, f_z\\right)$$\n",
    "\n",
    "Here is the function $f$:"
   ]
  },
  {
   "cell_type": "code",
   "execution_count": 5,
   "id": "dd0e8be2-f303-4ec2-b5a8-0d5d89872f17",
   "metadata": {},
   "outputs": [
    {
     "data": {
      "text/latex": [
       "$\\displaystyle \\left[\\begin{matrix}v_{x} \\cos{\\left(\\psi \\right)} \\cos{\\left(\\theta \\right)} + v_{y} \\left(\\sin{\\left(\\phi \\right)} \\sin{\\left(\\theta \\right)} \\cos{\\left(\\psi \\right)} - \\sin{\\left(\\psi \\right)} \\cos{\\left(\\phi \\right)}\\right) + v_{z} \\left(\\sin{\\left(\\phi \\right)} \\sin{\\left(\\psi \\right)} + \\sin{\\left(\\theta \\right)} \\cos{\\left(\\phi \\right)} \\cos{\\left(\\psi \\right)}\\right)\\\\v_{x} \\sin{\\left(\\psi \\right)} \\cos{\\left(\\theta \\right)} + v_{y} \\left(\\sin{\\left(\\phi \\right)} \\sin{\\left(\\psi \\right)} \\sin{\\left(\\theta \\right)} + \\cos{\\left(\\phi \\right)} \\cos{\\left(\\psi \\right)}\\right) - v_{z} \\left(\\sin{\\left(\\phi \\right)} \\cos{\\left(\\psi \\right)} - \\sin{\\left(\\psi \\right)} \\sin{\\left(\\theta \\right)} \\cos{\\left(\\phi \\right)}\\right)\\\\- v_{x} \\sin{\\left(\\theta \\right)} + v_{y} \\sin{\\left(\\phi \\right)} \\cos{\\left(\\theta \\right)} + v_{z} \\cos{\\left(\\phi \\right)} \\cos{\\left(\\theta \\right)}\\\\- 1.0 \\omega_{y} v_{z} + 1.0 \\omega_{z} v_{y} + 9.81 \\sin{\\left(\\theta \\right)}\\\\1.0 \\omega_{x} v_{z} - 1.0 \\omega_{z} v_{x} - 9.81 \\sin{\\left(\\phi \\right)} \\cos{\\left(\\theta \\right)}\\\\2.0 f_{z} - 1.0 \\omega_{x} v_{y} + 1.0 \\omega_{y} v_{x} - 9.81 \\cos{\\left(\\phi \\right)} \\cos{\\left(\\theta \\right)}\\\\\\omega_{x} + \\omega_{y} \\sin{\\left(\\phi \\right)} \\tan{\\left(\\theta \\right)} + \\omega_{z} \\cos{\\left(\\phi \\right)} \\tan{\\left(\\theta \\right)}\\\\\\omega_{y} \\cos{\\left(\\phi \\right)} - \\omega_{z} \\sin{\\left(\\phi \\right)}\\\\\\frac{\\omega_{y} \\sin{\\left(\\phi \\right)} + \\omega_{z} \\cos{\\left(\\phi \\right)}}{\\cos{\\left(\\theta \\right)}}\\\\- 0.739 \\omega_{y} \\omega_{z} + 435.0 \\tau_{x}\\\\0.739 \\omega_{x} \\omega_{z} + 435.0 \\tau_{y}\\\\250.0 \\tau_{z}\\end{matrix}\\right]$"
      ],
      "text/plain": [
       "⎡vₓ⋅cos(ψ)⋅cos(θ) + v_y⋅(sin(φ)⋅sin(θ)⋅cos(ψ) - sin(ψ)⋅cos(φ)) + v_z⋅(sin(φ)⋅s\n",
       "⎢                                                                             \n",
       "⎢vₓ⋅sin(ψ)⋅cos(θ) + v_y⋅(sin(φ)⋅sin(ψ)⋅sin(θ) + cos(φ)⋅cos(ψ)) - v_z⋅(sin(φ)⋅c\n",
       "⎢                                                                             \n",
       "⎢                            -vₓ⋅sin(θ) + v_y⋅sin(φ)⋅cos(θ) + v_z⋅cos(φ)⋅cos(θ\n",
       "⎢                                                                             \n",
       "⎢                                   -ω_y⋅v_z + 1.0⋅ω_z⋅v_y + 9.81⋅sin(θ)      \n",
       "⎢                                                                             \n",
       "⎢                                 1.0⋅ωₓ⋅v_z - ω_z⋅vₓ - 9.81⋅sin(φ)⋅cos(θ)    \n",
       "⎢                                                                             \n",
       "⎢                            2.0⋅f_z - ωₓ⋅v_y + 1.0⋅ω_y⋅vₓ - 9.81⋅cos(φ)⋅cos(θ\n",
       "⎢                                                                             \n",
       "⎢                                ωₓ + ω_y⋅sin(φ)⋅tan(θ) + ω_z⋅cos(φ)⋅tan(θ)   \n",
       "⎢                                                                             \n",
       "⎢                                         ω_y⋅cos(φ) - ω_z⋅sin(φ)             \n",
       "⎢                                                                             \n",
       "⎢                                         ω_y⋅sin(φ) + ω_z⋅cos(φ)             \n",
       "⎢                                         ───────────────────────             \n",
       "⎢                                                  cos(θ)                     \n",
       "⎢                                                                             \n",
       "⎢                                        -0.739⋅ω_y⋅ω_z + 435.0⋅τₓ            \n",
       "⎢                                                                             \n",
       "⎢                                         0.739⋅ωₓ⋅ω_z + 435.0⋅τ_y            \n",
       "⎢                                                                             \n",
       "⎣                                                250.0⋅τ_z                    \n",
       "\n",
       "in(ψ) + sin(θ)⋅cos(φ)⋅cos(ψ))⎤\n",
       "                             ⎥\n",
       "os(ψ) - sin(ψ)⋅sin(θ)⋅cos(φ))⎥\n",
       "                             ⎥\n",
       ")                            ⎥\n",
       "                             ⎥\n",
       "                             ⎥\n",
       "                             ⎥\n",
       "                             ⎥\n",
       "                             ⎥\n",
       ")                            ⎥\n",
       "                             ⎥\n",
       "                             ⎥\n",
       "                             ⎥\n",
       "                             ⎥\n",
       "                             ⎥\n",
       "                             ⎥\n",
       "                             ⎥\n",
       "                             ⎥\n",
       "                             ⎥\n",
       "                             ⎥\n",
       "                             ⎥\n",
       "                             ⎥\n",
       "                             ⎥\n",
       "                             ⎦"
      ]
     },
     "execution_count": 5,
     "metadata": {},
     "output_type": "execute_result"
    }
   ],
   "source": [
    "sym.N(f,3)"
   ]
  },
  {
   "cell_type": "code",
   "execution_count": 6,
   "id": "f44ecc04-6e3d-44dd-9d1f-cc604abe0ae9",
   "metadata": {},
   "outputs": [],
   "source": [
    "# Position of markers in body frame\n",
    "mark1_inB = sym.Matrix([[lxy],\n",
    "                        [0.],\n",
    "                        [lz]])\n",
    "mark2_inB = sym.Matrix([[0.],\n",
    "                        [lxy],\n",
    "                        [lz]])\n",
    "mark3_inB = sym.Matrix([[-lxy],\n",
    "                        [0.],\n",
    "                        [lz]])\n",
    "mark4_inB = sym.Matrix([[0.],\n",
    "                        [-lxy],\n",
    "                        [lz]])\n",
    "\n",
    "# Position of markers in world frame\n",
    "mark1_inW = p_inW + R_ofB_inW @ mark1_inB\n",
    "mark2_inW = p_inW + R_ofB_inW @ mark2_inB\n",
    "mark3_inW = p_inW + R_ofB_inW @ mark3_inB\n",
    "mark4_inW = p_inW + R_ofB_inW @ mark4_inB\n",
    "\n",
    "# Sensor model\n",
    "g = sym.simplify(sym.Matrix.vstack(mark1_inW, mark2_inW, mark3_inW, mark4_inW))"
   ]
  },
  {
   "cell_type": "markdown",
   "id": "edfd8241-2aac-4b1d-83da-4fb8f3c1886c",
   "metadata": {},
   "source": [
    "This gives us our sensor model. The model has the form:\n",
    "$$\n",
    "\\begin{bmatrix}\n",
    "{m_1}_x \\\\ \n",
    "{m_1}_y \\\\ \n",
    "{m_1}_z \\\\ \n",
    "{m_2}_x \\\\ \n",
    "{m_2}_y \\\\ \n",
    "{m_2}_z \\\\\n",
    "{m_3}_x \\\\ \n",
    "{m_3}_y \\\\ \n",
    "{m_3}_z \\\\ \n",
    "{m_4}_x \\\\ \n",
    "{m_4}_y \\\\ \n",
    "{m_4}_z \\\\\n",
    "\\end{bmatrix}= g(p_x, p_y, p_z, \\phi, \\theta, \\psi),\n",
    "$$\n",
    "where ${m_i}_j$ is the $j$ coordinate of the $i$th marker in world coordinates. Here is the function $g$:"
   ]
  },
  {
   "cell_type": "code",
   "execution_count": 7,
   "id": "c569cdd2-9961-447a-981f-5196547e5058",
   "metadata": {},
   "outputs": [
    {
     "data": {
      "text/latex": [
       "$\\displaystyle \\left[\\begin{matrix}p_{x} + 0.0469 \\sin{\\left(\\phi \\right)} \\sin{\\left(\\psi \\right)} + 0.0469 \\sin{\\left(\\theta \\right)} \\cos{\\left(\\phi \\right)} \\cos{\\left(\\psi \\right)} + 0.25 \\cos{\\left(\\psi \\right)} \\cos{\\left(\\theta \\right)}\\\\p_{y} - 0.0469 \\sin{\\left(\\phi \\right)} \\cos{\\left(\\psi \\right)} + 0.0469 \\sin{\\left(\\psi \\right)} \\sin{\\left(\\theta \\right)} \\cos{\\left(\\phi \\right)} + 0.25 \\sin{\\left(\\psi \\right)} \\cos{\\left(\\theta \\right)}\\\\p_{z} - 0.25 \\sin{\\left(\\theta \\right)} + 0.0469 \\cos{\\left(\\phi \\right)} \\cos{\\left(\\theta \\right)}\\\\p_{x} + 0.0469 \\sin{\\left(\\phi \\right)} \\sin{\\left(\\psi \\right)} + 0.25 \\sin{\\left(\\phi \\right)} \\sin{\\left(\\theta \\right)} \\cos{\\left(\\psi \\right)} - 0.25 \\sin{\\left(\\psi \\right)} \\cos{\\left(\\phi \\right)} + 0.0469 \\sin{\\left(\\theta \\right)} \\cos{\\left(\\phi \\right)} \\cos{\\left(\\psi \\right)}\\\\p_{y} + 0.25 \\sin{\\left(\\phi \\right)} \\sin{\\left(\\psi \\right)} \\sin{\\left(\\theta \\right)} - 0.0469 \\sin{\\left(\\phi \\right)} \\cos{\\left(\\psi \\right)} + 0.0469 \\sin{\\left(\\psi \\right)} \\sin{\\left(\\theta \\right)} \\cos{\\left(\\phi \\right)} + 0.25 \\cos{\\left(\\phi \\right)} \\cos{\\left(\\psi \\right)}\\\\p_{z} + 0.25 \\sin{\\left(\\phi \\right)} \\cos{\\left(\\theta \\right)} + 0.0469 \\cos{\\left(\\phi \\right)} \\cos{\\left(\\theta \\right)}\\\\p_{x} + 0.0469 \\sin{\\left(\\phi \\right)} \\sin{\\left(\\psi \\right)} + 0.0469 \\sin{\\left(\\theta \\right)} \\cos{\\left(\\phi \\right)} \\cos{\\left(\\psi \\right)} - 0.25 \\cos{\\left(\\psi \\right)} \\cos{\\left(\\theta \\right)}\\\\p_{y} - 0.0469 \\sin{\\left(\\phi \\right)} \\cos{\\left(\\psi \\right)} + 0.0469 \\sin{\\left(\\psi \\right)} \\sin{\\left(\\theta \\right)} \\cos{\\left(\\phi \\right)} - 0.25 \\sin{\\left(\\psi \\right)} \\cos{\\left(\\theta \\right)}\\\\p_{z} + 0.25 \\sin{\\left(\\theta \\right)} + 0.0469 \\cos{\\left(\\phi \\right)} \\cos{\\left(\\theta \\right)}\\\\p_{x} + 0.0469 \\sin{\\left(\\phi \\right)} \\sin{\\left(\\psi \\right)} - 0.25 \\sin{\\left(\\phi \\right)} \\sin{\\left(\\theta \\right)} \\cos{\\left(\\psi \\right)} + 0.25 \\sin{\\left(\\psi \\right)} \\cos{\\left(\\phi \\right)} + 0.0469 \\sin{\\left(\\theta \\right)} \\cos{\\left(\\phi \\right)} \\cos{\\left(\\psi \\right)}\\\\p_{y} - 0.25 \\sin{\\left(\\phi \\right)} \\sin{\\left(\\psi \\right)} \\sin{\\left(\\theta \\right)} - 0.0469 \\sin{\\left(\\phi \\right)} \\cos{\\left(\\psi \\right)} + 0.0469 \\sin{\\left(\\psi \\right)} \\sin{\\left(\\theta \\right)} \\cos{\\left(\\phi \\right)} - 0.25 \\cos{\\left(\\phi \\right)} \\cos{\\left(\\psi \\right)}\\\\p_{z} - 0.25 \\sin{\\left(\\phi \\right)} \\cos{\\left(\\theta \\right)} + 0.0469 \\cos{\\left(\\phi \\right)} \\cos{\\left(\\theta \\right)}\\end{matrix}\\right]$"
      ],
      "text/plain": [
       "⎡              pₓ + 0.0469⋅sin(φ)⋅sin(ψ) + 0.0469⋅sin(θ)⋅cos(φ)⋅cos(ψ) + 0.25⋅\n",
       "⎢                                                                             \n",
       "⎢              p_y - 0.0469⋅sin(φ)⋅cos(ψ) + 0.0469⋅sin(ψ)⋅sin(θ)⋅cos(φ) + 0.25\n",
       "⎢                                                                             \n",
       "⎢                                p_z - 0.25⋅sin(θ) + 0.0469⋅cos(φ)⋅cos(θ)     \n",
       "⎢                                                                             \n",
       "⎢pₓ + 0.0469⋅sin(φ)⋅sin(ψ) + 0.25⋅sin(φ)⋅sin(θ)⋅cos(ψ) - 0.25⋅sin(ψ)⋅cos(φ) + \n",
       "⎢                                                                             \n",
       "⎢p_y + 0.25⋅sin(φ)⋅sin(ψ)⋅sin(θ) - 0.0469⋅sin(φ)⋅cos(ψ) + 0.0469⋅sin(ψ)⋅sin(θ)\n",
       "⎢                                                                             \n",
       "⎢                             p_z + 0.25⋅sin(φ)⋅cos(θ) + 0.0469⋅cos(φ)⋅cos(θ) \n",
       "⎢                                                                             \n",
       "⎢              pₓ + 0.0469⋅sin(φ)⋅sin(ψ) + 0.0469⋅sin(θ)⋅cos(φ)⋅cos(ψ) - 0.25⋅\n",
       "⎢                                                                             \n",
       "⎢              p_y - 0.0469⋅sin(φ)⋅cos(ψ) + 0.0469⋅sin(ψ)⋅sin(θ)⋅cos(φ) - 0.25\n",
       "⎢                                                                             \n",
       "⎢                                p_z + 0.25⋅sin(θ) + 0.0469⋅cos(φ)⋅cos(θ)     \n",
       "⎢                                                                             \n",
       "⎢pₓ + 0.0469⋅sin(φ)⋅sin(ψ) - 0.25⋅sin(φ)⋅sin(θ)⋅cos(ψ) + 0.25⋅sin(ψ)⋅cos(φ) + \n",
       "⎢                                                                             \n",
       "⎢p_y - 0.25⋅sin(φ)⋅sin(ψ)⋅sin(θ) - 0.0469⋅sin(φ)⋅cos(ψ) + 0.0469⋅sin(ψ)⋅sin(θ)\n",
       "⎢                                                                             \n",
       "⎣                             p_z - 0.25⋅sin(φ)⋅cos(θ) + 0.0469⋅cos(φ)⋅cos(θ) \n",
       "\n",
       "cos(ψ)⋅cos(θ)               ⎤\n",
       "                            ⎥\n",
       "⋅sin(ψ)⋅cos(θ)              ⎥\n",
       "                            ⎥\n",
       "                            ⎥\n",
       "                            ⎥\n",
       "0.0469⋅sin(θ)⋅cos(φ)⋅cos(ψ) ⎥\n",
       "                            ⎥\n",
       "⋅cos(φ) + 0.25⋅cos(φ)⋅cos(ψ)⎥\n",
       "                            ⎥\n",
       "                            ⎥\n",
       "                            ⎥\n",
       "cos(ψ)⋅cos(θ)               ⎥\n",
       "                            ⎥\n",
       "⋅sin(ψ)⋅cos(θ)              ⎥\n",
       "                            ⎥\n",
       "                            ⎥\n",
       "                            ⎥\n",
       "0.0469⋅sin(θ)⋅cos(φ)⋅cos(ψ) ⎥\n",
       "                            ⎥\n",
       "⋅cos(φ) - 0.25⋅cos(φ)⋅cos(ψ)⎥\n",
       "                            ⎥\n",
       "                            ⎦"
      ]
     },
     "execution_count": 7,
     "metadata": {},
     "output_type": "execute_result"
    }
   ],
   "source": [
    "sym.N(g,3)"
   ]
  },
  {
   "cell_type": "markdown",
   "id": "19d50cd7-8c0c-4b85-8139-bb2ede53425f",
   "metadata": {},
   "source": [
    "### Finding the equilbrium state\n",
    "In order to model our system in a standard state space model, we must linearize the dynamics of both the observer and the drone itseelf. The equilibriumstate is when our system reaches a state when it is stable. For a drone, intuitively, this is when the drone is simply hovering. The exact position of the drone does not affect the equilibrium, however, the velocities, angular positions and angular velocities must be at 0. The torques acting on the drone must also be 0, but the $f_z$ must be equivalent to the force of gravity acting on the drone, so it remains hovering. "
   ]
  },
  {
   "cell_type": "code",
   "execution_count": 8,
   "id": "0fc183a8-8dbd-4ede-afa9-506f97c06d72",
   "metadata": {},
   "outputs": [
    {
     "data": {
      "text/plain": [
       "array([[0.],\n",
       "       [0.],\n",
       "       [0.],\n",
       "       [0.],\n",
       "       [0.],\n",
       "       [0.],\n",
       "       [0.],\n",
       "       [0.],\n",
       "       [0.],\n",
       "       [0.],\n",
       "       [0.],\n",
       "       [0.]])"
      ]
     },
     "execution_count": 8,
     "metadata": {},
     "output_type": "execute_result"
    }
   ],
   "source": [
    "# Finding the equilbrium points\n",
    "px, py, pz, vx, vy, vz, wx, wy, wz = px_inW, py_inW, pz_inW, vx_inB, vy_inB, vz_inB, wx_inB, wy_inB, wz_inB # easier to understand\n",
    "taux, tauy, tauz, fz = taux_inB, tauy_inB, tauz_inB, fz_inB\n",
    "pxe, pye, pze, vxe, vye, vze, phie, thetae, psie, wxe, wye, wze = 0,0,0,0,0,0,0,0,0,0,0,0\n",
    "tauxe, tauye, tauze, fze = 0,0,0,9.81/2\n",
    "f_ = sym.lambdify((px, py, pz, vx, vy, vz, phi, theta, psi, wx, wy, wz, taux, tauy, tauz, fz), f)\n",
    "# When the values are plugged into the dynamics, we get a zero vector, which means it's at equilbrium\n",
    "f_(pxe, pye, pze, vxe, vye, vze, phie, thetae, psie, wxe, wye, wze, tauxe, tauye, tauze, fze)"
   ]
  },
  {
   "cell_type": "code",
   "execution_count": 59,
   "id": "88ab4cb8-5ea3-4133-a056-e470f0400eda",
   "metadata": {},
   "outputs": [
    {
     "data": {
      "text/latex": [
       "$\\displaystyle \\left[\\begin{matrix}0.25\\\\0\\\\0.046875\\\\0\\\\0.25\\\\0.046875\\\\-0.25\\\\0\\\\0.046875\\\\0\\\\-0.25\\\\0.046875\\end{matrix}\\right]$"
      ],
      "text/plain": [
       "⎡  0.25  ⎤\n",
       "⎢        ⎥\n",
       "⎢   0    ⎥\n",
       "⎢        ⎥\n",
       "⎢0.046875⎥\n",
       "⎢        ⎥\n",
       "⎢   0    ⎥\n",
       "⎢        ⎥\n",
       "⎢  0.25  ⎥\n",
       "⎢        ⎥\n",
       "⎢0.046875⎥\n",
       "⎢        ⎥\n",
       "⎢ -0.25  ⎥\n",
       "⎢        ⎥\n",
       "⎢   0    ⎥\n",
       "⎢        ⎥\n",
       "⎢0.046875⎥\n",
       "⎢        ⎥\n",
       "⎢   0    ⎥\n",
       "⎢        ⎥\n",
       "⎢ -0.25  ⎥\n",
       "⎢        ⎥\n",
       "⎣0.046875⎦"
      ]
     },
     "execution_count": 59,
     "metadata": {},
     "output_type": "execute_result"
    }
   ],
   "source": [
    "# The g matrix we originally had represented the dynamics for a single sensor. We have 4 sensors on our drone, so we must cocatenate all the separate \n",
    "# sensors into one matrix\n",
    "g_ = g\n",
    "for i in range(3):\n",
    "    g_.row_join(g)\n",
    "g_ = sym.lambdify((px, py, pz, vx, vy, vz, phi, theta, psi, wx, wy, wz, taux, tauy, tauz, fz), g)\n",
    "q_e = np.array((g_(pxe, pye, pze, vxe, vye, vze, phie, thetae, psie, wxe, wye, wze, tauxe, tauye, tauze, fze))).flatten()\n",
    "# When we plug in the equilbrium state, but we do not get a zero vector. This is because the 4 sensors are located away from the origin, so their vectors\n",
    "# represent the positions of the sensors with respect to the origin\n",
    "sym.Matrix(q_e)"
   ]
  },
  {
   "cell_type": "markdown",
   "id": "8f36f003-4d2f-4609-83c7-2bf42d12e817",
   "metadata": {},
   "source": [
    "### Linearizing the Dynamics\n",
    "In order to model our system in the standard state space model, we must linearize the dynamics. The dynamics are currently nonlinear, so taking the Jacobians with respect to certain variables will help us put this into state space form. We must compute the Jacobians, then plug in the equilibirum values to find the final matrix."
   ]
  },
  {
   "cell_type": "code",
   "execution_count": 212,
   "id": "8d5d132a-ddef-47c9-8141-3a6f69f25a75",
   "metadata": {},
   "outputs": [
    {
     "data": {
      "text/latex": [
       "$\\displaystyle \\left[\\begin{array}{cccccccccccc}0 & 0 & 0 & 1.0 & 0 & 0 & 0 & 0 & 0 & 0 & 0 & 0\\\\0 & 0 & 0 & 0 & 1.0 & 0 & 0 & 0 & 0 & 0 & 0 & 0\\\\0 & 0 & 0 & 0 & 0 & 1.0 & 0 & 0 & 0 & 0 & 0 & 0\\\\0 & 0 & 0 & 0 & 0 & 0 & 0 & 9.81 & 0 & 0 & 0 & 0\\\\0 & 0 & 0 & 0 & 0 & 0 & -9.81 & 0 & 0 & 0 & 0 & 0\\\\0 & 0 & 0 & 0 & 0 & 0 & 0 & 0 & 0 & 0 & 0 & 0\\\\0 & 0 & 0 & 0 & 0 & 0 & 0 & 0 & 0 & 1.0 & 0 & 0\\\\0 & 0 & 0 & 0 & 0 & 0 & 0 & 0 & 0 & 0 & 1.0 & 0\\\\0 & 0 & 0 & 0 & 0 & 0 & 0 & 0 & 0 & 0 & 0 & 1.0\\\\0 & 0 & 0 & 0 & 0 & 0 & 0 & 0 & 0 & 0 & 0 & 0\\\\0 & 0 & 0 & 0 & 0 & 0 & 0 & 0 & 0 & 0 & 0 & 0\\\\0 & 0 & 0 & 0 & 0 & 0 & 0 & 0 & 0 & 0 & 0 & 0\\end{array}\\right]$"
      ],
      "text/plain": [
       "⎡0  0  0  1.0   0    0     0     0    0   0    0    0 ⎤\n",
       "⎢                                                     ⎥\n",
       "⎢0  0  0   0   1.0   0     0     0    0   0    0    0 ⎥\n",
       "⎢                                                     ⎥\n",
       "⎢0  0  0   0    0   1.0    0     0    0   0    0    0 ⎥\n",
       "⎢                                                     ⎥\n",
       "⎢0  0  0   0    0    0     0    9.81  0   0    0    0 ⎥\n",
       "⎢                                                     ⎥\n",
       "⎢0  0  0   0    0    0   -9.81   0    0   0    0    0 ⎥\n",
       "⎢                                                     ⎥\n",
       "⎢0  0  0   0    0    0     0     0    0   0    0    0 ⎥\n",
       "⎢                                                     ⎥\n",
       "⎢0  0  0   0    0    0     0     0    0  1.0   0    0 ⎥\n",
       "⎢                                                     ⎥\n",
       "⎢0  0  0   0    0    0     0     0    0   0   1.0   0 ⎥\n",
       "⎢                                                     ⎥\n",
       "⎢0  0  0   0    0    0     0     0    0   0    0   1.0⎥\n",
       "⎢                                                     ⎥\n",
       "⎢0  0  0   0    0    0     0     0    0   0    0    0 ⎥\n",
       "⎢                                                     ⎥\n",
       "⎢0  0  0   0    0    0     0     0    0   0    0    0 ⎥\n",
       "⎢                                                     ⎥\n",
       "⎣0  0  0   0    0    0     0     0    0   0    0    0 ⎦"
      ]
     },
     "execution_count": 212,
     "metadata": {},
     "output_type": "execute_result"
    }
   ],
   "source": [
    "# Finding the coefficient matrices\n",
    "# The A matrix represents the coefficient matrix of the dynamics, so we must take the Jacobian of the drone dynamics (f) with respect to the states\n",
    "A_ = sym.lambdify((px, py, pz, vx, vy, vz, phi, theta, psi, wx, wy, wz, taux, tauy, tauz, fz), f.jacobian([px, py, pz, vx, vy, vz, phi, theta, psi, wx, wy, wz]))\n",
    "A = A_(pxe, pye, pze, vxe, vye, vze, phie, thetae, psie, wxe, wye, wze, tauxe, tauye, tauze, fze)\n",
    "sym.Matrix(A)"
   ]
  },
  {
   "cell_type": "code",
   "execution_count": 213,
   "id": "f9376cbb-e041-486e-a539-4005597485a0",
   "metadata": {},
   "outputs": [
    {
     "data": {
      "text/latex": [
       "$\\displaystyle \\left[\\begin{matrix}0 & 0 & 0 & 0\\\\0 & 0 & 0 & 0\\\\0 & 0 & 0 & 0\\\\0 & 0 & 0 & 0\\\\0 & 0 & 0 & 0\\\\0 & 0 & 0 & 2.0\\\\0 & 0 & 0 & 0\\\\0 & 0 & 0 & 0\\\\0 & 0 & 0 & 0\\\\434.782608695652 & 0 & 0 & 0\\\\0 & 434.782608695652 & 0 & 0\\\\0 & 0 & 250.0 & 0\\end{matrix}\\right]$"
      ],
      "text/plain": [
       "⎡       0                 0            0     0 ⎤\n",
       "⎢                                              ⎥\n",
       "⎢       0                 0            0     0 ⎥\n",
       "⎢                                              ⎥\n",
       "⎢       0                 0            0     0 ⎥\n",
       "⎢                                              ⎥\n",
       "⎢       0                 0            0     0 ⎥\n",
       "⎢                                              ⎥\n",
       "⎢       0                 0            0     0 ⎥\n",
       "⎢                                              ⎥\n",
       "⎢       0                 0            0    2.0⎥\n",
       "⎢                                              ⎥\n",
       "⎢       0                 0            0     0 ⎥\n",
       "⎢                                              ⎥\n",
       "⎢       0                 0            0     0 ⎥\n",
       "⎢                                              ⎥\n",
       "⎢       0                 0            0     0 ⎥\n",
       "⎢                                              ⎥\n",
       "⎢434.782608695652         0            0     0 ⎥\n",
       "⎢                                              ⎥\n",
       "⎢       0          434.782608695652    0     0 ⎥\n",
       "⎢                                              ⎥\n",
       "⎣       0                 0          250.0   0 ⎦"
      ]
     },
     "execution_count": 213,
     "metadata": {},
     "output_type": "execute_result"
    }
   ],
   "source": [
    "# The B matrix represents the coefficient matrix of the control inputs, so we must take the Jacobian of the drone dynamics (f) with respect to \n",
    "# the controller inputs\n",
    "B_ = sym.lambdify((px, py, pz, vx, vy, vz, phi, theta, psi, wx, wy, wz, taux, tauy, tauz, fz), f.jacobian([taux, tauy, tauz, fz]))\n",
    "B = B_(pxe, pye, pze, vxe, vye, vze, phie, thetae, psie, wxe, wye, wze, tauxe, tauye, tauze, fze)\n",
    "sym.Matrix(B)"
   ]
  },
  {
   "cell_type": "code",
   "execution_count": 214,
   "id": "d8852beb-5375-466e-86c1-c83be4b68217",
   "metadata": {},
   "outputs": [
    {
     "data": {
      "text/latex": [
       "$\\displaystyle \\left[\\begin{array}{cccccccccccc}1.0 & 0 & 0 & 0 & 0 & 0 & 0 & 0.046875 & 0 & 0 & 0 & 0\\\\0 & 1.0 & 0 & 0 & 0 & 0 & -0.046875 & 0 & 0.25 & 0 & 0 & 0\\\\0 & 0 & 1.0 & 0 & 0 & 0 & 0 & -0.25 & 0 & 0 & 0 & 0\\\\1.0 & 0 & 0 & 0 & 0 & 0 & 0 & 0.046875 & -0.25 & 0 & 0 & 0\\\\0 & 1.0 & 0 & 0 & 0 & 0 & -0.046875 & 0 & 0 & 0 & 0 & 0\\\\0 & 0 & 1.0 & 0 & 0 & 0 & 0.25 & 0 & 0 & 0 & 0 & 0\\\\1.0 & 0 & 0 & 0 & 0 & 0 & 0 & 0.046875 & 0 & 0 & 0 & 0\\\\0 & 1.0 & 0 & 0 & 0 & 0 & -0.046875 & 0 & -0.25 & 0 & 0 & 0\\\\0 & 0 & 1.0 & 0 & 0 & 0 & 0 & 0.25 & 0 & 0 & 0 & 0\\\\1.0 & 0 & 0 & 0 & 0 & 0 & 0 & 0.046875 & 0.25 & 0 & 0 & 0\\\\0 & 1.0 & 0 & 0 & 0 & 0 & -0.046875 & 0 & 0 & 0 & 0 & 0\\\\0 & 0 & 1.0 & 0 & 0 & 0 & -0.25 & 0 & 0 & 0 & 0 & 0\\end{array}\\right]$"
      ],
      "text/plain": [
       "⎡1.0   0    0   0  0  0      0      0.046875    0    0  0  0⎤\n",
       "⎢                                                           ⎥\n",
       "⎢ 0   1.0   0   0  0  0  -0.046875     0      0.25   0  0  0⎥\n",
       "⎢                                                           ⎥\n",
       "⎢ 0    0   1.0  0  0  0      0       -0.25      0    0  0  0⎥\n",
       "⎢                                                           ⎥\n",
       "⎢1.0   0    0   0  0  0      0      0.046875  -0.25  0  0  0⎥\n",
       "⎢                                                           ⎥\n",
       "⎢ 0   1.0   0   0  0  0  -0.046875     0        0    0  0  0⎥\n",
       "⎢                                                           ⎥\n",
       "⎢ 0    0   1.0  0  0  0    0.25        0        0    0  0  0⎥\n",
       "⎢                                                           ⎥\n",
       "⎢1.0   0    0   0  0  0      0      0.046875    0    0  0  0⎥\n",
       "⎢                                                           ⎥\n",
       "⎢ 0   1.0   0   0  0  0  -0.046875     0      -0.25  0  0  0⎥\n",
       "⎢                                                           ⎥\n",
       "⎢ 0    0   1.0  0  0  0      0        0.25      0    0  0  0⎥\n",
       "⎢                                                           ⎥\n",
       "⎢1.0   0    0   0  0  0      0      0.046875  0.25   0  0  0⎥\n",
       "⎢                                                           ⎥\n",
       "⎢ 0   1.0   0   0  0  0  -0.046875     0        0    0  0  0⎥\n",
       "⎢                                                           ⎥\n",
       "⎣ 0    0   1.0  0  0  0    -0.25       0        0    0  0  0⎦"
      ]
     },
     "execution_count": 214,
     "metadata": {},
     "output_type": "execute_result"
    }
   ],
   "source": [
    "# The C matrix represents the coefficient matrix of the observer dynamics, so we must take the Jacobian of the sensor dynamics (g) with respect to \n",
    "# the states\n",
    "C_ = sym.lambdify((px, py, pz, vx, vy, vz, phi, theta, psi, wx, wy, wz, taux, tauy, tauz, fz), g.jacobian([px, py, pz, vx, vy, vz, phi, theta, psi, wx, wy, wz]))\n",
    "C = C_(pxe, pye, pze, vxe, vye, vze, phie, thetae, psie, wxe, wye, wze, tauxe, tauye, tauze, fze)\n",
    "sym.Matrix(C)"
   ]
  },
  {
   "cell_type": "markdown",
   "id": "d20c65e3-9d45-4f97-ac4a-9847bebafdb9",
   "metadata": {},
   "source": [
    "### Checking Controllability and Observability\n",
    "To ensure our system can be controller, we must create the controllability matrix. This matrix is created using a certain formula which is referenced in our report. For simplicity sake, we used the PyControl library to construct our controllability matrix. If the rank of this matrix is equal to the number of states we have (which is also equal to the number of columns of A), we have a controllable system."
   ]
  },
  {
   "cell_type": "code",
   "execution_count": 217,
   "id": "4380ca99-5a86-46f2-9dfe-404ab161630d",
   "metadata": {},
   "outputs": [
    {
     "data": {
      "text/latex": [
       "$\\displaystyle \\left[\\begin{array}{cccccccccccccccccccccccccccccccccccccccccccccccc}0 & 0 & 0 & 0 & 0 & 0 & 0 & 0 & 0 & 0 & 0 & 0 & 0 & 4265.21739130435 & 0 & 0 & 0 & 0 & 0 & 0 & 0 & 0 & 0 & 0 & 0 & 0 & 0 & 0 & 0 & 0 & 0 & 0 & 0 & 0 & 0 & 0 & 0 & 0 & 0 & 0 & 0 & 0 & 0 & 0 & 0 & 0 & 0 & 0\\\\0 & 0 & 0 & 0 & 0 & 0 & 0 & 0 & 0 & 0 & 0 & 0 & -4265.21739130435 & 0 & 0 & 0 & 0 & 0 & 0 & 0 & 0 & 0 & 0 & 0 & 0 & 0 & 0 & 0 & 0 & 0 & 0 & 0 & 0 & 0 & 0 & 0 & 0 & 0 & 0 & 0 & 0 & 0 & 0 & 0 & 0 & 0 & 0 & 0\\\\0 & 0 & 0 & 0 & 0 & 0 & 0 & 2.0 & 0 & 0 & 0 & 0 & 0 & 0 & 0 & 0 & 0 & 0 & 0 & 0 & 0 & 0 & 0 & 0 & 0 & 0 & 0 & 0 & 0 & 0 & 0 & 0 & 0 & 0 & 0 & 0 & 0 & 0 & 0 & 0 & 0 & 0 & 0 & 0 & 0 & 0 & 0 & 0\\\\0 & 0 & 0 & 0 & 0 & 0 & 0 & 0 & 0 & 4265.21739130435 & 0 & 0 & 0 & 0 & 0 & 0 & 0 & 0 & 0 & 0 & 0 & 0 & 0 & 0 & 0 & 0 & 0 & 0 & 0 & 0 & 0 & 0 & 0 & 0 & 0 & 0 & 0 & 0 & 0 & 0 & 0 & 0 & 0 & 0 & 0 & 0 & 0 & 0\\\\0 & 0 & 0 & 0 & 0 & 0 & 0 & 0 & -4265.21739130435 & 0 & 0 & 0 & 0 & 0 & 0 & 0 & 0 & 0 & 0 & 0 & 0 & 0 & 0 & 0 & 0 & 0 & 0 & 0 & 0 & 0 & 0 & 0 & 0 & 0 & 0 & 0 & 0 & 0 & 0 & 0 & 0 & 0 & 0 & 0 & 0 & 0 & 0 & 0\\\\0 & 0 & 0 & 2.0 & 0 & 0 & 0 & 0 & 0 & 0 & 0 & 0 & 0 & 0 & 0 & 0 & 0 & 0 & 0 & 0 & 0 & 0 & 0 & 0 & 0 & 0 & 0 & 0 & 0 & 0 & 0 & 0 & 0 & 0 & 0 & 0 & 0 & 0 & 0 & 0 & 0 & 0 & 0 & 0 & 0 & 0 & 0 & 0\\\\0 & 0 & 0 & 0 & 434.782608695652 & 0 & 0 & 0 & 0 & 0 & 0 & 0 & 0 & 0 & 0 & 0 & 0 & 0 & 0 & 0 & 0 & 0 & 0 & 0 & 0 & 0 & 0 & 0 & 0 & 0 & 0 & 0 & 0 & 0 & 0 & 0 & 0 & 0 & 0 & 0 & 0 & 0 & 0 & 0 & 0 & 0 & 0 & 0\\\\0 & 0 & 0 & 0 & 0 & 434.782608695652 & 0 & 0 & 0 & 0 & 0 & 0 & 0 & 0 & 0 & 0 & 0 & 0 & 0 & 0 & 0 & 0 & 0 & 0 & 0 & 0 & 0 & 0 & 0 & 0 & 0 & 0 & 0 & 0 & 0 & 0 & 0 & 0 & 0 & 0 & 0 & 0 & 0 & 0 & 0 & 0 & 0 & 0\\\\0 & 0 & 0 & 0 & 0 & 0 & 250.0 & 0 & 0 & 0 & 0 & 0 & 0 & 0 & 0 & 0 & 0 & 0 & 0 & 0 & 0 & 0 & 0 & 0 & 0 & 0 & 0 & 0 & 0 & 0 & 0 & 0 & 0 & 0 & 0 & 0 & 0 & 0 & 0 & 0 & 0 & 0 & 0 & 0 & 0 & 0 & 0 & 0\\\\434.782608695652 & 0 & 0 & 0 & 0 & 0 & 0 & 0 & 0 & 0 & 0 & 0 & 0 & 0 & 0 & 0 & 0 & 0 & 0 & 0 & 0 & 0 & 0 & 0 & 0 & 0 & 0 & 0 & 0 & 0 & 0 & 0 & 0 & 0 & 0 & 0 & 0 & 0 & 0 & 0 & 0 & 0 & 0 & 0 & 0 & 0 & 0 & 0\\\\0 & 434.782608695652 & 0 & 0 & 0 & 0 & 0 & 0 & 0 & 0 & 0 & 0 & 0 & 0 & 0 & 0 & 0 & 0 & 0 & 0 & 0 & 0 & 0 & 0 & 0 & 0 & 0 & 0 & 0 & 0 & 0 & 0 & 0 & 0 & 0 & 0 & 0 & 0 & 0 & 0 & 0 & 0 & 0 & 0 & 0 & 0 & 0 & 0\\\\0 & 0 & 250.0 & 0 & 0 & 0 & 0 & 0 & 0 & 0 & 0 & 0 & 0 & 0 & 0 & 0 & 0 & 0 & 0 & 0 & 0 & 0 & 0 & 0 & 0 & 0 & 0 & 0 & 0 & 0 & 0 & 0 & 0 & 0 & 0 & 0 & 0 & 0 & 0 & 0 & 0 & 0 & 0 & 0 & 0 & 0 & 0 & 0\\end{array}\\right]$"
      ],
      "text/plain": [
       "⎡       0                 0            0     0          0                 0   \n",
       "⎢                                                                             \n",
       "⎢       0                 0            0     0          0                 0   \n",
       "⎢                                                                             \n",
       "⎢       0                 0            0     0          0                 0   \n",
       "⎢                                                                             \n",
       "⎢       0                 0            0     0          0                 0   \n",
       "⎢                                                                             \n",
       "⎢       0                 0            0     0          0                 0   \n",
       "⎢                                                                             \n",
       "⎢       0                 0            0    2.0         0                 0   \n",
       "⎢                                                                             \n",
       "⎢       0                 0            0     0   434.782608695652         0   \n",
       "⎢                                                                             \n",
       "⎢       0                 0            0     0          0          434.7826086\n",
       "⎢                                                                             \n",
       "⎢       0                 0            0     0          0                 0   \n",
       "⎢                                                                             \n",
       "⎢434.782608695652         0            0     0          0                 0   \n",
       "⎢                                                                             \n",
       "⎢       0          434.782608695652    0     0          0                 0   \n",
       "⎢                                                                             \n",
       "⎣       0                 0          250.0   0          0                 0   \n",
       "\n",
       "         0     0           0                 0          0  0          0       \n",
       "                                                                              \n",
       "         0     0           0                 0          0  0  -4265.2173913043\n",
       "                                                                              \n",
       "         0    2.0          0                 0          0  0          0       \n",
       "                                                                              \n",
       "         0     0           0          4265.21739130435  0  0          0       \n",
       "                                                                              \n",
       "         0     0   -4265.21739130435         0          0  0          0       \n",
       "                                                                              \n",
       "         0     0           0                 0          0  0          0       \n",
       "                                                                              \n",
       "         0     0           0                 0          0  0          0       \n",
       "                                                                              \n",
       "95652    0     0           0                 0          0  0          0       \n",
       "                                                                              \n",
       "       250.0   0           0                 0          0  0          0       \n",
       "                                                                              \n",
       "         0     0           0                 0          0  0          0       \n",
       "                                                                              \n",
       "         0     0           0                 0          0  0          0       \n",
       "                                                                              \n",
       "         0     0           0                 0          0  0          0       \n",
       "\n",
       "   4265.21739130435  0  0  0  0  0  0  0  0  0  0  0  0  0  0  0  0  0  0  0  \n",
       "                                                                              \n",
       "5         0          0  0  0  0  0  0  0  0  0  0  0  0  0  0  0  0  0  0  0  \n",
       "                                                                              \n",
       "          0          0  0  0  0  0  0  0  0  0  0  0  0  0  0  0  0  0  0  0  \n",
       "                                                                              \n",
       "          0          0  0  0  0  0  0  0  0  0  0  0  0  0  0  0  0  0  0  0  \n",
       "                                                                              \n",
       "          0          0  0  0  0  0  0  0  0  0  0  0  0  0  0  0  0  0  0  0  \n",
       "                                                                              \n",
       "          0          0  0  0  0  0  0  0  0  0  0  0  0  0  0  0  0  0  0  0  \n",
       "                                                                              \n",
       "          0          0  0  0  0  0  0  0  0  0  0  0  0  0  0  0  0  0  0  0  \n",
       "                                                                              \n",
       "          0          0  0  0  0  0  0  0  0  0  0  0  0  0  0  0  0  0  0  0  \n",
       "                                                                              \n",
       "          0          0  0  0  0  0  0  0  0  0  0  0  0  0  0  0  0  0  0  0  \n",
       "                                                                              \n",
       "          0          0  0  0  0  0  0  0  0  0  0  0  0  0  0  0  0  0  0  0  \n",
       "                                                                              \n",
       "          0          0  0  0  0  0  0  0  0  0  0  0  0  0  0  0  0  0  0  0  \n",
       "                                                                              \n",
       "          0          0  0  0  0  0  0  0  0  0  0  0  0  0  0  0  0  0  0  0  \n",
       "\n",
       "0  0  0  0  0  0  0  0  0  0  0  0  0  0  0⎤\n",
       "                                           ⎥\n",
       "0  0  0  0  0  0  0  0  0  0  0  0  0  0  0⎥\n",
       "                                           ⎥\n",
       "0  0  0  0  0  0  0  0  0  0  0  0  0  0  0⎥\n",
       "                                           ⎥\n",
       "0  0  0  0  0  0  0  0  0  0  0  0  0  0  0⎥\n",
       "                                           ⎥\n",
       "0  0  0  0  0  0  0  0  0  0  0  0  0  0  0⎥\n",
       "                                           ⎥\n",
       "0  0  0  0  0  0  0  0  0  0  0  0  0  0  0⎥\n",
       "                                           ⎥\n",
       "0  0  0  0  0  0  0  0  0  0  0  0  0  0  0⎥\n",
       "                                           ⎥\n",
       "0  0  0  0  0  0  0  0  0  0  0  0  0  0  0⎥\n",
       "                                           ⎥\n",
       "0  0  0  0  0  0  0  0  0  0  0  0  0  0  0⎥\n",
       "                                           ⎥\n",
       "0  0  0  0  0  0  0  0  0  0  0  0  0  0  0⎥\n",
       "                                           ⎥\n",
       "0  0  0  0  0  0  0  0  0  0  0  0  0  0  0⎥\n",
       "                                           ⎥\n",
       "0  0  0  0  0  0  0  0  0  0  0  0  0  0  0⎦"
      ]
     },
     "execution_count": 217,
     "metadata": {},
     "output_type": "execute_result"
    }
   ],
   "source": [
    "# Checking Controllability\n",
    "import control as ctrl\n",
    "W = ctrl.ctrb(A, B)\n",
    "sym.Matrix(W)"
   ]
  },
  {
   "cell_type": "code",
   "execution_count": 218,
   "id": "7c26ae2d-969a-4bac-a79b-298102c2bea2",
   "metadata": {},
   "outputs": [
    {
     "data": {
      "text/plain": [
       "True"
      ]
     },
     "execution_count": 218,
     "metadata": {},
     "output_type": "execute_result"
    }
   ],
   "source": [
    "# Since this is true, our system is controllable\n",
    "np.linalg.matrix_rank(W) == A.shape[0]"
   ]
  },
  {
   "cell_type": "markdown",
   "id": "21e29a64-1593-4b2d-9111-02075de4a87e",
   "metadata": {},
   "source": [
    "To ensure our system can be controller, we must create the Observability matrix. This matrix is created using a certain formula which is referenced in our report. For simplicity sake, we used the PyControl library to construct our Observability matrix. If the rank of this matrix is equal to the number of states we have (which is also equal to the number of columns of A), we have an observable system."
   ]
  },
  {
   "cell_type": "code",
   "execution_count": 220,
   "id": "b27eb0ab-2136-44c1-a75b-82e4c079acd1",
   "metadata": {},
   "outputs": [
    {
     "data": {
      "text/latex": [
       "$\\displaystyle \\left[\\begin{array}{cccccccccccc}1.0 & 0 & 0 & 0 & 0 & 0 & 0 & 0.046875 & 0 & 0 & 0 & 0\\\\0 & 1.0 & 0 & 0 & 0 & 0 & -0.046875 & 0 & 0.25 & 0 & 0 & 0\\\\0 & 0 & 1.0 & 0 & 0 & 0 & 0 & -0.25 & 0 & 0 & 0 & 0\\\\1.0 & 0 & 0 & 0 & 0 & 0 & 0 & 0.046875 & -0.25 & 0 & 0 & 0\\\\0 & 1.0 & 0 & 0 & 0 & 0 & -0.046875 & 0 & 0 & 0 & 0 & 0\\\\0 & 0 & 1.0 & 0 & 0 & 0 & 0.25 & 0 & 0 & 0 & 0 & 0\\\\1.0 & 0 & 0 & 0 & 0 & 0 & 0 & 0.046875 & 0 & 0 & 0 & 0\\\\0 & 1.0 & 0 & 0 & 0 & 0 & -0.046875 & 0 & -0.25 & 0 & 0 & 0\\\\0 & 0 & 1.0 & 0 & 0 & 0 & 0 & 0.25 & 0 & 0 & 0 & 0\\\\1.0 & 0 & 0 & 0 & 0 & 0 & 0 & 0.046875 & 0.25 & 0 & 0 & 0\\\\0 & 1.0 & 0 & 0 & 0 & 0 & -0.046875 & 0 & 0 & 0 & 0 & 0\\\\0 & 0 & 1.0 & 0 & 0 & 0 & -0.25 & 0 & 0 & 0 & 0 & 0\\\\0 & 0 & 0 & 1.0 & 0 & 0 & 0 & 0 & 0 & 0 & 0.046875 & 0\\\\0 & 0 & 0 & 0 & 1.0 & 0 & 0 & 0 & 0 & -0.046875 & 0 & 0.25\\\\0 & 0 & 0 & 0 & 0 & 1.0 & 0 & 0 & 0 & 0 & -0.25 & 0\\\\0 & 0 & 0 & 1.0 & 0 & 0 & 0 & 0 & 0 & 0 & 0.046875 & -0.25\\\\0 & 0 & 0 & 0 & 1.0 & 0 & 0 & 0 & 0 & -0.046875 & 0 & 0\\\\0 & 0 & 0 & 0 & 0 & 1.0 & 0 & 0 & 0 & 0.25 & 0 & 0\\\\0 & 0 & 0 & 1.0 & 0 & 0 & 0 & 0 & 0 & 0 & 0.046875 & 0\\\\0 & 0 & 0 & 0 & 1.0 & 0 & 0 & 0 & 0 & -0.046875 & 0 & -0.25\\\\0 & 0 & 0 & 0 & 0 & 1.0 & 0 & 0 & 0 & 0 & 0.25 & 0\\\\0 & 0 & 0 & 1.0 & 0 & 0 & 0 & 0 & 0 & 0 & 0.046875 & 0.25\\\\0 & 0 & 0 & 0 & 1.0 & 0 & 0 & 0 & 0 & -0.046875 & 0 & 0\\\\0 & 0 & 0 & 0 & 0 & 1.0 & 0 & 0 & 0 & -0.25 & 0 & 0\\\\0 & 0 & 0 & 0 & 0 & 0 & 0 & 9.81 & 0 & 0 & 0 & 0\\\\0 & 0 & 0 & 0 & 0 & 0 & -9.81 & 0 & 0 & 0 & 0 & 0\\\\0 & 0 & 0 & 0 & 0 & 0 & 0 & 0 & 0 & 0 & 0 & 0\\\\0 & 0 & 0 & 0 & 0 & 0 & 0 & 9.81 & 0 & 0 & 0 & 0\\\\0 & 0 & 0 & 0 & 0 & 0 & -9.81 & 0 & 0 & 0 & 0 & 0\\\\0 & 0 & 0 & 0 & 0 & 0 & 0 & 0 & 0 & 0 & 0 & 0\\\\0 & 0 & 0 & 0 & 0 & 0 & 0 & 9.81 & 0 & 0 & 0 & 0\\\\0 & 0 & 0 & 0 & 0 & 0 & -9.81 & 0 & 0 & 0 & 0 & 0\\\\0 & 0 & 0 & 0 & 0 & 0 & 0 & 0 & 0 & 0 & 0 & 0\\\\0 & 0 & 0 & 0 & 0 & 0 & 0 & 9.81 & 0 & 0 & 0 & 0\\\\0 & 0 & 0 & 0 & 0 & 0 & -9.81 & 0 & 0 & 0 & 0 & 0\\\\0 & 0 & 0 & 0 & 0 & 0 & 0 & 0 & 0 & 0 & 0 & 0\\\\0 & 0 & 0 & 0 & 0 & 0 & 0 & 0 & 0 & 0 & 9.81 & 0\\\\0 & 0 & 0 & 0 & 0 & 0 & 0 & 0 & 0 & -9.81 & 0 & 0\\\\0 & 0 & 0 & 0 & 0 & 0 & 0 & 0 & 0 & 0 & 0 & 0\\\\0 & 0 & 0 & 0 & 0 & 0 & 0 & 0 & 0 & 0 & 9.81 & 0\\\\0 & 0 & 0 & 0 & 0 & 0 & 0 & 0 & 0 & -9.81 & 0 & 0\\\\0 & 0 & 0 & 0 & 0 & 0 & 0 & 0 & 0 & 0 & 0 & 0\\\\0 & 0 & 0 & 0 & 0 & 0 & 0 & 0 & 0 & 0 & 9.81 & 0\\\\0 & 0 & 0 & 0 & 0 & 0 & 0 & 0 & 0 & -9.81 & 0 & 0\\\\0 & 0 & 0 & 0 & 0 & 0 & 0 & 0 & 0 & 0 & 0 & 0\\\\0 & 0 & 0 & 0 & 0 & 0 & 0 & 0 & 0 & 0 & 9.81 & 0\\\\0 & 0 & 0 & 0 & 0 & 0 & 0 & 0 & 0 & -9.81 & 0 & 0\\\\0 & 0 & 0 & 0 & 0 & 0 & 0 & 0 & 0 & 0 & 0 & 0\\\\0 & 0 & 0 & 0 & 0 & 0 & 0 & 0 & 0 & 0 & 0 & 0\\\\0 & 0 & 0 & 0 & 0 & 0 & 0 & 0 & 0 & 0 & 0 & 0\\\\0 & 0 & 0 & 0 & 0 & 0 & 0 & 0 & 0 & 0 & 0 & 0\\\\0 & 0 & 0 & 0 & 0 & 0 & 0 & 0 & 0 & 0 & 0 & 0\\\\0 & 0 & 0 & 0 & 0 & 0 & 0 & 0 & 0 & 0 & 0 & 0\\\\0 & 0 & 0 & 0 & 0 & 0 & 0 & 0 & 0 & 0 & 0 & 0\\\\0 & 0 & 0 & 0 & 0 & 0 & 0 & 0 & 0 & 0 & 0 & 0\\\\0 & 0 & 0 & 0 & 0 & 0 & 0 & 0 & 0 & 0 & 0 & 0\\\\0 & 0 & 0 & 0 & 0 & 0 & 0 & 0 & 0 & 0 & 0 & 0\\\\0 & 0 & 0 & 0 & 0 & 0 & 0 & 0 & 0 & 0 & 0 & 0\\\\0 & 0 & 0 & 0 & 0 & 0 & 0 & 0 & 0 & 0 & 0 & 0\\\\0 & 0 & 0 & 0 & 0 & 0 & 0 & 0 & 0 & 0 & 0 & 0\\\\0 & 0 & 0 & 0 & 0 & 0 & 0 & 0 & 0 & 0 & 0 & 0\\\\0 & 0 & 0 & 0 & 0 & 0 & 0 & 0 & 0 & 0 & 0 & 0\\\\0 & 0 & 0 & 0 & 0 & 0 & 0 & 0 & 0 & 0 & 0 & 0\\\\0 & 0 & 0 & 0 & 0 & 0 & 0 & 0 & 0 & 0 & 0 & 0\\\\0 & 0 & 0 & 0 & 0 & 0 & 0 & 0 & 0 & 0 & 0 & 0\\\\0 & 0 & 0 & 0 & 0 & 0 & 0 & 0 & 0 & 0 & 0 & 0\\\\0 & 0 & 0 & 0 & 0 & 0 & 0 & 0 & 0 & 0 & 0 & 0\\\\0 & 0 & 0 & 0 & 0 & 0 & 0 & 0 & 0 & 0 & 0 & 0\\\\0 & 0 & 0 & 0 & 0 & 0 & 0 & 0 & 0 & 0 & 0 & 0\\\\0 & 0 & 0 & 0 & 0 & 0 & 0 & 0 & 0 & 0 & 0 & 0\\\\0 & 0 & 0 & 0 & 0 & 0 & 0 & 0 & 0 & 0 & 0 & 0\\\\0 & 0 & 0 & 0 & 0 & 0 & 0 & 0 & 0 & 0 & 0 & 0\\\\0 & 0 & 0 & 0 & 0 & 0 & 0 & 0 & 0 & 0 & 0 & 0\\\\0 & 0 & 0 & 0 & 0 & 0 & 0 & 0 & 0 & 0 & 0 & 0\\\\0 & 0 & 0 & 0 & 0 & 0 & 0 & 0 & 0 & 0 & 0 & 0\\\\0 & 0 & 0 & 0 & 0 & 0 & 0 & 0 & 0 & 0 & 0 & 0\\\\0 & 0 & 0 & 0 & 0 & 0 & 0 & 0 & 0 & 0 & 0 & 0\\\\0 & 0 & 0 & 0 & 0 & 0 & 0 & 0 & 0 & 0 & 0 & 0\\\\0 & 0 & 0 & 0 & 0 & 0 & 0 & 0 & 0 & 0 & 0 & 0\\\\0 & 0 & 0 & 0 & 0 & 0 & 0 & 0 & 0 & 0 & 0 & 0\\\\0 & 0 & 0 & 0 & 0 & 0 & 0 & 0 & 0 & 0 & 0 & 0\\\\0 & 0 & 0 & 0 & 0 & 0 & 0 & 0 & 0 & 0 & 0 & 0\\\\0 & 0 & 0 & 0 & 0 & 0 & 0 & 0 & 0 & 0 & 0 & 0\\\\0 & 0 & 0 & 0 & 0 & 0 & 0 & 0 & 0 & 0 & 0 & 0\\\\0 & 0 & 0 & 0 & 0 & 0 & 0 & 0 & 0 & 0 & 0 & 0\\\\0 & 0 & 0 & 0 & 0 & 0 & 0 & 0 & 0 & 0 & 0 & 0\\\\0 & 0 & 0 & 0 & 0 & 0 & 0 & 0 & 0 & 0 & 0 & 0\\\\0 & 0 & 0 & 0 & 0 & 0 & 0 & 0 & 0 & 0 & 0 & 0\\\\0 & 0 & 0 & 0 & 0 & 0 & 0 & 0 & 0 & 0 & 0 & 0\\\\0 & 0 & 0 & 0 & 0 & 0 & 0 & 0 & 0 & 0 & 0 & 0\\\\0 & 0 & 0 & 0 & 0 & 0 & 0 & 0 & 0 & 0 & 0 & 0\\\\0 & 0 & 0 & 0 & 0 & 0 & 0 & 0 & 0 & 0 & 0 & 0\\\\0 & 0 & 0 & 0 & 0 & 0 & 0 & 0 & 0 & 0 & 0 & 0\\\\0 & 0 & 0 & 0 & 0 & 0 & 0 & 0 & 0 & 0 & 0 & 0\\\\0 & 0 & 0 & 0 & 0 & 0 & 0 & 0 & 0 & 0 & 0 & 0\\\\0 & 0 & 0 & 0 & 0 & 0 & 0 & 0 & 0 & 0 & 0 & 0\\\\0 & 0 & 0 & 0 & 0 & 0 & 0 & 0 & 0 & 0 & 0 & 0\\\\0 & 0 & 0 & 0 & 0 & 0 & 0 & 0 & 0 & 0 & 0 & 0\\\\0 & 0 & 0 & 0 & 0 & 0 & 0 & 0 & 0 & 0 & 0 & 0\\\\0 & 0 & 0 & 0 & 0 & 0 & 0 & 0 & 0 & 0 & 0 & 0\\\\0 & 0 & 0 & 0 & 0 & 0 & 0 & 0 & 0 & 0 & 0 & 0\\\\0 & 0 & 0 & 0 & 0 & 0 & 0 & 0 & 0 & 0 & 0 & 0\\\\0 & 0 & 0 & 0 & 0 & 0 & 0 & 0 & 0 & 0 & 0 & 0\\\\0 & 0 & 0 & 0 & 0 & 0 & 0 & 0 & 0 & 0 & 0 & 0\\\\0 & 0 & 0 & 0 & 0 & 0 & 0 & 0 & 0 & 0 & 0 & 0\\\\0 & 0 & 0 & 0 & 0 & 0 & 0 & 0 & 0 & 0 & 0 & 0\\\\0 & 0 & 0 & 0 & 0 & 0 & 0 & 0 & 0 & 0 & 0 & 0\\\\0 & 0 & 0 & 0 & 0 & 0 & 0 & 0 & 0 & 0 & 0 & 0\\\\0 & 0 & 0 & 0 & 0 & 0 & 0 & 0 & 0 & 0 & 0 & 0\\\\0 & 0 & 0 & 0 & 0 & 0 & 0 & 0 & 0 & 0 & 0 & 0\\\\0 & 0 & 0 & 0 & 0 & 0 & 0 & 0 & 0 & 0 & 0 & 0\\\\0 & 0 & 0 & 0 & 0 & 0 & 0 & 0 & 0 & 0 & 0 & 0\\\\0 & 0 & 0 & 0 & 0 & 0 & 0 & 0 & 0 & 0 & 0 & 0\\\\0 & 0 & 0 & 0 & 0 & 0 & 0 & 0 & 0 & 0 & 0 & 0\\\\0 & 0 & 0 & 0 & 0 & 0 & 0 & 0 & 0 & 0 & 0 & 0\\\\0 & 0 & 0 & 0 & 0 & 0 & 0 & 0 & 0 & 0 & 0 & 0\\\\0 & 0 & 0 & 0 & 0 & 0 & 0 & 0 & 0 & 0 & 0 & 0\\\\0 & 0 & 0 & 0 & 0 & 0 & 0 & 0 & 0 & 0 & 0 & 0\\\\0 & 0 & 0 & 0 & 0 & 0 & 0 & 0 & 0 & 0 & 0 & 0\\\\0 & 0 & 0 & 0 & 0 & 0 & 0 & 0 & 0 & 0 & 0 & 0\\\\0 & 0 & 0 & 0 & 0 & 0 & 0 & 0 & 0 & 0 & 0 & 0\\\\0 & 0 & 0 & 0 & 0 & 0 & 0 & 0 & 0 & 0 & 0 & 0\\\\0 & 0 & 0 & 0 & 0 & 0 & 0 & 0 & 0 & 0 & 0 & 0\\\\0 & 0 & 0 & 0 & 0 & 0 & 0 & 0 & 0 & 0 & 0 & 0\\\\0 & 0 & 0 & 0 & 0 & 0 & 0 & 0 & 0 & 0 & 0 & 0\\\\0 & 0 & 0 & 0 & 0 & 0 & 0 & 0 & 0 & 0 & 0 & 0\\\\0 & 0 & 0 & 0 & 0 & 0 & 0 & 0 & 0 & 0 & 0 & 0\\\\0 & 0 & 0 & 0 & 0 & 0 & 0 & 0 & 0 & 0 & 0 & 0\\\\0 & 0 & 0 & 0 & 0 & 0 & 0 & 0 & 0 & 0 & 0 & 0\\\\0 & 0 & 0 & 0 & 0 & 0 & 0 & 0 & 0 & 0 & 0 & 0\\\\0 & 0 & 0 & 0 & 0 & 0 & 0 & 0 & 0 & 0 & 0 & 0\\\\0 & 0 & 0 & 0 & 0 & 0 & 0 & 0 & 0 & 0 & 0 & 0\\\\0 & 0 & 0 & 0 & 0 & 0 & 0 & 0 & 0 & 0 & 0 & 0\\\\0 & 0 & 0 & 0 & 0 & 0 & 0 & 0 & 0 & 0 & 0 & 0\\\\0 & 0 & 0 & 0 & 0 & 0 & 0 & 0 & 0 & 0 & 0 & 0\\\\0 & 0 & 0 & 0 & 0 & 0 & 0 & 0 & 0 & 0 & 0 & 0\\\\0 & 0 & 0 & 0 & 0 & 0 & 0 & 0 & 0 & 0 & 0 & 0\\\\0 & 0 & 0 & 0 & 0 & 0 & 0 & 0 & 0 & 0 & 0 & 0\\\\0 & 0 & 0 & 0 & 0 & 0 & 0 & 0 & 0 & 0 & 0 & 0\\\\0 & 0 & 0 & 0 & 0 & 0 & 0 & 0 & 0 & 0 & 0 & 0\\\\0 & 0 & 0 & 0 & 0 & 0 & 0 & 0 & 0 & 0 & 0 & 0\\\\0 & 0 & 0 & 0 & 0 & 0 & 0 & 0 & 0 & 0 & 0 & 0\\\\0 & 0 & 0 & 0 & 0 & 0 & 0 & 0 & 0 & 0 & 0 & 0\\\\0 & 0 & 0 & 0 & 0 & 0 & 0 & 0 & 0 & 0 & 0 & 0\\end{array}\\right]$"
      ],
      "text/plain": [
       "⎡1.0   0    0    0    0    0       0      0.046875    0        0         0    \n",
       "⎢                                                                             \n",
       "⎢ 0   1.0   0    0    0    0   -0.046875     0      0.25       0         0    \n",
       "⎢                                                                             \n",
       "⎢ 0    0   1.0   0    0    0       0       -0.25      0        0         0    \n",
       "⎢                                                                             \n",
       "⎢1.0   0    0    0    0    0       0      0.046875  -0.25      0         0    \n",
       "⎢                                                                             \n",
       "⎢ 0   1.0   0    0    0    0   -0.046875     0        0        0         0    \n",
       "⎢                                                                             \n",
       "⎢ 0    0   1.0   0    0    0     0.25        0        0        0         0    \n",
       "⎢                                                                             \n",
       "⎢1.0   0    0    0    0    0       0      0.046875    0        0         0    \n",
       "⎢                                                                             \n",
       "⎢ 0   1.0   0    0    0    0   -0.046875     0      -0.25      0         0    \n",
       "⎢                                                                             \n",
       "⎢ 0    0   1.0   0    0    0       0        0.25      0        0         0    \n",
       "⎢                                                                             \n",
       "⎢1.0   0    0    0    0    0       0      0.046875  0.25       0         0    \n",
       "⎢                                                                             \n",
       "⎢ 0   1.0   0    0    0    0   -0.046875     0        0        0         0    \n",
       "⎢                                                                             \n",
       "⎢ 0    0   1.0   0    0    0     -0.25       0        0        0         0    \n",
       "⎢                                                                             \n",
       "⎢ 0    0    0   1.0   0    0       0         0        0        0      0.046875\n",
       "⎢                                                                             \n",
       "⎢ 0    0    0    0   1.0   0       0         0        0    -0.046875     0    \n",
       "⎢                                                                             \n",
       "⎢ 0    0    0    0    0   1.0      0         0        0        0       -0.25  \n",
       "⎢                                                                             \n",
       "⎢ 0    0    0   1.0   0    0       0         0        0        0      0.046875\n",
       "⎢                                                                             \n",
       "⎢ 0    0    0    0   1.0   0       0         0        0    -0.046875     0    \n",
       "⎢                                                                             \n",
       "⎢ 0    0    0    0    0   1.0      0         0        0      0.25        0    \n",
       "⎢                                                                             \n",
       "⎢ 0    0    0   1.0   0    0       0         0        0        0      0.046875\n",
       "⎢                                                                             \n",
       "⎢ 0    0    0    0   1.0   0       0         0        0    -0.046875     0    \n",
       "⎢                                                                             \n",
       "⎢ 0    0    0    0    0   1.0      0         0        0        0        0.25  \n",
       "⎢                                                                             \n",
       "⎢ 0    0    0   1.0   0    0       0         0        0        0      0.046875\n",
       "⎢                                                                             \n",
       "⎢ 0    0    0    0   1.0   0       0         0        0    -0.046875     0    \n",
       "⎢                                                                             \n",
       "⎢ 0    0    0    0    0   1.0      0         0        0      -0.25       0    \n",
       "⎢                                                                             \n",
       "⎢ 0    0    0    0    0    0       0        9.81      0        0         0    \n",
       "⎢                                                                             \n",
       "⎢ 0    0    0    0    0    0     -9.81       0        0        0         0    \n",
       "⎢                                                                             \n",
       "⎢ 0    0    0    0    0    0       0         0        0        0         0    \n",
       "⎢                                                                             \n",
       "⎢ 0    0    0    0    0    0       0        9.81      0        0         0    \n",
       "⎢                                                                             \n",
       "⎢ 0    0    0    0    0    0     -9.81       0        0        0         0    \n",
       "⎢                                                                             \n",
       "⎢ 0    0    0    0    0    0       0         0        0        0         0    \n",
       "⎢                                                                             \n",
       "⎢ 0    0    0    0    0    0       0        9.81      0        0         0    \n",
       "⎢                                                                             \n",
       "⎢ 0    0    0    0    0    0     -9.81       0        0        0         0    \n",
       "⎢                                                                             \n",
       "⎢ 0    0    0    0    0    0       0         0        0        0         0    \n",
       "⎢                                                                             \n",
       "⎢ 0    0    0    0    0    0       0        9.81      0        0         0    \n",
       "⎢                                                                             \n",
       "⎢ 0    0    0    0    0    0     -9.81       0        0        0         0    \n",
       "⎢                                                                             \n",
       "⎢ 0    0    0    0    0    0       0         0        0        0         0    \n",
       "⎢                                                                             \n",
       "⎢ 0    0    0    0    0    0       0         0        0        0        9.81  \n",
       "⎢                                                                             \n",
       "⎢ 0    0    0    0    0    0       0         0        0      -9.81       0    \n",
       "⎢                                                                             \n",
       "⎢ 0    0    0    0    0    0       0         0        0        0         0    \n",
       "⎢                                                                             \n",
       "⎢ 0    0    0    0    0    0       0         0        0        0        9.81  \n",
       "⎢                                                                             \n",
       "⎢ 0    0    0    0    0    0       0         0        0      -9.81       0    \n",
       "⎢                                                                             \n",
       "⎢ 0    0    0    0    0    0       0         0        0        0         0    \n",
       "⎢                                                                             \n",
       "⎢ 0    0    0    0    0    0       0         0        0        0        9.81  \n",
       "⎢                                                                             \n",
       "⎢ 0    0    0    0    0    0       0         0        0      -9.81       0    \n",
       "⎢                                                                             \n",
       "⎢ 0    0    0    0    0    0       0         0        0        0         0    \n",
       "⎢                                                                             \n",
       "⎢ 0    0    0    0    0    0       0         0        0        0        9.81  \n",
       "⎢                                                                             \n",
       "⎢ 0    0    0    0    0    0       0         0        0      -9.81       0    \n",
       "⎢                                                                             \n",
       "⎢ 0    0    0    0    0    0       0         0        0        0         0    \n",
       "⎢                                                                             \n",
       "⎢ 0    0    0    0    0    0       0         0        0        0         0    \n",
       "⎢                                                                             \n",
       "⎢ 0    0    0    0    0    0       0         0        0        0         0    \n",
       "⎢                                                                             \n",
       "⎢ 0    0    0    0    0    0       0         0        0        0         0    \n",
       "⎢                                                                             \n",
       "⎢ 0    0    0    0    0    0       0         0        0        0         0    \n",
       "⎢                                                                             \n",
       "⎢ 0    0    0    0    0    0       0         0        0        0         0    \n",
       "⎢                                                                             \n",
       "⎢ 0    0    0    0    0    0       0         0        0        0         0    \n",
       "⎢                                                                             \n",
       "⎢ 0    0    0    0    0    0       0         0        0        0         0    \n",
       "⎢                                                                             \n",
       "⎢ 0    0    0    0    0    0       0         0        0        0         0    \n",
       "⎢                                                                             \n",
       "⎢ 0    0    0    0    0    0       0         0        0        0         0    \n",
       "⎢                                                                             \n",
       "⎢ 0    0    0    0    0    0       0         0        0        0         0    \n",
       "⎢                                                                             \n",
       "⎢ 0    0    0    0    0    0       0         0        0        0         0    \n",
       "⎢                                                                             \n",
       "⎢ 0    0    0    0    0    0       0         0        0        0         0    \n",
       "⎢                                                                             \n",
       "⎢ 0    0    0    0    0    0       0         0        0        0         0    \n",
       "⎢                                                                             \n",
       "⎢ 0    0    0    0    0    0       0         0        0        0         0    \n",
       "⎢                                                                             \n",
       "⎢ 0    0    0    0    0    0       0         0        0        0         0    \n",
       "⎢                                                                             \n",
       "⎢ 0    0    0    0    0    0       0         0        0        0         0    \n",
       "⎢                                                                             \n",
       "⎢ 0    0    0    0    0    0       0         0        0        0         0    \n",
       "⎢                                                                             \n",
       "⎢ 0    0    0    0    0    0       0         0        0        0         0    \n",
       "⎢                                                                             \n",
       "⎢ 0    0    0    0    0    0       0         0        0        0         0    \n",
       "⎢                                                                             \n",
       "⎢ 0    0    0    0    0    0       0         0        0        0         0    \n",
       "⎢                                                                             \n",
       "⎢ 0    0    0    0    0    0       0         0        0        0         0    \n",
       "⎢                                                                             \n",
       "⎢ 0    0    0    0    0    0       0         0        0        0         0    \n",
       "⎢                                                                             \n",
       "⎢ 0    0    0    0    0    0       0         0        0        0         0    \n",
       "⎢                                                                             \n",
       "⎢ 0    0    0    0    0    0       0         0        0        0         0    \n",
       "⎢                                                                             \n",
       "⎢ 0    0    0    0    0    0       0         0        0        0         0    \n",
       "⎢                                                                             \n",
       "⎢ 0    0    0    0    0    0       0         0        0        0         0    \n",
       "⎢                                                                             \n",
       "⎢ 0    0    0    0    0    0       0         0        0        0         0    \n",
       "⎢                                                                             \n",
       "⎢ 0    0    0    0    0    0       0         0        0        0         0    \n",
       "⎢                                                                             \n",
       "⎢ 0    0    0    0    0    0       0         0        0        0         0    \n",
       "⎢                                                                             \n",
       "⎢ 0    0    0    0    0    0       0         0        0        0         0    \n",
       "⎢                                                                             \n",
       "⎢ 0    0    0    0    0    0       0         0        0        0         0    \n",
       "⎢                                                                             \n",
       "⎢ 0    0    0    0    0    0       0         0        0        0         0    \n",
       "⎢                                                                             \n",
       "⎢ 0    0    0    0    0    0       0         0        0        0         0    \n",
       "⎢                                                                             \n",
       "⎢ 0    0    0    0    0    0       0         0        0        0         0    \n",
       "⎢                                                                             \n",
       "⎢ 0    0    0    0    0    0       0         0        0        0         0    \n",
       "⎢                                                                             \n",
       "⎢ 0    0    0    0    0    0       0         0        0        0         0    \n",
       "⎢                                                                             \n",
       "⎢ 0    0    0    0    0    0       0         0        0        0         0    \n",
       "⎢                                                                             \n",
       "⎢ 0    0    0    0    0    0       0         0        0        0         0    \n",
       "⎢                                                                             \n",
       "⎢ 0    0    0    0    0    0       0         0        0        0         0    \n",
       "⎢                                                                             \n",
       "⎢ 0    0    0    0    0    0       0         0        0        0         0    \n",
       "⎢                                                                             \n",
       "⎢ 0    0    0    0    0    0       0         0        0        0         0    \n",
       "⎢                                                                             \n",
       "⎢ 0    0    0    0    0    0       0         0        0        0         0    \n",
       "⎢                                                                             \n",
       "⎢ 0    0    0    0    0    0       0         0        0        0         0    \n",
       "⎢                                                                             \n",
       "⎢ 0    0    0    0    0    0       0         0        0        0         0    \n",
       "⎢                                                                             \n",
       "⎢ 0    0    0    0    0    0       0         0        0        0         0    \n",
       "⎢                                                                             \n",
       "⎢ 0    0    0    0    0    0       0         0        0        0         0    \n",
       "⎢                                                                             \n",
       "⎢ 0    0    0    0    0    0       0         0        0        0         0    \n",
       "⎢                                                                             \n",
       "⎢ 0    0    0    0    0    0       0         0        0        0         0    \n",
       "⎢                                                                             \n",
       "⎢ 0    0    0    0    0    0       0         0        0        0         0    \n",
       "⎢                                                                             \n",
       "⎢ 0    0    0    0    0    0       0         0        0        0         0    \n",
       "⎢                                                                             \n",
       "⎢ 0    0    0    0    0    0       0         0        0        0         0    \n",
       "⎢                                                                             \n",
       "⎢ 0    0    0    0    0    0       0         0        0        0         0    \n",
       "⎢                                                                             \n",
       "⎢ 0    0    0    0    0    0       0         0        0        0         0    \n",
       "⎢                                                                             \n",
       "⎢ 0    0    0    0    0    0       0         0        0        0         0    \n",
       "⎢                                                                             \n",
       "⎢ 0    0    0    0    0    0       0         0        0        0         0    \n",
       "⎢                                                                             \n",
       "⎢ 0    0    0    0    0    0       0         0        0        0         0    \n",
       "⎢                                                                             \n",
       "⎢ 0    0    0    0    0    0       0         0        0        0         0    \n",
       "⎢                                                                             \n",
       "⎢ 0    0    0    0    0    0       0         0        0        0         0    \n",
       "⎢                                                                             \n",
       "⎢ 0    0    0    0    0    0       0         0        0        0         0    \n",
       "⎢                                                                             \n",
       "⎢ 0    0    0    0    0    0       0         0        0        0         0    \n",
       "⎢                                                                             \n",
       "⎢ 0    0    0    0    0    0       0         0        0        0         0    \n",
       "⎢                                                                             \n",
       "⎢ 0    0    0    0    0    0       0         0        0        0         0    \n",
       "⎢                                                                             \n",
       "⎢ 0    0    0    0    0    0       0         0        0        0         0    \n",
       "⎢                                                                             \n",
       "⎢ 0    0    0    0    0    0       0         0        0        0         0    \n",
       "⎢                                                                             \n",
       "⎢ 0    0    0    0    0    0       0         0        0        0         0    \n",
       "⎢                                                                             \n",
       "⎢ 0    0    0    0    0    0       0         0        0        0         0    \n",
       "⎢                                                                             \n",
       "⎢ 0    0    0    0    0    0       0         0        0        0         0    \n",
       "⎢                                                                             \n",
       "⎢ 0    0    0    0    0    0       0         0        0        0         0    \n",
       "⎢                                                                             \n",
       "⎢ 0    0    0    0    0    0       0         0        0        0         0    \n",
       "⎢                                                                             \n",
       "⎢ 0    0    0    0    0    0       0         0        0        0         0    \n",
       "⎢                                                                             \n",
       "⎢ 0    0    0    0    0    0       0         0        0        0         0    \n",
       "⎢                                                                             \n",
       "⎢ 0    0    0    0    0    0       0         0        0        0         0    \n",
       "⎢                                                                             \n",
       "⎢ 0    0    0    0    0    0       0         0        0        0         0    \n",
       "⎢                                                                             \n",
       "⎢ 0    0    0    0    0    0       0         0        0        0         0    \n",
       "⎢                                                                             \n",
       "⎢ 0    0    0    0    0    0       0         0        0        0         0    \n",
       "⎢                                                                             \n",
       "⎢ 0    0    0    0    0    0       0         0        0        0         0    \n",
       "⎢                                                                             \n",
       "⎢ 0    0    0    0    0    0       0         0        0        0         0    \n",
       "⎢                                                                             \n",
       "⎢ 0    0    0    0    0    0       0         0        0        0         0    \n",
       "⎢                                                                             \n",
       "⎢ 0    0    0    0    0    0       0         0        0        0         0    \n",
       "⎢                                                                             \n",
       "⎢ 0    0    0    0    0    0       0         0        0        0         0    \n",
       "⎢                                                                             \n",
       "⎢ 0    0    0    0    0    0       0         0        0        0         0    \n",
       "⎢                                                                             \n",
       "⎢ 0    0    0    0    0    0       0         0        0        0         0    \n",
       "⎢                                                                             \n",
       "⎢ 0    0    0    0    0    0       0         0        0        0         0    \n",
       "⎢                                                                             \n",
       "⎢ 0    0    0    0    0    0       0         0        0        0         0    \n",
       "⎢                                                                             \n",
       "⎢ 0    0    0    0    0    0       0         0        0        0         0    \n",
       "⎢                                                                             \n",
       "⎢ 0    0    0    0    0    0       0         0        0        0         0    \n",
       "⎢                                                                             \n",
       "⎢ 0    0    0    0    0    0       0         0        0        0         0    \n",
       "⎢                                                                             \n",
       "⎢ 0    0    0    0    0    0       0         0        0        0         0    \n",
       "⎢                                                                             \n",
       "⎢ 0    0    0    0    0    0       0         0        0        0         0    \n",
       "⎢                                                                             \n",
       "⎢ 0    0    0    0    0    0       0         0        0        0         0    \n",
       "⎢                                                                             \n",
       "⎢ 0    0    0    0    0    0       0         0        0        0         0    \n",
       "⎢                                                                             \n",
       "⎢ 0    0    0    0    0    0       0         0        0        0         0    \n",
       "⎢                                                                             \n",
       "⎢ 0    0    0    0    0    0       0         0        0        0         0    \n",
       "⎢                                                                             \n",
       "⎢ 0    0    0    0    0    0       0         0        0        0         0    \n",
       "⎢                                                                             \n",
       "⎢ 0    0    0    0    0    0       0         0        0        0         0    \n",
       "⎢                                                                             \n",
       "⎣ 0    0    0    0    0    0       0         0        0        0         0    \n",
       "\n",
       "    0  ⎤\n",
       "       ⎥\n",
       "    0  ⎥\n",
       "       ⎥\n",
       "    0  ⎥\n",
       "       ⎥\n",
       "    0  ⎥\n",
       "       ⎥\n",
       "    0  ⎥\n",
       "       ⎥\n",
       "    0  ⎥\n",
       "       ⎥\n",
       "    0  ⎥\n",
       "       ⎥\n",
       "    0  ⎥\n",
       "       ⎥\n",
       "    0  ⎥\n",
       "       ⎥\n",
       "    0  ⎥\n",
       "       ⎥\n",
       "    0  ⎥\n",
       "       ⎥\n",
       "    0  ⎥\n",
       "       ⎥\n",
       "    0  ⎥\n",
       "       ⎥\n",
       "  0.25 ⎥\n",
       "       ⎥\n",
       "    0  ⎥\n",
       "       ⎥\n",
       "  -0.25⎥\n",
       "       ⎥\n",
       "    0  ⎥\n",
       "       ⎥\n",
       "    0  ⎥\n",
       "       ⎥\n",
       "    0  ⎥\n",
       "       ⎥\n",
       "  -0.25⎥\n",
       "       ⎥\n",
       "    0  ⎥\n",
       "       ⎥\n",
       "  0.25 ⎥\n",
       "       ⎥\n",
       "    0  ⎥\n",
       "       ⎥\n",
       "    0  ⎥\n",
       "       ⎥\n",
       "    0  ⎥\n",
       "       ⎥\n",
       "    0  ⎥\n",
       "       ⎥\n",
       "    0  ⎥\n",
       "       ⎥\n",
       "    0  ⎥\n",
       "       ⎥\n",
       "    0  ⎥\n",
       "       ⎥\n",
       "    0  ⎥\n",
       "       ⎥\n",
       "    0  ⎥\n",
       "       ⎥\n",
       "    0  ⎥\n",
       "       ⎥\n",
       "    0  ⎥\n",
       "       ⎥\n",
       "    0  ⎥\n",
       "       ⎥\n",
       "    0  ⎥\n",
       "       ⎥\n",
       "    0  ⎥\n",
       "       ⎥\n",
       "    0  ⎥\n",
       "       ⎥\n",
       "    0  ⎥\n",
       "       ⎥\n",
       "    0  ⎥\n",
       "       ⎥\n",
       "    0  ⎥\n",
       "       ⎥\n",
       "    0  ⎥\n",
       "       ⎥\n",
       "    0  ⎥\n",
       "       ⎥\n",
       "    0  ⎥\n",
       "       ⎥\n",
       "    0  ⎥\n",
       "       ⎥\n",
       "    0  ⎥\n",
       "       ⎥\n",
       "    0  ⎥\n",
       "       ⎥\n",
       "    0  ⎥\n",
       "       ⎥\n",
       "    0  ⎥\n",
       "       ⎥\n",
       "    0  ⎥\n",
       "       ⎥\n",
       "    0  ⎥\n",
       "       ⎥\n",
       "    0  ⎥\n",
       "       ⎥\n",
       "    0  ⎥\n",
       "       ⎥\n",
       "    0  ⎥\n",
       "       ⎥\n",
       "    0  ⎥\n",
       "       ⎥\n",
       "    0  ⎥\n",
       "       ⎥\n",
       "    0  ⎥\n",
       "       ⎥\n",
       "    0  ⎥\n",
       "       ⎥\n",
       "    0  ⎥\n",
       "       ⎥\n",
       "    0  ⎥\n",
       "       ⎥\n",
       "    0  ⎥\n",
       "       ⎥\n",
       "    0  ⎥\n",
       "       ⎥\n",
       "    0  ⎥\n",
       "       ⎥\n",
       "    0  ⎥\n",
       "       ⎥\n",
       "    0  ⎥\n",
       "       ⎥\n",
       "    0  ⎥\n",
       "       ⎥\n",
       "    0  ⎥\n",
       "       ⎥\n",
       "    0  ⎥\n",
       "       ⎥\n",
       "    0  ⎥\n",
       "       ⎥\n",
       "    0  ⎥\n",
       "       ⎥\n",
       "    0  ⎥\n",
       "       ⎥\n",
       "    0  ⎥\n",
       "       ⎥\n",
       "    0  ⎥\n",
       "       ⎥\n",
       "    0  ⎥\n",
       "       ⎥\n",
       "    0  ⎥\n",
       "       ⎥\n",
       "    0  ⎥\n",
       "       ⎥\n",
       "    0  ⎥\n",
       "       ⎥\n",
       "    0  ⎥\n",
       "       ⎥\n",
       "    0  ⎥\n",
       "       ⎥\n",
       "    0  ⎥\n",
       "       ⎥\n",
       "    0  ⎥\n",
       "       ⎥\n",
       "    0  ⎥\n",
       "       ⎥\n",
       "    0  ⎥\n",
       "       ⎥\n",
       "    0  ⎥\n",
       "       ⎥\n",
       "    0  ⎥\n",
       "       ⎥\n",
       "    0  ⎥\n",
       "       ⎥\n",
       "    0  ⎥\n",
       "       ⎥\n",
       "    0  ⎥\n",
       "       ⎥\n",
       "    0  ⎥\n",
       "       ⎥\n",
       "    0  ⎥\n",
       "       ⎥\n",
       "    0  ⎥\n",
       "       ⎥\n",
       "    0  ⎥\n",
       "       ⎥\n",
       "    0  ⎥\n",
       "       ⎥\n",
       "    0  ⎥\n",
       "       ⎥\n",
       "    0  ⎥\n",
       "       ⎥\n",
       "    0  ⎥\n",
       "       ⎥\n",
       "    0  ⎥\n",
       "       ⎥\n",
       "    0  ⎥\n",
       "       ⎥\n",
       "    0  ⎥\n",
       "       ⎥\n",
       "    0  ⎥\n",
       "       ⎥\n",
       "    0  ⎥\n",
       "       ⎥\n",
       "    0  ⎥\n",
       "       ⎥\n",
       "    0  ⎥\n",
       "       ⎥\n",
       "    0  ⎥\n",
       "       ⎥\n",
       "    0  ⎥\n",
       "       ⎥\n",
       "    0  ⎥\n",
       "       ⎥\n",
       "    0  ⎥\n",
       "       ⎥\n",
       "    0  ⎥\n",
       "       ⎥\n",
       "    0  ⎥\n",
       "       ⎥\n",
       "    0  ⎥\n",
       "       ⎥\n",
       "    0  ⎥\n",
       "       ⎥\n",
       "    0  ⎥\n",
       "       ⎥\n",
       "    0  ⎥\n",
       "       ⎥\n",
       "    0  ⎥\n",
       "       ⎥\n",
       "    0  ⎥\n",
       "       ⎥\n",
       "    0  ⎥\n",
       "       ⎥\n",
       "    0  ⎥\n",
       "       ⎥\n",
       "    0  ⎥\n",
       "       ⎥\n",
       "    0  ⎥\n",
       "       ⎥\n",
       "    0  ⎥\n",
       "       ⎥\n",
       "    0  ⎥\n",
       "       ⎥\n",
       "    0  ⎥\n",
       "       ⎥\n",
       "    0  ⎥\n",
       "       ⎥\n",
       "    0  ⎥\n",
       "       ⎥\n",
       "    0  ⎥\n",
       "       ⎥\n",
       "    0  ⎥\n",
       "       ⎥\n",
       "    0  ⎥\n",
       "       ⎥\n",
       "    0  ⎥\n",
       "       ⎥\n",
       "    0  ⎥\n",
       "       ⎥\n",
       "    0  ⎥\n",
       "       ⎥\n",
       "    0  ⎥\n",
       "       ⎥\n",
       "    0  ⎥\n",
       "       ⎥\n",
       "    0  ⎥\n",
       "       ⎥\n",
       "    0  ⎥\n",
       "       ⎥\n",
       "    0  ⎥\n",
       "       ⎥\n",
       "    0  ⎥\n",
       "       ⎥\n",
       "    0  ⎥\n",
       "       ⎥\n",
       "    0  ⎥\n",
       "       ⎥\n",
       "    0  ⎥\n",
       "       ⎥\n",
       "    0  ⎥\n",
       "       ⎥\n",
       "    0  ⎥\n",
       "       ⎥\n",
       "    0  ⎥\n",
       "       ⎥\n",
       "    0  ⎥\n",
       "       ⎥\n",
       "    0  ⎥\n",
       "       ⎥\n",
       "    0  ⎦"
      ]
     },
     "execution_count": 220,
     "metadata": {},
     "output_type": "execute_result"
    }
   ],
   "source": [
    "# Checking Observability\n",
    "import control as ctrl\n",
    "O = ctrl.obsv(A, C)\n",
    "sym.Matrix(O)"
   ]
  },
  {
   "cell_type": "code",
   "execution_count": 219,
   "id": "16d75521-f145-4fc4-9e00-6318eb60f30b",
   "metadata": {},
   "outputs": [
    {
     "data": {
      "text/plain": [
       "True"
      ]
     },
     "execution_count": 219,
     "metadata": {},
     "output_type": "execute_result"
    }
   ],
   "source": [
    "# Since this is true, our system is observable\n",
    "np.linalg.matrix_rank(O) == A.shape[0]"
   ]
  },
  {
   "cell_type": "markdown",
   "id": "5309a767-b2bb-44a7-bb9c-d915946bdc1a",
   "metadata": {},
   "source": [
    "## Gain Selection and Controller Design\n",
    "Now that the dynamics have been linearized and we are now modeling our system in a standard state space form, we can find the gain matrices for both our controller and observer. To find the gains, we decided to use LQR, which minimizes a cost function by finding the solution to the Ricatti equation. We can solve this equation using scipy's solve_continuous_are function. We then multiplying the correct matrices to come up with the gain matrix. We created a function for this process for ease of use. Q and R must be diagonal matrices, so we used np.diag to create the matrices. "
   ]
  },
  {
   "cell_type": "code",
   "execution_count": 17,
   "id": "efc14387-28dd-48c2-b9f0-7042b307f3bd",
   "metadata": {},
   "outputs": [],
   "source": [
    "from scipy import linalg\n",
    "def lqr(A, B, Q, R):\n",
    "    P = linalg.solve_continuous_are(A, B, Q, R)\n",
    "    K = np.linalg.inv(R) @ B.T @ P\n",
    "    return K"
   ]
  },
  {
   "cell_type": "code",
   "execution_count": 55,
   "id": "913f83a1-0859-4d1a-91f4-1e552337265d",
   "metadata": {},
   "outputs": [
    {
     "data": {
      "text/latex": [
       "$\\displaystyle \\left[\\begin{array}{cccccccccccc}-2.1293937137441 \\cdot 10^{-18} & -0.00374999999999998 & -4.44199060392763 \\cdot 10^{-19} & -1.002712992603 \\cdot 10^{-18} & -0.00669858351860874 & -1.71735587653067 \\cdot 10^{-17} & 0.0469192956717564 & 5.06668781046195 \\cdot 10^{-18} & 8.76307517128672 \\cdot 10^{-17} & 0.0149942909165482 & 1.54557753574547 \\cdot 10^{-18} & 4.49079055702035 \\cdot 10^{-17}\\\\0.00375000000000001 & 1.07867179512967 \\cdot 10^{-18} & -6.79239038484412 \\cdot 10^{-20} & 0.00669858351860878 & -8.97232765104987 \\cdot 10^{-19} & -1.78819104613135 \\cdot 10^{-19} & 4.52944479406434 \\cdot 10^{-19} & 0.0469192956717566 & -1.65199630084434 \\cdot 10^{-17} & 1.54557753574547 \\cdot 10^{-18} & 0.0149942909165482 & -6.10400991742487 \\cdot 10^{-18}\\\\-3.25976155190951 \\cdot 10^{-18} & 3.95593004694861 \\cdot 10^{-18} & -1.98822970787694 \\cdot 10^{-17} & -6.09524122243388 \\cdot 10^{-18} & 4.62506187098596 \\cdot 10^{-18} & -6.1605786816777 \\cdot 10^{-18} & 1.17447188772182 \\cdot 10^{-17} & -3.13994617497832 \\cdot 10^{-17} & 0.02 & 2.5822045702867 \\cdot 10^{-17} & -3.5098057025193 \\cdot 10^{-18} & 0.013\\\\-2.30374306054491 \\cdot 10^{-16} & 1.17513424119074 \\cdot 10^{-14} & 1.875 & -2.53098353320137 \\cdot 10^{-16} & 1.39942473300245 \\cdot 10^{-14} & 2.03100960115899 & -8.0061490842986 \\cdot 10^{-14} & -8.57068825703232 \\cdot 10^{-16} & -1.27374280926806 \\cdot 10^{-14} & -1.97495925801027 \\cdot 10^{-14} & -2.05641970305105 \\cdot 10^{-16} & -1.23211573633554 \\cdot 10^{-14}\\end{array}\\right]$"
      ],
      "text/plain": [
       "⎡-2.1293937137441e-18   -0.00374999999999998  -4.44199060392763e-19   -1.00271\n",
       "⎢                                                                             \n",
       "⎢ 0.00375000000000001   1.07867179512967e-18  -6.79239038484412e-20   0.006698\n",
       "⎢                                                                             \n",
       "⎢-3.25976155190951e-18  3.95593004694861e-18  -1.98822970787694e-17  -6.095241\n",
       "⎢                                                                             \n",
       "⎣-2.30374306054491e-16  1.17513424119074e-14          1.875          -2.530983\n",
       "\n",
       "2992603e-18   -0.00669858351860874   -1.71735587653067e-17   0.046919295671756\n",
       "                                                                              \n",
       "58351860878   -8.97232765104987e-19  -1.78819104613135e-19  4.52944479406434e-\n",
       "                                                                              \n",
       "22243388e-18  4.62506187098596e-18   -6.1605786816777e-18   1.17447188772182e-\n",
       "                                                                              \n",
       "53320137e-16  1.39942473300245e-14     2.03100960115899     -8.0061490842986e-\n",
       "\n",
       "4   5.06668781046195e-18   8.76307517128672e-17    0.0149942909165482    1.545\n",
       "                                                                              \n",
       "19   0.0469192956717566    -1.65199630084434e-17  1.54557753574547e-18    0.01\n",
       "                                                                              \n",
       "17  -3.13994617497832e-17          0.02            2.5822045702867e-17   -3.50\n",
       "                                                                              \n",
       "14  -8.57068825703232e-16  -1.27374280926806e-14  -1.97495925801027e-14  -2.05\n",
       "\n",
       "57753574547e-18   4.49079055702035e-17 ⎤\n",
       "                                       ⎥\n",
       "49942909165482    -6.10400991742487e-18⎥\n",
       "                                       ⎥\n",
       "98057025193e-18           0.013        ⎥\n",
       "                                       ⎥\n",
       "641970305105e-16  -1.23211573633554e-14⎦"
      ]
     },
     "execution_count": 55,
     "metadata": {},
     "output_type": "execute_result"
    }
   ],
   "source": [
    "# We wanted to use the same weights for each type of state. This is because we believed that the weights should be the same for each dimension, but \n",
    "# different for each type of state\n",
    "p_weight = 1/(8**2)\n",
    "v_weight = 1/(10**2)\n",
    "angle_weight = 1/(1.5**2)\n",
    "omega_weight = 1/(10**2)\n",
    "Qcon = np.diag((p_weight, p_weight, p_weight, v_weight, v_weight, v_weight, angle_weight, angle_weight, angle_weight, omega_weight, omega_weight, omega_weight)) \n",
    "Rcon = np.diag((1/(0.03**2), 1/(0.03**2), 1/(0.03**2), 1/(15**2)))\n",
    "\n",
    "K = lqr(A, B, Qcon, Rcon)\n",
    "sym.Matrix(K)"
   ]
  },
  {
   "cell_type": "code",
   "execution_count": 54,
   "id": "7a859901-8ace-4498-b3f7-4af171798787",
   "metadata": {},
   "outputs": [
    {
     "data": {
      "text/latex": [
       "$\\displaystyle \\left[\\begin{array}{cccccccccccc}1.6029062077909 & 3.42419815333575 \\cdot 10^{-16} & -0.190234588600967 & 1.6029062077909 & 3.35198706042821 \\cdot 10^{-16} & -6.18544002171761 \\cdot 10^{-17} & 1.6029062077909 & 3.27977596752067 \\cdot 10^{-16} & 0.190234588600967 & 1.6029062077909 & 3.35198706042821 \\cdot 10^{-16} & 1.22086123931074 \\cdot 10^{-16}\\\\3.45240398767894 \\cdot 10^{-16} & 1.60290620779089 & -2.33966253444588 \\cdot 10^{-16} & 2.1088812043332 \\cdot 10^{-16} & 1.60290620779089 & -0.190234588600966 & 3.45240398767894 \\cdot 10^{-16} & 1.60290620779089 & 5.70856597711105 \\cdot 10^{-17} & 4.79592677102468 \\cdot 10^{-16} & 1.60290620779089 & 0.190234588600966\\\\2.98540352686844 \\cdot 10^{-17} & -2.18462788811759 \\cdot 10^{-16} & 0.707106781186548 & 1.62655494420122 \\cdot 10^{-16} & -8.56613296603215 \\cdot 10^{-17} & 0.707106781186548 & 2.98540352686844 \\cdot 10^{-17} & 4.71401294911158 \\cdot 10^{-17} & 0.707106781186548 & -1.02947423882753 \\cdot 10^{-16} & -8.56613296603215 \\cdot 10^{-17} & 0.707106781186548\\\\4.91038697468918 & 2.85045743565941 \\cdot 10^{-15} & -1.25643282154566 & 4.91038697468918 & 2.64557909083585 \\cdot 10^{-15} & -6.66069860981409 \\cdot 10^{-16} & 4.91038697468918 & 2.44070074601228 \\cdot 10^{-15} & 1.25643282154566 & 4.91038697468918 & 2.64557909083585 \\cdot 10^{-15} & 7.6397331312353 \\cdot 10^{-16}\\\\1.97097322447859 \\cdot 10^{-15} & 4.91038697468917 & -1.17785918040336 \\cdot 10^{-15} & 1.75802013839316 \\cdot 10^{-15} & 4.91038697468917 & -1.25643282154566 & 1.97097322447859 \\cdot 10^{-15} & 4.91038697468917 & 1.97842282995268 \\cdot 10^{-16} & 2.18392631056403 \\cdot 10^{-15} & 4.91038697468917 & 1.25643282154565\\\\-3.5376354961972 \\cdot 10^{-17} & -5.04661102917314 \\cdot 10^{-16} & 0.500000000000001 & 2.39287709477418 \\cdot 10^{-16} & -2.29997038477924 \\cdot 10^{-16} & 0.500000000000001 & -3.5376354961972 \\cdot 10^{-17} & 4.46670259614659 \\cdot 10^{-17} & 0.500000000000001 & -3.10040419401362 \\cdot 10^{-16} & -2.29997038477924 \\cdot 10^{-16} & 0.500000000000001\\\\-4.0243400114525 \\cdot 10^{-16} & -0.828190463834783 & 1.24997782096435 \\cdot 10^{-16} & -2.33044797400445 \\cdot 10^{-16} & -0.828190463834783 & 0.358677916964907 & -4.0243400114525 \\cdot 10^{-16} & -0.828190463834783 & -2.43567048290228 \\cdot 10^{-16} & -5.71823204890056 \\cdot 10^{-16} & -0.828190463834783 & -0.358677916964907\\\\0.828190463834787 & 6.33217836449034 \\cdot 10^{-16} & -0.358677916964907 & 0.828190463834787 & 6.16656779280146 \\cdot 10^{-16} & -1.89868049076313 \\cdot 10^{-16} & 0.828190463834787 & 6.00095722111258 \\cdot 10^{-16} & 0.358677916964907 & 0.828190463834787 & 6.16656779280146 \\cdot 10^{-16} & 1.7869678131035 \\cdot 10^{-16}\\\\3.19896353821814 \\cdot 10^{-17} & 1.11803398874989 & -5.47766893774637 \\cdot 10^{-16} & -1.11803398874989 & 5.69169589040447 \\cdot 10^{-16} & -7.00595040350555 \\cdot 10^{-16} & 3.19896353821814 \\cdot 10^{-17} & -1.11803398874989 & -5.14644779436861 \\cdot 10^{-16} & 1.11803398874989 & 5.69169589040447 \\cdot 10^{-16} & -3.61816632860943 \\cdot 10^{-16}\\\\-2.14106834680692 \\cdot 10^{-16} & -0.467677183163339 & 1.83017918989569 \\cdot 10^{-16} & -4.56082859733691 \\cdot 10^{-17} & -0.467677183163339 & 0.250112184223011 & -2.14106834680692 \\cdot 10^{-16} & -0.467677183163339 & 1.87057976037025 \\cdot 10^{-17} & -3.82605383388015 \\cdot 10^{-16} & -0.467677183163339 & -0.25011218422301\\\\0.467677183163341 & -2.15949899441204 \\cdot 10^{-16} & -0.25011218422301 & 0.467677183163341 & -2.10384101032598 \\cdot 10^{-16} & 1.40125546545465 \\cdot 10^{-16} & 0.467677183163341 & -2.04818302623992 \\cdot 10^{-16} & 0.25011218422301 & 0.467677183163341 & -2.10384101032598 \\cdot 10^{-16} & 8.16508296895034 \\cdot 10^{-17}\\\\6.45981148852173 \\cdot 10^{-17} & 0.499999999999997 & -5.64458302301798 \\cdot 10^{-16} & -0.499999999999997 & 8.1398959227601 \\cdot 10^{-17} & -5.89831597237769 \\cdot 10^{-16} & 6.45981148852173 \\cdot 10^{-17} & -0.499999999999997 & -5.24683983866992 \\cdot 10^{-16} & 0.499999999999997 & 8.1398959227601 \\cdot 10^{-17} & -4.99310688931021 \\cdot 10^{-16}\\end{array}\\right]$"
      ],
      "text/plain": [
       "⎡   1.6029062077909     3.42419815333575e-16    -0.190234588600967       1.602\n",
       "⎢                                                                             \n",
       "⎢3.45240398767894e-16     1.60290620779089     -2.33966253444588e-16   2.10888\n",
       "⎢                                                                             \n",
       "⎢2.98540352686844e-17   -2.18462788811759e-16    0.707106781186548    1.626554\n",
       "⎢                                                                             \n",
       "⎢  4.91038697468918     2.85045743565941e-15     -1.25643282154566      4.9103\n",
       "⎢                                                                             \n",
       "⎢1.97097322447859e-15     4.91038697468917     -1.17785918040336e-15  1.758020\n",
       "⎢                                                                             \n",
       "⎢-3.5376354961972e-17   -5.04661102917314e-16    0.500000000000001    2.392877\n",
       "⎢                                                                             \n",
       "⎢-4.0243400114525e-16    -0.828190463834783    1.24997782096435e-16   -2.33044\n",
       "⎢                                                                             \n",
       "⎢  0.828190463834787    6.33217836449034e-16    -0.358677916964907      0.8281\n",
       "⎢                                                                             \n",
       "⎢3.19896353821814e-17     1.11803398874989     -5.47766893774637e-16    -1.118\n",
       "⎢                                                                             \n",
       "⎢-2.14106834680692e-16   -0.467677183163339    1.83017918989569e-16   -4.56082\n",
       "⎢                                                                             \n",
       "⎢  0.467677183163341    -2.15949899441204e-16    -0.25011218422301      0.4676\n",
       "⎢                                                                             \n",
       "⎣6.45981148852173e-17     0.499999999999997    -5.64458302301798e-16   -0.4999\n",
       "\n",
       "9062077909     3.35198706042821e-16   -6.18544002171761e-17     1.602906207790\n",
       "                                                                              \n",
       "12043332e-16     1.60290620779089      -0.190234588600966    3.45240398767894e\n",
       "                                                                              \n",
       "94420122e-16   -8.56613296603215e-17    0.707106781186548    2.98540352686844e\n",
       "                                                                              \n",
       "8697468918     2.64557909083585e-15   -6.66069860981409e-16    4.9103869746891\n",
       "                                                                              \n",
       "13839316e-15     4.91038697468917       -1.25643282154566    1.97097322447859e\n",
       "                                                                              \n",
       "09477418e-16   -2.29997038477924e-16    0.500000000000001    -3.5376354961972e\n",
       "                                                                              \n",
       "797400445e-16   -0.828190463834783      0.358677916964907    -4.0243400114525e\n",
       "                                                                              \n",
       "90463834787    6.16656779280146e-16   -1.89868049076313e-16    0.8281904638347\n",
       "                                                                              \n",
       "03398874989    5.69169589040447e-16   -7.00595040350555e-16  3.19896353821814e\n",
       "                                                                              \n",
       "859733691e-17   -0.467677183163339      0.250112184223011    -2.14106834680692\n",
       "                                                                              \n",
       "77183163341    -2.10384101032598e-16  1.40125546545465e-16     0.4676771831633\n",
       "                                                                              \n",
       "99999999997     8.1398959227601e-17   -5.89831597237769e-16  6.45981148852173e\n",
       "\n",
       "9     3.27977596752067e-16     0.190234588600967       1.6029062077909     3.3\n",
       "                                                                              \n",
       "-16     1.60290620779089     5.70856597711105e-17   4.79592677102468e-16     1\n",
       "                                                                              \n",
       "-17   4.71401294911158e-17     0.707106781186548    -1.02947423882753e-16  -8.\n",
       "                                                                              \n",
       "8     2.44070074601228e-15     1.25643282154566       4.91038697468918     2.6\n",
       "                                                                              \n",
       "-15     4.91038697468917     1.97842282995268e-16   2.18392631056403e-15     4\n",
       "                                                                              \n",
       "-17   4.46670259614659e-17     0.500000000000001    -3.10040419401362e-16  -2.\n",
       "                                                                              \n",
       "-16    -0.828190463834783    -2.43567048290228e-16  -5.71823204890056e-16   -0\n",
       "                                                                              \n",
       "87    6.00095722111258e-16     0.358677916964907      0.828190463834787    6.1\n",
       "                                                                              \n",
       "-17     -1.11803398874989    -5.14644779436861e-16    1.11803398874989     5.6\n",
       "                                                                              \n",
       "e-16   -0.467677183163339    1.87057976037025e-17   -3.82605383388015e-16   -0\n",
       "                                                                              \n",
       "41    -2.04818302623992e-16    0.25011218422301       0.467677183163341    -2.\n",
       "                                                                              \n",
       "-17    -0.499999999999997    -5.24683983866992e-16    0.499999999999997     8.\n",
       "\n",
       "5198706042821e-16   1.22086123931074e-16 ⎤\n",
       "                                         ⎥\n",
       ".60290620779089       0.190234588600966  ⎥\n",
       "                                         ⎥\n",
       "56613296603215e-17    0.707106781186548  ⎥\n",
       "                                         ⎥\n",
       "4557909083585e-15    7.6397331312353e-16 ⎥\n",
       "                                         ⎥\n",
       ".91038697468917       1.25643282154565   ⎥\n",
       "                                         ⎥\n",
       "29997038477924e-16    0.500000000000001  ⎥\n",
       "                                         ⎥\n",
       ".828190463834783     -0.358677916964907  ⎥\n",
       "                                         ⎥\n",
       "6656779280146e-16    1.7869678131035e-16 ⎥\n",
       "                                         ⎥\n",
       "9169589040447e-16   -3.61816632860943e-16⎥\n",
       "                                         ⎥\n",
       ".467677183163339      -0.25011218422301  ⎥\n",
       "                                         ⎥\n",
       "10384101032598e-16  8.16508296895034e-17 ⎥\n",
       "                                         ⎥\n",
       "1398959227601e-17   -4.99310688931021e-16⎦"
      ]
     },
     "execution_count": 54,
     "metadata": {},
     "output_type": "execute_result"
    }
   ],
   "source": [
    "# We kept the Q, R matrices as the identity matrices for simplicity\n",
    "Qob = np.diag((1, 1, 1, 1, 1, 1, 1, 1, 1, 1, 1, 1))\n",
    "Rob = np.diag((1, 1, 1, 1, 1, 1, 1, 1, 1, 1, 1, 1))\n",
    "\n",
    "# The parameters we enter for the LQR function have to change due to the differnt cost function used for the observer\n",
    "L = (lqr(A.T, C.T, np.linalg.inv(Rob), np.linalg.inv(Qob))).T\n",
    "sym.Matrix(L)"
   ]
  },
  {
   "cell_type": "markdown",
   "id": "6e154ca4-0c8e-4db9-91d3-6ef0b35c6f7b",
   "metadata": {},
   "source": [
    "### Creating the Controller\n",
    "Now to put it all together. We must now design a controller that estimates its position with its sensors while tracking its desired position. All the necessary matrices are initialized in the constructor, including the equilibrium states and inputs and the maximum error. The reset function initializes the xhat (estimation of the staate). The other variables are extra components we added to improve our controller, such as a counter for the number of gates we passed and ways to track the phat and pdes throughout the simulation. In the run function, that is where most of the math is done for the controller. We also implemented collision avoidance so as to avoid other drones when racing against them. This also improved the speed of our controller. "
   ]
  },
  {
   "cell_type": "code",
   "execution_count": 183,
   "id": "06cc22bb-fde2-479e-82b7-173e9611699c",
   "metadata": {},
   "outputs": [],
   "source": [
    "class Controller():\n",
    "    def __init__(self):\n",
    "        # initialzing all the necessary variables\n",
    "        self.A = A\n",
    "        self.B = B\n",
    "        self.C = C\n",
    "\n",
    "        self.K = K\n",
    "        self.L = L\n",
    "        self.m_e = np.array([pxe, pye, pze, vxe, vye, vze, phie, thetae, psie, wxe, wye, wze]) # equilibrium values of the state\n",
    "        self.n_e = np.array([tauxe, tauye, tauze, fze]) # equilibrium values of the inputs\n",
    "        self.q_e = q_e # equilibrium values of the sensors\n",
    "        # found this through testing\n",
    "        self.e_max = 0.5\n",
    "        pass\n",
    "\n",
    "    \n",
    "    def reset(self):\n",
    "        self.xhat = np.zeros(12,)  # state estimate\n",
    "        self.last_p_goal = np.zeros(3) # keeps track of the last position goal from the previous iteration\n",
    "        self.gate_count = 0 # what number gate we are aiming for\n",
    "        self.phat_history = np.array([0.,0.,0.]) # history of the estimated pos over time\n",
    "        self.pdes_history = np.array([0.,0.,0.]) # history of the desired pos over time\n",
    "        pass\n",
    "    \n",
    "    \n",
    "    def run(self, **kwargs):\n",
    "        self.dt = kwargs[\"dt\"] # change in time between iterations of the controller\n",
    "        self.p_goal = kwargs[\"next_gate\"] # position goal which is the position of the center of the next gate\n",
    "        p_hat = self.xhat[:3] # estimated position\n",
    "        \n",
    "        # implement gradient descent for collision avoidance\n",
    "        k_attract = 20. # the weight for the attraction force of the p_goal\n",
    "        k_repel = 0. # the weight for the repulsive force of the p_goal (we set this later)\n",
    "        k_des = 0.5 # the weight for the overall force of the collision avoidance\n",
    "        r_drone = 0.5 # radius of the drone\n",
    "        s = r_drone\n",
    "\n",
    "        # this code increments gate_count when we have a new gate\n",
    "        p_goal = kwargs['next_gate']\n",
    "        if (self.last_p_goal[0] == 0 and self.last_p_goal[1] == 0 and self.last_p_goal[2] == 0):\n",
    "            self.last_p_goal = kwargs['next_gate']\n",
    "            self.gate_count += 1\n",
    "        elif (self.last_p_goal[0] != p_goal[0] or self.last_p_goal[1] != p_goal[1] or self.last_p_goal[2] != p_goal[2]):\n",
    "            self.last_p_goal = kwargs['next_gate']\n",
    "            self.gate_count += 1\n",
    "\n",
    "        \n",
    "        # calculate the attractive force\n",
    "        if (self.gate_count > 4): # if we are far into the obstacle course, we decrease the k_attract to slow down a bit but increase k_des\n",
    "            k_des = 1 \n",
    "            k_attract = 8.\n",
    "        if (self.gate_count == 6):\n",
    "            k_attract = 20. # speed up at the long stretch of the obstalce course\n",
    "            if (np.linalg.norm(p_hat - self.p_goal) < 25):\n",
    "                k_attract = 7. # sometimes the drone would move too fast and overeact, so we must slow down as it gets closer\n",
    "    \n",
    "        if kwargs[\"is_last_gate\"] == True:\n",
    "            k_attract = 40. # move as fast as possible at the last gate\n",
    "        \n",
    "        h_attract = k_attract*((p_hat - self.p_goal) / np.linalg.norm(p_hat - self.p_goal)) # the attractive force calculation\n",
    "\n",
    "        \n",
    "        # Calculate the Repulsive Part\n",
    "        h_repel = np.array([0.0,0.0,0.0]) \n",
    "        for q in kwargs[\"pos_others\"]:\n",
    "            #Repulsion of Other Drones\n",
    "            p_obst = q + s*((p_hat - q)/np.linalg.norm(p_hat - q))\n",
    "            grad_d = (p_hat - p_obst)/np.linalg.norm((p_hat - p_obst))\n",
    "            d_p = np.linalg.norm((p_hat - p_obst))\n",
    "            k_repel = 6. # k_repel is relatively low because sometimes the drone overracts to other drones near it\n",
    "            h_repel += -k_repel*((grad_d/(d_p*d_p)))[0]\n",
    "           \n",
    "            #If the drone is too close to the floor, get away so we don't crash\n",
    "            if p_hat[2] < 1.0:\n",
    "                k_repel = 1.\n",
    "                h_repel += -k_repel * np.array([0.0,0.0,5.0])\n",
    "        \n",
    "        if (self.gate_count > 1): # we turn off repulsive force after the first gate because we watn to focus on being fast after beating the first gate\n",
    "            h_repel = np.zeros(3)\n",
    "            \n",
    "        # Combining the terms\n",
    "        h = h_attract + h_repel\n",
    "\n",
    "        # determining the p_des by looking at the error so it doesn't cause our drone to act too aggressively\n",
    "        if np.linalg.norm(self.p_goal - p_hat) < self.e_max:\n",
    "            self.p_des = self.p_goal\n",
    "        else:\n",
    "            self.p_des = p_hat - k_des*h # gradient descent is applied\n",
    "\n",
    "        #Calculate x desired\n",
    "        self.x_des = np.block([self.p_des, np.zeros(9)])\n",
    "\n",
    "        #Find inputs using tracking and linear feedback\n",
    "        u = -self.K@(self.xhat - self.x_des)\n",
    "        inputs = u + self.n_e # adding the eq. control input\n",
    "\n",
    "        #Update x estimation\n",
    "        o = np.block([kwargs[\"mocap_1\"], kwargs[\"mocap_2\"], kwargs[\"mocap_3\"], kwargs[\"mocap_4\"]])\n",
    "        y = o - self.q_e # finding the sensor measurement and subtracking the equilibrium sensor measurement\n",
    "        self.xhat += self.dt * (self.A@self.xhat + self.B@u - self.L@(self.C@self.xhat - y))\n",
    "        # tracking the phat and pdes\n",
    "        self.phat_history = np.block([[self.phat_history], [self.xhat[:3]]])\n",
    "        self.pdes_history = np.block([[self.pdes_history], [self.p_des]])\n",
    "        \n",
    "        return inputs"
   ]
  },
  {
   "cell_type": "code",
   "execution_count": 184,
   "id": "5f742531-b9e0-485e-b151-60c287abb807",
   "metadata": {},
   "outputs": [],
   "source": [
    "# This is a second controller that we tested against that employs a similar controller\n",
    "class Controller2():\n",
    "    def __init__(self):\n",
    "        self.A = A\n",
    "        self.B = B\n",
    "        self.C = C\n",
    "\n",
    "        self.K = K\n",
    "        self.L = L\n",
    "        self.m_e = np.array([pxe, pye, pze, vxe, vye, vze, phie, thetae, psie, wxe, wye, wze])\n",
    "        self.n_e = np.array([tauxe, tauye, tauze, fze])\n",
    "        self.q_e = q_e\n",
    "\n",
    "        self.e_max = 0.5\n",
    "        pass\n",
    "\n",
    "    \n",
    "    def reset(self):\n",
    "        self.xhat = np.zeros(12,)\n",
    "        self.n = np.zeros(4,)\n",
    "        self.last_p_goal = np.zeros(3)\n",
    "        self.gate_count = 0\n",
    "        self.phat_history = np.array([0.,0.,0.])\n",
    "        self.pdes_history = np.array([0.,0.,0.])\n",
    "        pass\n",
    "    \n",
    "    \n",
    "    def run(self, **kwargs):\n",
    "        self.dt = kwargs[\"dt\"]\n",
    "        self.p_goal = kwargs[\"next_gate\"]\n",
    "        self.p_goal_direction = kwargs[\"dir_gate\"]\n",
    "        p_hat = self.xhat[:3]\n",
    "        \n",
    "        # implement gradient descent for collision avoidance\n",
    "        k_attract = 5.\n",
    "        k_repel = 0.5\n",
    "        k_des = 1.\n",
    "        r_drone = 0.5\n",
    "        s = r_drone\n",
    "\n",
    "    \n",
    "        if kwargs[\"is_last_gate\"] == True:\n",
    "            k_attract = 20.\n",
    "        \n",
    "        h_attract = k_attract*((p_hat - self.p_goal) / np.linalg.norm(p_hat - self.p_goal))\n",
    "\n",
    "        \n",
    "        # Calculate the Repulsive Part\n",
    "        h_repel = np.array([0.0,0.0,0.0])\n",
    "        for q in kwargs[\"pos_others\"]:\n",
    "            \n",
    "            #Repulsion of Other Drones\n",
    "            p_obst = q + s*((p_hat - q)/np.linalg.norm(p_hat - q))\n",
    "            grad_d = (p_hat - p_obst)/np.linalg.norm((p_hat - p_obst))\n",
    "            d_p = np.linalg.norm((p_hat - p_obst)) #+ r_drone#- r_drone\n",
    "            k_repel = 6.\n",
    "            h_repel += -k_repel*((grad_d/(d_p*d_p)))[0]\n",
    "        \n",
    "        # Combining the terms\n",
    "        h = h_attract + h_repel\n",
    "\n",
    "        # minimize error using gradient descent method\n",
    "        if np.linalg.norm(self.p_goal - p_hat) < self.e_max:\n",
    "            self.p_des = self.p_goal\n",
    "        else:\n",
    "            self.p_des = p_hat - k_des*h\n",
    "\n",
    "        #Calculate x desired\n",
    "        self.x_des = np.block([self.p_des, np.zeros(9)])\n",
    "\n",
    "        #Find inputs using tracking and linear feedback\n",
    "        u = -self.K@(self.xhat - self.x_des)\n",
    "        inputs = u + self.n_e\n",
    "\n",
    "        #Update x estimation\n",
    "        o = np.block([kwargs[\"mocap_1\"], kwargs[\"mocap_2\"], kwargs[\"mocap_3\"], kwargs[\"mocap_4\"]])\n",
    "        y = o - self.q_e\n",
    "        self.xhat += self.dt * (self.A@self.xhat + self.B@u - self.L@(self.C@self.xhat - y))\n",
    "\n",
    "        self.phat_history = np.block([[self.phat_history], [self.xhat[:3]]])\n",
    "        self.pdes_history = np.block([[self.pdes_history], [self.p_des]])\n",
    "\n",
    "        return inputs"
   ]
  },
  {
   "cell_type": "code",
   "execution_count": 185,
   "id": "91f99c2f-26ef-4515-875c-d5be5505ff4b",
   "metadata": {},
   "outputs": [],
   "source": [
    "# Create an instance of our Controllers\n",
    "controller1 = Controller()\n",
    "controller2 = Controller2()"
   ]
  },
  {
   "cell_type": "markdown",
   "id": "fdd5aa72-f4c6-4b4e-bb66-08bd4ceda7c9",
   "metadata": {},
   "source": [
    "## Running the Simulation"
   ]
  },
  {
   "cell_type": "markdown",
   "id": "a71636ba-cd6d-4ad5-8e31-1457f4111c72",
   "metadata": {},
   "source": [
    "Before we run the simulation, we must first import the simulation module and then create an instance of the simulator. This is done below:"
   ]
  },
  {
   "cell_type": "code",
   "execution_count": 247,
   "id": "e5146cf2-bb6b-4a56-ab66-08917b5d03c6",
   "metadata": {},
   "outputs": [],
   "source": [
    "# Import the quadrotor project. This module is used to simulate, render, and plot a quadrotor dynamic system\n",
    "import ae353_quadrotor"
   ]
  },
  {
   "cell_type": "code",
   "execution_count": 248,
   "id": "80c2d1df-5247-44cf-9de7-35c4d85780d5",
   "metadata": {},
   "outputs": [],
   "source": [
    "# Make an instance of the simulator for 1 or 2 quadrotors\n",
    "# team_list = [\"Team Kachow\", \"the ORB\"]\n",
    "team_list = [\"Team Kachow\"]\n",
    "sim = ae353_quadrotor.Quadrotor_Sim(n_quadrotors=1,\n",
    "                                    team_list=team_list,\n",
    "                                    planet=\"Earth\",\n",
    "                                    use_keyboard=False,\n",
    "                                    visualization=False,\n",
    "                                    visualization_fr=45.,\n",
    "                                    animation=False,\n",
    "                                    verbose=True)"
   ]
  },
  {
   "cell_type": "markdown",
   "id": "94ef6182-08ea-4384-92c0-20210a8c5858",
   "metadata": {},
   "source": [
    "Now we are ready to run the simulation and collect data. To do this we call the ``sim.run()`` function. This function takes a list of members of the  ``Controller`` class as an argument and returns ``track_stats`` and ``data``. The parameters and return values of ``sim.run()`` are shown below.\n",
    "\n",
    "\n",
    "> \n"
   ]
  },
  {
   "cell_type": "code",
   "execution_count": 249,
   "id": "75fefa5c-d205-44cc-84fb-0896513a6cec",
   "metadata": {},
   "outputs": [
    {
     "name": "stdout",
     "output_type": "stream",
     "text": [
      "Team Kachow:0 PASSED GATE 1 IN 2.93s\n",
      "Team Kachow:0 PASSED GATE 2 IN 5.29s\n",
      "Team Kachow:0 PASSED GATE 3 IN 7.46s\n",
      "Team Kachow:0 PASSED GATE 4 IN 10.4s\n",
      "Team Kachow:0 PASSED GATE 5 IN 14.4s\n",
      "Team Kachow:0 PASSED GATE 6 IN 20.1s\n",
      "Team Kachow:0 PASSED GATE 7 IN 21.11s\n",
      "Team Kachow:0 COMPLETED LAP IN 21.11s\n"
     ]
    }
   ],
   "source": [
    "# Run the simulation and collect the simulation data\n",
    "# controllers = [controller1, controller2] if we want 2 controllers\n",
    "controllers = [controller1]\n",
    "(track_stats, data) = sim.run(controllers,\n",
    "                              sensor_noise=0.01,\n",
    "                              collect_data=True,\n",
    "                              max_time=30.0,\n",
    "                              verbose=True)"
   ]
  },
  {
   "cell_type": "code",
   "execution_count": 250,
   "id": "e885b408-a4ca-450c-a762-f909d2027799",
   "metadata": {},
   "outputs": [
    {
     "name": "stdout",
     "output_type": "stream",
     "text": [
      "Quadrotor 0 completed lap: True\n",
      "Gate times for Quadrotor 0: [2.93, 5.29, 7.46, 10.4, 14.4, 20.1, 21.11]\n",
      "Lap time for Quadrotor 0: 21.11\n",
      "\n",
      "\n"
     ]
    }
   ],
   "source": [
    "# Print out the track stats for each quadrotor\n",
    "for i in range(len(track_stats)):\n",
    "    stat = track_stats[i]\n",
    "    print(\"Quadrotor {} completed lap: {}\".format(i, stat[\"completed_lap\"]))\n",
    "    if len(stat[\"gate_times\"]) > 0:\n",
    "        print(\"Gate times for Quadrotor {}: {}\".format(i, stat[\"gate_times\"]))\n",
    "    else:\n",
    "        print(\"Quadrotor {} passed no gates.\".format(i))\n",
    "    if stat[\"completed_lap\"]:\n",
    "        print(\"Lap time for Quadrotor {}: {}\".format(i, stat[\"lap_time\"]))\n",
    "    print(\"\\n\")"
   ]
  },
  {
   "cell_type": "markdown",
   "id": "0fadfcf6-c9d5-4d87-9ff7-8665522883e3",
   "metadata": {},
   "source": [
    "Post-processing the simulation data"
   ]
  },
  {
   "cell_type": "markdown",
   "id": "4d9710b3-e018-4921-839c-ff40946ef1f8",
   "metadata": {},
   "source": [
    "After the simulation is run, we can plot the data using the Matplotlib package. To start, we import matplotlib and numpy."
   ]
  },
  {
   "cell_type": "code",
   "execution_count": 251,
   "id": "5b23ea45-dabd-46f3-b3aa-148dd30d4f64",
   "metadata": {},
   "outputs": [],
   "source": [
    "import matplotlib.pyplot as plt\n",
    "import numpy as np"
   ]
  },
  {
   "cell_type": "code",
   "execution_count": 252,
   "id": "815349ed-356a-4194-bd7c-35db59ea26e9",
   "metadata": {},
   "outputs": [
    {
     "data": {
      "image/png": "[encoded data removed]",
      "text/plain": [
       "<Figure size 720x540 with 2 Axes>"
      ]
     },
     "metadata": {},
     "output_type": "display_data"
    }
   ],
   "source": [
    "# Create a figure that has two plots in it\n",
    "fig, axes = plt.subplots(2, 1, figsize=(7.2, 5.4), sharex=False)\n",
    "\n",
    "# Convert the position data to array\n",
    "colors = ['k','r','g','b','m','c','tab:orange','tab:purple','tab:brown','tab:pink','tab:gray']\n",
    "for i in range(len(data)):\n",
    "    \n",
    "    # Get the position\n",
    "    pos = np.array(data[i]['position'])\n",
    "    \n",
    "    # Create a plot of the ground path of the quadrotor\n",
    "    axes[0].plot(pos[:,0], pos[:,1], c=colors[i], lw=2.5, label=\"Drone True Position\")\n",
    "    \n",
    "    \n",
    "    # Create a plot of the altitude versus time\n",
    "    axes[1].plot(data[0]['time'], pos[:,2], c=colors[i], lw=2.5, label=\"Drone True Position\")\n",
    "    axes[1].plot(data[0]['time'], controller1.pdes_history[1:,2], c=colors[i+1], lw=2.5, label=\"Drone Pdes\")\n",
    "    axes[1].plot(data[0]['time'], controller1.phat_history[1:,2], c=colors[i+2], lw=2.5, label=\"Drone Phat\")\n",
    "\n",
    "# Plots the x position versus the y position\n",
    "axes[0].set_xlabel(\"X Position [meters]\", fontsize=12)\n",
    "axes[0].set_ylabel(\"Y Position [meters]\", fontsize=12)\n",
    "axes[0].tick_params(axis='y', labelsize=12)\n",
    "axes[0].set_title(\"Ground Track\", fontsize=14)\n",
    "axes[0].set_aspect('equal', 'box')\n",
    "axes[0].legend(bbox_to_anchor=(1.16, 1.05), fancybox=True, shadow=True)\n",
    "axes[0].grid()\n",
    "\n",
    "# plots the z position over time and the desired z estimate\n",
    "axes[1].set_xlabel(\"Time [seconds]\", fontsize=12)\n",
    "axes[1].set_ylabel(\"Altitude [meters]\", fontsize=12)\n",
    "axes[1].tick_params(axis='y', labelsize=12)\n",
    "axes[1].set_title(\"Altitude vs. Time\", fontsize=14)\n",
    "axes[1].legend(bbox_to_anchor=(1., 1.05), fancybox=True, shadow=True)\n",
    "axes[1].grid()\n",
    "\n",
    "# Show the figure\n",
    "fig.tight_layout(pad=2.0)\n",
    "plt.show()"
   ]
  },
  {
   "cell_type": "markdown",
   "id": "b968e842-4607-456b-870a-046fdba8fad1",
   "metadata": {},
   "source": [
    "From these graphs, in this one iteration of our simualtion, our drone completes the lap. We can also see how the phat and pdes track closely the true position of our drone. This show how well our drone tracked and estimated its own position. "
   ]
  },
  {
   "cell_type": "markdown",
   "id": "e646ef7e-9ff7-4bd5-b40d-6414f8fa02a3",
   "metadata": {},
   "source": [
    "We can now check our requirements and gather more data. First we will look at how well our drone avoids other drones when racing against them. "
   ]
  },
  {
   "cell_type": "code",
   "execution_count": 256,
   "id": "8d38f915-608a-499a-8430-dd82eb6d6734",
   "metadata": {},
   "outputs": [],
   "source": [
    "# This function finds the minimum distance between the 2 drones we have in any given simulation\n",
    "def min_distance_between_drones(data, drone1, drone2):\n",
    "    min_distance = float('inf')\n",
    "    \n",
    "    # Iterate through each timestamp\n",
    "    for i in range(len(data[drone1][\"position\"])):\n",
    "        pos_drone1 = np.array(data[drone1][\"position\"][i])\n",
    "        pos_drone2 = np.array(data[drone2][\"position\"][i])\n",
    "        \n",
    "        distance = np.linalg.norm(pos_drone1 - pos_drone2)\n",
    "        \n",
    "        if distance < min_distance:\n",
    "            min_distance = distance\n",
    "    \n",
    "    return min_distance"
   ]
  },
  {
   "cell_type": "code",
   "execution_count": null,
   "id": "4bbd574f-cd92-4662-af8a-4c8ba47b80fb",
   "metadata": {},
   "outputs": [],
   "source": [
    "controller2 = Controller2()\n",
    "team_list = [\"Team Kachow\", \"the ORB\"]\n",
    "sim = ae353_quadrotor.Quadrotor_Sim(n_quadrotors=2,\n",
    "                                    team_list=team_list,\n",
    "                                    planet=\"Earth\",\n",
    "                                    use_keyboard=False,\n",
    "                                    visualization=False,\n",
    "                                    visualization_fr=45.,\n",
    "                                    animation=False,\n",
    "                                    verbose=True)\n",
    "\n",
    "controllers = [controller1, controller2]\n",
    "min_dist = np.zeros(100) # array collecting the data\n",
    "# we run the simulation 100 times to ensure how controller works every time\n",
    "for i in range(100):\n",
    "    (track_stats, data) = sim.run(controllers,\n",
    "                                  sensor_noise=0.01,\n",
    "                                  collect_data=True,\n",
    "                                  max_time=30.0,\n",
    "                                  verbose=False)\n",
    "    min_distance = min_distance_between_drones(data, 0, 1)\n",
    "    min_dist[i] = min_distance\n"
   ]
  },
  {
   "cell_type": "code",
   "execution_count": null,
   "id": "20f38af3-e3f8-478a-9a9d-f442d7493be9",
   "metadata": {},
   "outputs": [],
   "source": [
    "# Plotting the minimum distance of the simulations\n",
    "plt.hist(min_dist, bins=20, range=(0, 5), color='blue', edgecolor='black')\n",
    "plt.xlabel('Distance (m)')\n",
    "plt.ylabel('Frequency (number of simulations)')\n",
    "plt.title('Histogram of Minimum Distances Between Drones per Simulation')\n",
    "plt.grid(True)\n",
    "plt.show()\n",
    "print(min_dist <= 1)\n",
    "avg_dist = 0\n",
    "for i in range(100):\n",
    "   avg_dist += min_dist[i]\n",
    "avg_dist = avg_dist / 100\n",
    "print(\"Average Minimum Distance from the other drone: \", avg_dist)"
   ]
  },
  {
   "cell_type": "markdown",
   "id": "e6f0b1ea-d121-4161-9f61-9c6b7755249b",
   "metadata": {},
   "source": [
    "From our data it is clear that our drone never comes within 1 meter of the other drone. All of our simulations have a similar minimum distance, but they are all greater than 1 meter. If we also iterate through the minimum distances, we can see that the drone never gets below or equal to 1 meter. Thus, one of our requirements is fulfilled."
   ]
  },
  {
   "cell_type": "markdown",
   "id": "47869f38-3958-4535-825d-898931e978ce",
   "metadata": {},
   "source": [
    "Let's now take a look at the requirements we are testing when racing only one drone. "
   ]
  },
  {
   "cell_type": "code",
   "execution_count": 155,
   "id": "fcb65188-49bf-4f18-98e6-ed387e0b134a",
   "metadata": {},
   "outputs": [],
   "source": [
    "trials = 100\n",
    "fail_time = np.zeros(trials) # time it takes for the drone to either end the simulation, or complete a lap\n",
    "num_laps = 0 # keeping track of laps\n",
    "controllers = [controller1]\n",
    "RMSE_x_obs_array = [] # RMSE between the estimated x-position and true x-postiion over time\n",
    "RMSE_y_obs_array = [] # RMSE between the estimated y-position and true y-postiion over time\n",
    "RMSE_z_obs_array = [] # RMSE between the estimated z-position and true z-postiion over time\n",
    "\n",
    "RMSE_x_con_array = [] # RMSE between the desired x-position and true x-postiion over time\n",
    "RMSE_y_con_array = [] # RMSE between the desired y-position and true y-postiion over time\n",
    "RMSE_z_con_array = [] # RMSE between the desired z-position and true z-postiion over time\n",
    "\n",
    "for i in range(trials):\n",
    "    (track_stats, data) = sim.run(controllers,\n",
    "                                  sensor_noise=0.01,\n",
    "                                  collect_data=True,\n",
    "                                  max_time=30.0,\n",
    "                                  verbose=False)\n",
    "    fail_time[i]= data[0][\"time\"][-1]\n",
    "    pos = np.array(data[0]['position'])\n",
    "\n",
    "    RMSE_x = np.sqrt(np.mean(np.square(np.array(pos[:,0]) - np.array(controller1.phat_history[1:,0]))))\n",
    "    RMSE_x_obs_array.append(RMSE_x)\n",
    "    RMSE_y = np.sqrt(np.mean(np.square(np.array(pos[:,1]) - np.array(controller1.phat_history[1:,1]))))\n",
    "    RMSE_y_obs_array.append(RMSE_y)  \n",
    "    RMSE_z = np.sqrt(np.mean(np.square(np.array(pos[:,2]) - np.array(controller1.phat_history[1:,2]))))\n",
    "    RMSE_z_obs_array.append(RMSE_z)\n",
    "\n",
    "    RMSE_x = np.sqrt(np.mean(np.square(np.array(controller1.pdes_history[1:,0]) - np.array(pos[:,0]))))\n",
    "    RMSE_x_con_array.append(RMSE_x)\n",
    "    RMSE_y = np.sqrt(np.mean(np.square(np.array(controller1.pdes_history[1:,1]) - np.array(pos[:,1]))))\n",
    "    RMSE_y_con_array.append(RMSE_y)\n",
    "    RMSE_z = np.sqrt(np.mean(np.square(np.array(controller1.pdes_history[1:,2]) - np.array(pos[:,2]))))\n",
    "    RMSE_z_con_array.append(RMSE_z)\n",
    "    \n",
    "    if (track_stats[0][\"completed_lap\"] == True):\n",
    "        num_laps += 1\n",
    "    controller1.reset()"
   ]
  },
  {
   "cell_type": "code",
   "execution_count": 225,
   "id": "097e177c-33b1-48c4-9530-54e7aece517c",
   "metadata": {},
   "outputs": [
    {
     "data": {
      "image/png": "[encoded data removed]",
      "text/latex": [
       "$\\displaystyle \\left[ \\right]$"
      ],
      "text/plain": [
       "[]"
      ]
     },
     "execution_count": 225,
     "metadata": {},
     "output_type": "execute_result"
    },
    {
     "data": {
      "image/png": "[encoded data removed]",
      "text/plain": [
       "<Figure size 640x480 with 1 Axes>"
      ]
     },
     "metadata": {},
     "output_type": "display_data"
    }
   ],
   "source": [
    "plt.hist(RMSE_x_obs_array,50)\n",
    "plt.xlabel(\"RMSE of Estimated X-position State and the Actual X Position (meters)\")\n",
    "plt.ylabel(\"Number of Simulations\")\n",
    "plt.title(\"RMSE of Estimated X-position State and the Actual X Position\")\n",
    "plt.plot()"
   ]
  },
  {
   "cell_type": "code",
   "execution_count": 226,
   "id": "11ca551b-9352-4a9c-895a-f8d4376f52f6",
   "metadata": {},
   "outputs": [
    {
     "data": {
      "image/png": "[encoded data removed]",
      "text/latex": [
       "$\\displaystyle \\left[ \\right]$"
      ],
      "text/plain": [
       "[]"
      ]
     },
     "execution_count": 226,
     "metadata": {},
     "output_type": "execute_result"
    },
    {
     "data": {
      "image/png": "[encoded data removed]",
      "text/plain": [
       "<Figure size 640x480 with 1 Axes>"
      ]
     },
     "metadata": {},
     "output_type": "display_data"
    }
   ],
   "source": [
    "plt.hist(RMSE_y_obs_array,50)\n",
    "plt.xlabel(\"RMSE of Estimated Y-position State and the Actual Y-Position (meters)\")\n",
    "plt.ylabel(\"Number of Simulations\")\n",
    "plt.title(\"RMSE of Estimated Y-position State and the Actual Y-Position\")\n",
    "plt.plot()"
   ]
  },
  {
   "cell_type": "code",
   "execution_count": 227,
   "id": "05e9d619-41cb-431c-affe-ae679ccafbef",
   "metadata": {},
   "outputs": [
    {
     "data": {
      "image/png": "[encoded data removed]",
      "text/latex": [
       "$\\displaystyle \\left[ \\right]$"
      ],
      "text/plain": [
       "[]"
      ]
     },
     "execution_count": 227,
     "metadata": {},
     "output_type": "execute_result"
    },
    {
     "data": {
      "image/png": "[encoded data removed]",
      "text/plain": [
       "<Figure size 640x480 with 1 Axes>"
      ]
     },
     "metadata": {},
     "output_type": "display_data"
    }
   ],
   "source": [
    "plt.hist(RMSE_z_obs_array,50)\n",
    "plt.xlabel(\"RMSE of Estimated Z-position State and the Actual Z-Position (meters)\")\n",
    "plt.ylabel(\"Number of Simulations\")\n",
    "plt.title(\"RMSE of Estimated Z-position State and the Actual Z-Position\")\n",
    "plt.plot()"
   ]
  },
  {
   "cell_type": "markdown",
   "id": "9ff4c385-37d9-47d6-a7a6-b9ad25df58ac",
   "metadata": {},
   "source": [
    "The RMSE is relatively low between the estimated positions and the actual position. This is great, as it means our drone is accurately estimating its position."
   ]
  },
  {
   "cell_type": "code",
   "execution_count": 228,
   "id": "fc775141-797e-45f8-a3b6-bd1c6db2857b",
   "metadata": {},
   "outputs": [
    {
     "data": {
      "image/png": "[encoded data removed]",
      "text/latex": [
       "$\\displaystyle \\left[ \\right]$"
      ],
      "text/plain": [
       "[]"
      ]
     },
     "execution_count": 228,
     "metadata": {},
     "output_type": "execute_result"
    },
    {
     "data": {
      "image/png": "[encoded data removed]",
      "text/plain": [
       "<Figure size 640x480 with 1 Axes>"
      ]
     },
     "metadata": {},
     "output_type": "display_data"
    }
   ],
   "source": [
    "plt.hist(RMSE_x_con_array,50)\n",
    "plt.xlabel(\"RMSE of Desired X-position State and the Actual X Position (meters)\")\n",
    "plt.ylabel(\"Number of Simulations\")\n",
    "plt.title(\"RMSE of Desired X-position State and the Actual X Position\")\n",
    "plt.plot()"
   ]
  },
  {
   "cell_type": "code",
   "execution_count": 254,
   "id": "f2666e62-5d20-4b3e-b959-fb667dfb97b0",
   "metadata": {},
   "outputs": [
    {
     "data": {
      "image/png": "[encoded data removed]",
      "text/latex": [
       "$\\displaystyle \\left[ \\right]$"
      ],
      "text/plain": [
       "[]"
      ]
     },
     "execution_count": 254,
     "metadata": {},
     "output_type": "execute_result"
    },
    {
     "data": {
      "image/png": "[encoded data removed]",
      "text/plain": [
       "<Figure size 640x480 with 1 Axes>"
      ]
     },
     "metadata": {},
     "output_type": "display_data"
    }
   ],
   "source": [
    "plt.hist(RMSE_y_con_array,50)\n",
    "plt.xlabel(\"RMSE of Desired Y-position State and the Actual Y Position (meters)\")\n",
    "plt.ylabel(\"Number of Simulations\")\n",
    "plt.title(\"RMSE of Desired Y-position State and the Actual Y Position\")\n",
    "plt.plot()"
   ]
  },
  {
   "cell_type": "code",
   "execution_count": 253,
   "id": "2bbbf485-e227-4237-874a-94d924ccc5d7",
   "metadata": {},
   "outputs": [
    {
     "data": {
      "image/png": "[encoded data removed]",
      "text/latex": [
       "$\\displaystyle \\left[ \\right]$"
      ],
      "text/plain": [
       "[]"
      ]
     },
     "execution_count": 253,
     "metadata": {},
     "output_type": "execute_result"
    },
    {
     "data": {
      "image/png": "[encoded data removed]",
      "text/plain": [
       "<Figure size 640x480 with 1 Axes>"
      ]
     },
     "metadata": {},
     "output_type": "display_data"
    }
   ],
   "source": [
    "plt.hist(RMSE_z_con_array,50)\n",
    "plt.xlabel(\"RMSE of Desired Z-position State and the True Z Position (meters)\")\n",
    "plt.ylabel(\"Number of Simulations\")\n",
    "plt.title(\"RMSE of Desired Z-position State and the True Z Position\")\n",
    "plt.plot()"
   ]
  },
  {
   "cell_type": "markdown",
   "id": "b50fa9ee-c7b7-4f0a-875d-aad2448f177b",
   "metadata": {},
   "source": [
    "The RMSE between the desired and the true positions are much greater than those of earlier, but this is because desired was always pointing towards the next gate. Since the RMSE isn't greater than 10, this means our controller wasn't too aggressive in its p_des decisions. "
   ]
  },
  {
   "cell_type": "code",
   "execution_count": 231,
   "id": "85a31941-1512-453c-a338-a7b0a008af06",
   "metadata": {},
   "outputs": [
    {
     "data": {
      "image/png": "[encoded data removed]",
      "text/latex": [
       "$\\displaystyle \\left[ \\right]$"
      ],
      "text/plain": [
       "[]"
      ]
     },
     "execution_count": 231,
     "metadata": {},
     "output_type": "execute_result"
    },
    {
     "data": {
      "image/png": "[encoded data removed]",
      "text/plain": [
       "<Figure size 640x480 with 1 Axes>"
      ]
     },
     "metadata": {},
     "output_type": "display_data"
    }
   ],
   "source": [
    "plt.hist(fail_time,50)\n",
    "plt.xlabel(\"Lap Time (seconds)\")\n",
    "plt.ylabel(\"Number of Simulations\")\n",
    "plt.title(\"Time for a Lap in Each Simulation\")\n",
    "plt.plot()"
   ]
  },
  {
   "cell_type": "code",
   "execution_count": 232,
   "id": "d64f8f23-f1e1-412e-8505-94f628cc6879",
   "metadata": {},
   "outputs": [
    {
     "data": {
      "text/plain": [
       "True"
      ]
     },
     "execution_count": 232,
     "metadata": {},
     "output_type": "execute_result"
    }
   ],
   "source": [
    "# If this is true, all simulations were successful\n",
    "(num_laps == 100)"
   ]
  }
 ],
 "metadata": {
  "kernelspec": {
   "display_name": "Python 3 (ipykernel)",
   "language": "python",
   "name": "python3"
  },
  "language_info": {
   "codemirror_mode": {
    "name": "ipython",
    "version": 3
   },
   "file_extension": ".py",
   "mimetype": "text/x-python",
   "name": "python",
   "nbconvert_exporter": "python",
   "pygments_lexer": "ipython3",
   "version": "3.11.7"
  }
 },
 "nbformat": 4,
 "nbformat_minor": 5
}
